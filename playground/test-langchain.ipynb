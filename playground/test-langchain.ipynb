{
 "cells": [
  {
   "cell_type": "code",
   "execution_count": null,
   "metadata": {},
   "outputs": [],
   "source": [
    "!pip install langchain-openai"
   ]
  },
  {
   "cell_type": "code",
   "execution_count": 2,
   "metadata": {},
   "outputs": [],
   "source": [
    "from langchain_openai import ChatOpenAI\n",
    "import os\n",
    "\n",
    "llm = ChatOpenAI(openai_api_key=os.getenv(\"OPENAI_API_KEY\"))"
   ]
  },
  {
   "cell_type": "code",
   "execution_count": 3,
   "metadata": {},
   "outputs": [
    {
     "data": {
      "text/plain": [
       "AIMessage(content='Langsmith can help with testing by providing automated testing tools and frameworks that can be used to test software applications, websites, and APIs. These tools can help streamline the testing process, improve test coverage, and identify bugs and issues early in the development cycle. Additionally, Langsmith can provide expertise in testing best practices and methodologies, as well as offer training and support for testing teams. Overall, Langsmith can help improve the efficiency and effectiveness of testing processes, leading to higher quality software products.', response_metadata={'finish_reason': 'stop', 'logprobs': None})"
      ]
     },
     "execution_count": 3,
     "metadata": {},
     "output_type": "execute_result"
    }
   ],
   "source": [
    "llm.invoke(\"how can langsmith help with testing?\")"
   ]
  },
  {
   "cell_type": "code",
   "execution_count": 4,
   "metadata": {},
   "outputs": [
    {
     "data": {
      "text/plain": [
       "AIMessage(content='Langsmith can help with testing in various ways:\\n\\n1. Automated Testing: Langsmith can be used to automate the testing process by writing test scripts in a simple and structured language. These scripts can be executed repeatedly to ensure the stability and reliability of the software under test.\\n\\n2. Test Data Generation: Langsmith can generate test data in a quick and efficient manner, helping testers to create a wide range of test scenarios without manual effort.\\n\\n3. Integration Testing: Langsmith can be used to define and execute integration tests to validate the interaction between different components of a system.\\n\\n4. Performance Testing: Langsmith can be used to simulate load and stress conditions on the system to evaluate its performance under different scenarios.\\n\\n5. Regression Testing: Langsmith can help in automating regression tests to ensure that new code changes do not introduce any unintended side effects in the existing functionality.\\n\\nOverall, Langsmith can streamline the testing process, improve test coverage, and ensure the quality of the software being developed.', response_metadata={'finish_reason': 'stop', 'logprobs': None})"
      ]
     },
     "execution_count": 4,
     "metadata": {},
     "output_type": "execute_result"
    }
   ],
   "source": [
    "from langchain_core.prompts import ChatPromptTemplate\n",
    "\n",
    "prompt = ChatPromptTemplate.from_messages([\n",
    "    (\"system\", \"You are world class technical documentation writer.\"),\n",
    "    (\"user\", \"{input}\")\n",
    "])\n",
    "chain = prompt | llm \n",
    "chain.invoke({\"input\": \"how can langsmith help with testing?\"})"
   ]
  },
  {
   "cell_type": "code",
   "execution_count": 5,
   "metadata": {},
   "outputs": [
    {
     "data": {
      "text/plain": [
       "\"Langsmith can be a valuable tool for testing software applications in several ways:\\n\\n1. Automated testing: Langsmith can assist in automating various testing tasks, such as running test scripts, executing test cases, and generating test reports. This can help improve the efficiency and accuracy of testing processes.\\n\\n2. Language support: Langsmith supports multiple programming languages, which can be beneficial for testing applications developed in different languages. Testers can use Langsmith to write and execute test scripts in the same language as the application being tested.\\n\\n3. Integration with testing frameworks: Langsmith can integrate with popular testing frameworks, such as JUnit, Pytest, and Mocha, making it easier to incorporate testing into the development workflow. This integration allows testers to leverage existing testing tools and frameworks to enhance their testing capabilities.\\n\\n4. Code analysis: Langsmith can analyze code for potential issues, such as syntax errors, code smells, and performance issues, helping testers identify and address issues before they impact the application's functionality.\\n\\n5. Collaboration: Langsmith provides collaboration features that allow testers to work together on testing tasks, share test scripts, and collaborate on test results. This can facilitate communication and coordination among team members, leading to more efficient testing processes.\\n\\nOverall, Langsmith can be a powerful ally for testing teams, helping them streamline testing processes, improve testing coverage, and deliver high-quality software applications.\""
      ]
     },
     "execution_count": 5,
     "metadata": {},
     "output_type": "execute_result"
    }
   ],
   "source": [
    "from langchain_core.output_parsers import StrOutputParser\n",
    "\n",
    "output_parser = StrOutputParser()\n",
    "chain = prompt | llm | output_parser\n",
    "chain.invoke({\"input\": \"how can langsmith help with testing?\"})"
   ]
  }
 ],
 "metadata": {
  "kernelspec": {
   "display_name": "Python 3",
   "language": "python",
   "name": "python3"
  },
  "language_info": {
   "codemirror_mode": {
    "name": "ipython",
    "version": 3
   },
   "file_extension": ".py",
   "mimetype": "text/x-python",
   "name": "python",
   "nbconvert_exporter": "python",
   "pygments_lexer": "ipython3",
   "version": "3.11.9"
  }
 },
 "nbformat": 4,
 "nbformat_minor": 2
}
