{
 "cells": [
  {
   "cell_type": "code",
   "execution_count": 6,
   "metadata": {},
   "outputs": [
    {
     "name": "stdout",
     "output_type": "stream",
     "text": [
      "[[-3.]\n",
      " [ 2.]\n",
      " [ 1.]]\n"
     ]
    }
   ],
   "source": [
    "from sklearn.decomposition import PCA\n",
    "\n",
    "# find PCA of the following vectors\n",
    "a = [1,2]\n",
    "b = [6,2]\n",
    "c = [5,2]\n",
    "\n",
    "# create a matrix from the vectors\n",
    "X = [a,b,c]\n",
    "\n",
    "# create a PCA object\n",
    "pca = PCA(n_components=1)\n",
    "\n",
    "# fit the PCA object to the matrix\n",
    "pca.fit(X)\n",
    "\n",
    "# transform the matrix\n",
    "X_pca = pca.transform(X)\n",
    "\n",
    "# print the transformed matrix\n",
    "print(X_pca)"
   ]
  }
 ],
 "metadata": {
  "kernelspec": {
   "display_name": "Python 3",
   "language": "python",
   "name": "python3"
  },
  "language_info": {
   "codemirror_mode": {
    "name": "ipython",
    "version": 3
   },
   "file_extension": ".py",
   "mimetype": "text/x-python",
   "name": "python",
   "nbconvert_exporter": "python",
   "pygments_lexer": "ipython3",
   "version": "3.10.14"
  }
 },
 "nbformat": 4,
 "nbformat_minor": 2
}
