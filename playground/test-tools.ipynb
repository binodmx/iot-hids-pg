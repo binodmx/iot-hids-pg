{
 "cells": [
  {
   "cell_type": "code",
   "execution_count": 1,
   "metadata": {},
   "outputs": [
    {
     "name": "stdout",
     "output_type": "stream",
     "text": [
      "evaluating 1 < 2\n"
     ]
    }
   ],
   "source": [
    "def evaluate_condition(a, b, op):\n",
    "    print(f\"evaluating {a} {op} {b}\")\n",
    "\n",
    "evaluate_condition(1, 2, \"<\")\n",
    "\n"
   ]
  },
  {
   "cell_type": "code",
   "execution_count": 6,
   "metadata": {},
   "outputs": [
    {
     "name": "stdout",
     "output_type": "stream",
     "text": [
      "evaluate_rule\n",
      "Evaluate the rule and return the macro f1-score.\n",
      "{'a': {'title': 'A', 'type': 'integer'}, 'b': {'title': 'B', 'type': 'integer'}, 'op': {'title': 'Op', 'type': 'string'}}\n",
      "{'title': 'evaluate_ruleSchema', 'description': 'Evaluate the rule and return the macro f1-score.', 'type': 'object', 'properties': {'a': {'title': 'A', 'type': 'integer'}, 'b': {'title': 'B', 'type': 'integer'}, 'op': {'title': 'Op', 'type': 'string'}}, 'required': ['a', 'b', 'op']}\n",
      "False\n",
      "True\n"
     ]
    }
   ],
   "source": [
    "import operator\n",
    "from langchain_core.tools import tool\n",
    "\n",
    "operations = {'<': operator.lt, '>': operator.gt, '==': operator.eq, '<=': operator.le, '>=': operator.ge, '!=': operator.ne}\n",
    "\n",
    "@tool\n",
    "def evaluate_rule(a: int, b: int, op: str) -> bool:\n",
    "    \"\"\"Evaluate the rule and return the macro f1-score.\"\"\"\n",
    "    if op in operations:\n",
    "        return operations[op](a, b)\n",
    "    else:\n",
    "        raise ValueError(f\"Unsupported operator: {op}\")\n",
    "\n",
    "# Example usage:\n",
    "print(evaluate_rule.name)\n",
    "print(evaluate_rule.description)\n",
    "print(evaluate_rule.args)\n",
    "print(evaluate_rule.args_schema.schema())\n",
    "print(evaluate_rule.return_direct)\n",
    "\n",
    "# Let's invoke the tool.\n",
    "print(evaluate_rule.invoke({\"a\": 3, \"b\": 3, \"op\": \"==\"}))\n"
   ]
  },
  {
   "cell_type": "code",
   "execution_count": 11,
   "metadata": {},
   "outputs": [
    {
     "name": "stdout",
     "output_type": "stream",
     "text": [
      "{'n': 0, 'normal_entries': 2, 'attack_entries': 'a', 'msgs': []}\n"
     ]
    }
   ],
   "source": [
    "def get_initial_state():\n",
    "  n = 0\n",
    "  normal_entries = 2\n",
    "  attack_entries = \"a\"\n",
    "  msgs = []\n",
    "  return locals()\n",
    "\n",
    "print(get_initial_state())"
   ]
  },
  {
   "cell_type": "code",
   "execution_count": 29,
   "metadata": {},
   "outputs": [
    {
     "data": {
      "text/plain": [
       "ChatPromptValue(messages=[SystemMessage(content='You are a chatbot'), HumanMessage(content='How are you? my name is John'), SystemMessage(content='Hi {name}'), AIMessage(content='Hi {name}')])"
      ]
     },
     "execution_count": 29,
     "metadata": {},
     "output_type": "execute_result"
    }
   ],
   "source": [
    "from langchain_core.prompts import ChatPromptTemplate, MessagesPlaceholder\n",
    "from langchain_core.messages import AIMessage\n",
    "\n",
    "prompt = ChatPromptTemplate.from_messages([\n",
    "    (\"system\", \"You are a chatbot\"),\n",
    "    (\"user\", \"How are you? my name is {name}\"),\n",
    "    # (\"system\", \"Hi {name}\"),\n",
    "    # AIMessage(\"Hi {name}\")\n",
    "    MessagesPlaceholder(\"msgs\"),\n",
    "])\n",
    "\n",
    "prompt.invoke({\"name\": \"John\", \"msgs\": [(\"system\", \"Hi {name}\"), AIMessage(\"Hi {name}\")]})\n"
   ]
  }
 ],
 "metadata": {
  "kernelspec": {
   "display_name": "Python 3",
   "language": "python",
   "name": "python3"
  },
  "language_info": {
   "codemirror_mode": {
    "name": "ipython",
    "version": 3
   },
   "file_extension": ".py",
   "mimetype": "text/x-python",
   "name": "python",
   "nbconvert_exporter": "python",
   "pygments_lexer": "ipython3",
   "version": "3.10.14"
  }
 },
 "nbformat": 4,
 "nbformat_minor": 2
}
