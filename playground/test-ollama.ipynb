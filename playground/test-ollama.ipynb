{
 "cells": [
  {
   "cell_type": "code",
   "execution_count": 2,
   "metadata": {},
   "outputs": [
    {
     "name": "stdout",
     "output_type": "stream",
     "text": [
      "{'model': 'gemma:2b', 'created_at': '2024-06-15T11:54:39.753524661Z', 'response': \"The sky is blue due to Rayleigh scattering. Rayleigh scattering is the scattering of light waves by particles of a much smaller wavelength. This means that blue light, with its shorter wavelength, is scattered more effectively than longer-wavelength colors like red and yellow.\\n\\nHere's how it works:\\n\\n* **Sunlight** is composed of all the colors of the rainbow, with blue light having the longest wavelengths.\\n* **Air molecules** in the Earth's atmosphere are much smaller than the wavelengths of light.\\n* **Blue light** has a shorter wavelength than other colors, so it interacts more strongly with the air molecules.\\n* When blue light interacts with the molecules, it is scattered in all directions.\\n* This scattered light appears blue to us because our eyes are sensitive to blue light.\\n\\nTherefore, the sky appears blue because of the scattering of sunlight by air molecules.\", 'done': True, 'context': [106, 1645, 108, 4385, 603, 573, 8203, 3868, 235336, 107, 108, 106, 2516, 108, 651, 8203, 603, 3868, 3402, 577, 153902, 38497, 235265, 153902, 38497, 603, 573, 38497, 576, 2611, 15336, 731, 16071, 576, 476, 1683, 9595, 35571, 235265, 1417, 3454, 674, 3868, 2611, 235269, 675, 1277, 25270, 35571, 235269, 603, 30390, 978, 16347, 1178, 5543, 235290, 151571, 9276, 1154, 3118, 578, 8123, 235265, 109, 4858, 235303, 235256, 1368, 665, 3598, 235292, 109, 235287, 5231, 219715, 688, 603, 18588, 576, 832, 573, 9276, 576, 573, 30088, 235269, 675, 3868, 2611, 3372, 573, 32514, 95178, 235265, 108, 235287, 5231, 12862, 24582, 688, 575, 573, 10379, 235303, 235256, 13795, 708, 1683, 9595, 1178, 573, 95178, 576, 2611, 235265, 108, 235287, 5231, 10716, 2611, 688, 919, 476, 25270, 35571, 1178, 1156, 9276, 235269, 712, 665, 113211, 978, 16066, 675, 573, 2681, 24582, 235265, 108, 235287, 3194, 3868, 2611, 113211, 675, 573, 24582, 235269, 665, 603, 30390, 575, 832, 16759, 235265, 108, 235287, 1417, 30390, 2611, 8149, 3868, 577, 917, 1861, 1167, 4628, 708, 16955, 577, 3868, 2611, 235265, 109, 24160, 235269, 573, 8203, 8149, 3868, 1861, 576, 573, 38497, 576, 33365, 731, 2681, 24582, 235265, 107, 108], 'total_duration': 14020459687, 'load_duration': 3082715, 'prompt_eval_count': 11, 'prompt_eval_duration': 508086000, 'eval_count': 179, 'eval_duration': 13460672000}\n"
     ]
    }
   ],
   "source": [
    "import requests\n",
    "import json\n",
    "\n",
    "url = \"http://localhost:11434/api/generate\"\n",
    "data = {\n",
    "    \"model\": \"gemma:2b\",\n",
    "    \"prompt\": \"Why is the sky blue?\",\n",
    "    \"stream\": False\n",
    "}\n",
    "\n",
    "response = requests.post(url, data=json.dumps(data))\n",
    "print(response.json())\n",
    "\n",
    "# curl http://localhost:11434/api/generate -d '{ \"model\": \"gemma:2b\", \"prompt\":\"Why is the sky blue?\", \"stream\": false }'"
   ]
  },
  {
   "cell_type": "code",
   "execution_count": 7,
   "metadata": {},
   "outputs": [
    {
     "name": "stdout",
     "output_type": "stream",
     "text": [
      "The sky appears blue due to Rayleigh scattering. Rayleigh scattering is the scattering of light waves by particles smaller than the wavelength of light. Blue light has a shorter wavelength than other colors of light, so it is scattered more strongly. This is why the sky appears blue.\n"
     ]
    }
   ],
   "source": [
    "import ollama\n",
    "\n",
    "response = ollama.chat(model='gemma:2b', messages=[\n",
    "  {\n",
    "    'role': 'user',\n",
    "    'content': 'Why is the sky blue?',\n",
    "  },\n",
    "])\n",
    "print(response['message']['content'])"
   ]
  },
  {
   "cell_type": "code",
   "execution_count": 9,
   "metadata": {},
   "outputs": [
    {
     "name": "stdout",
     "output_type": "stream",
     "text": [
      "What do you call a space travel disaster?\n",
      "\n",
      "A mission to the moon!\n"
     ]
    }
   ],
   "source": [
    "# LangChain supports many other chat models. Here, we're using Ollama\n",
    "from langchain_community.chat_models import ChatOllama\n",
    "from langchain_core.output_parsers import StrOutputParser\n",
    "from langchain_core.prompts import ChatPromptTemplate\n",
    "\n",
    "# supports many more optional parameters. Hover on your `ChatOllama(...)`\n",
    "# class to view the latest available supported parameters\n",
    "llm = ChatOllama(model=\"gemma:2b\")\n",
    "prompt = ChatPromptTemplate.from_template(\"Tell me a short joke about {topic}\")\n",
    "\n",
    "# using LangChain Expressive Language chain syntax\n",
    "# learn more about the LCEL on\n",
    "# /docs/expression_language/why\n",
    "chain = prompt | llm | StrOutputParser()\n",
    "\n",
    "# for brevity, response is printed in terminal\n",
    "# You can use LangServe to deploy your application for\n",
    "# production\n",
    "print(chain.invoke({\"topic\": \"Space travel\"}))"
   ]
  }
 ],
 "metadata": {
  "kernelspec": {
   "display_name": "Python 3",
   "language": "python",
   "name": "python3"
  },
  "language_info": {
   "codemirror_mode": {
    "name": "ipython",
    "version": 3
   },
   "file_extension": ".py",
   "mimetype": "text/x-python",
   "name": "python",
   "nbconvert_exporter": "python",
   "pygments_lexer": "ipython3",
   "version": "3.11.9"
  }
 },
 "nbformat": 4,
 "nbformat_minor": 2
}
