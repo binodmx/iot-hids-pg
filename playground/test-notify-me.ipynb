{
 "cells": [
  {
   "cell_type": "code",
   "execution_count": 1,
   "metadata": {},
   "outputs": [],
   "source": [
    "import requests\n",
    "import json\n",
    "\n",
    "def notifyMe(title, body, otn, accessKey):\n",
    "    url = \"https://www.appsheet.com/api/v2/apps/520fb099-21b2-4c4f-80df-08196ccd1dcf/tables/Notifications/Action?applicationAccessKey=\" + accessKey\n",
    "    headers = {\n",
    "        'Content-Type': 'application/json',\n",
    "    }\n",
    "    data = {\n",
    "        \"Action\": \"Add\",\n",
    "        \"Properties\": {\n",
    "            \"Locale\": \"en-US\",\n",
    "            \"Timezone\": \"AUS Eastern Standard Time\"\n",
    "        },\n",
    "        \"Rows\": [\n",
    "            {\n",
    "                \"Title\": title,\n",
    "                \"Body\": body,\n",
    "                \"Thumbnail\": \"https://cdn-icons-png.flaticon.com/128/1587/1587565.png\",\n",
    "                \"OTN\": otn\n",
    "            }\n",
    "        ]\n",
    "    }\n",
    "    requests.post(url, headers=headers, data=json.dumps(data))"
   ]
  },
  {
   "cell_type": "code",
   "execution_count": 2,
   "metadata": {},
   "outputs": [],
   "source": [
    "import os\n",
    "import dotenv\n",
    "\n",
    "dotenv.load_dotenv(os.getcwd() + \"/../.env\")\n",
    "notifyMe(\"Python Notebook\", \"This is a test notification\", True, os.getenv(\"NOTIFICATIONS_API_KEY\"))\n"
   ]
  }
 ],
 "metadata": {
  "kernelspec": {
   "display_name": "Python 3",
   "language": "python",
   "name": "python3"
  },
  "language_info": {
   "codemirror_mode": {
    "name": "ipython",
    "version": 3
   },
   "file_extension": ".py",
   "mimetype": "text/x-python",
   "name": "python",
   "nbconvert_exporter": "python",
   "pygments_lexer": "ipython3",
   "version": "3.10.14"
  }
 },
 "nbformat": 4,
 "nbformat_minor": 2
}
