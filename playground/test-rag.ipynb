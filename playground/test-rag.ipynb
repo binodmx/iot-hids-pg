{
 "cells": [
  {
   "cell_type": "code",
   "execution_count": null,
   "metadata": {},
   "outputs": [],
   "source": [
    "from langchain_core.prompts import PromptTemplate\n",
    "from langchain_core.pydantic_v1 import BaseModel, Field\n",
    "\n",
    "class Metadata(BaseModel):\n",
    "    keywords: list[str] = Field(description=\"Keywords useful to filter journal entries\")\n",
    "    date_based: bool = Field(description=\"Whether the query is date-based or not\")\n",
    "    date_range: list[str] = Field(description=\"Date range if the query is date-based\")\n",
    "\n",
    "# NOTE: boolean values should be lower case, otherwise the output parser will fail\n",
    "def metdata_prompt():\n",
    "    template = \"\"\"\n",
    "    From the following query, extract the keywords useful to filter journal\n",
    "    entries as python list of strings. Then identify whether the query is \n",
    "    date-based or not. If it is date-based then extract the date range. \n",
    "    Finally output the keywords, date-based, and date range as a json object.\n",
    "    \n",
    "    Example:\n",
    "        Query: \"What is my biggest achievement in April 2024?\"\n",
    "        Response: {{\n",
    "            \"keywords\": [\"achievement\", \"success\", \"win\"],\n",
    "            \"date_based\": true,\n",
    "            \"date_range\": [\"4/01/2024\", \"4/30/2024\"]\n",
    "            }}\n",
    "            \n",
    "        Query: \"When did I last visit the doctor?\"\n",
    "        Response: {{\n",
    "            \"keywords\": [\"doctor\", \"sick\", \"medicine\"],\n",
    "            \"date_based\": false,\n",
    "            \"date_range\": []\n",
    "            }}\n",
    "    \n",
    "    Query: {query}\n",
    "    Response:\n",
    "    \"\"\"\n",
    "    return PromptTemplate(\n",
    "        template=template,\n",
    "        input_variables=[\"query\"]\n",
    "        )\n",
    "\n",
    "print(metdata_prompt().invoke({\"query\": \"When did I eat apple last?\"}).to_string())\n",
    "    "
   ]
  }
 ],
 "metadata": {
  "language_info": {
   "name": "python"
  },
  "orig_nbformat": 4
 },
 "nbformat": 4,
 "nbformat_minor": 2
}
