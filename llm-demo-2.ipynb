{
 "cells": [
  {
   "cell_type": "markdown",
   "metadata": {},
   "source": [
    "# Dataset\n",
    "\n",
    "- Paper: Detecting Volumetric Attacks on loT Devices via SDN-Based Monitoring of MUD Activity\n",
    "- Link: https://dl.acm.org/doi/10.1145/3314148.3314352\n",
    "- Published in: SOSR '19: Proceedings of the 2019 ACM Symposium on SDN Research\n",
    "- Date: 03 April 2019"
   ]
  },
  {
   "cell_type": "code",
   "execution_count": 2,
   "metadata": {},
   "outputs": [
    {
     "name": "stderr",
     "output_type": "stream",
     "text": [
      "WARNING: No libpcap provider available ! pcap won't be used\n"
     ]
    },
    {
     "name": "stdout",
     "output_type": "stream",
     "text": [
      "1935998\n"
     ]
    }
   ],
   "source": [
    "from scapy.all import *\n",
    "\n",
    "# read the pcap file\n",
    "pcap = rdpcap('data/18-10-27.pcap')\n",
    "# print the number of packets\n",
    "print(len(pcap))"
   ]
  },
  {
   "cell_type": "code",
   "execution_count": 3,
   "metadata": {},
   "outputs": [
    {
     "name": "stdout",
     "output_type": "stream",
     "text": [
      "Number of packets: 1935998\n",
      "Summary of a packet: Ether / IP / TCP 54.85.78.92:https > 192.168.1.216:54251 PA / Raw\n",
      "###[ Ethernet ]### \n",
      "  dst       = 14:cc:20:51:33:ea\n",
      "  src       = e0:76:d0:3f:00:ae\n",
      "  type      = IPv4\n",
      "###[ IP ]### \n",
      "     version   = 4\n",
      "     ihl       = 5\n",
      "     tos       = 0x0\n",
      "     len       = 182\n",
      "     id        = 46366\n",
      "     flags     = DF\n",
      "     frag      = 0\n",
      "     ttl       = 64\n",
      "     proto     = tcp\n",
      "     chksum    = 0x3df2\n",
      "     src       = 192.168.1.216\n",
      "     dst       = 54.85.78.92\n",
      "     \\options   \\\n",
      "###[ TCP ]### \n",
      "        sport     = 54251\n",
      "        dport     = https\n",
      "        seq       = 99277396\n",
      "        ack       = 616862861\n",
      "        dataofs   = 8\n",
      "        reserved  = 0\n",
      "        flags     = PA\n",
      "        window    = 1321\n",
      "        chksum    = 0x51be\n",
      "        urgptr    = 0\n",
      "        options   = [('NOP', None), ('NOP', None), ('Timestamp', (766103, 1244438772))]\n",
      "###[ Raw ]### \n",
      "           load      = '\\x17\\x03\\x03\\x00}G\\x06\\\\\\t\\\\xf7+k毰\\\\xdd$\\\\xa7\\\\xf8]&\\\\xa3Y\\\\xf20\\x11\\\\xd6Dm<\\\\xba\")\\n\\\\xf0\\\\xc4-`\\\\xa0\\\\xd6\\\\xf4\\x12\\\\x95h\\\\xb3\\\\xd5\\\\xc4.\\\\x8d\\x08\\\\xf7\\\\xaeD\\\\xa1{\\\\xf7\\x1f\\\\x98\\\\x9dGI\\\\xa5\\\\xa5\\\\x8f\\x11\\\\x85d\\\\xcb\\\\xf2\\x0e\\\\xa3[x\\x07&\\r\\\\xd38\\\\xf8F\\\\x8dTd\\\\xbe\\\\xf1\\\\x91\\\\xc94\\x00gs\\\\xde\\x02\"tJG7A\\\\xbb\\\\x96f\\t\\tt\\\\xa6\\\\x95\\\\xf2\\\\xf8\\\\xcf\\\\xdd黲ʽ\\x014\\\\xe2\\x104-\\x05?t\\t\\\\xdf\\x1c\\\\xafv'\n",
      "\n",
      "Data of a packet: None\n"
     ]
    }
   ],
   "source": [
    "print(\"Number of packets:\", len(pcap))\n",
    "print(\"Summary of a packet:\", pcap[0].summary())\n",
    "print(\"Data of a packet:\", pcap[1].show())\n"
   ]
  },
  {
   "cell_type": "code",
   "execution_count": null,
   "metadata": {},
   "outputs": [],
   "source": []
  }
 ],
 "metadata": {
  "kernelspec": {
   "display_name": "Python 3",
   "language": "python",
   "name": "python3"
  },
  "language_info": {
   "codemirror_mode": {
    "name": "ipython",
    "version": 3
   },
   "file_extension": ".py",
   "mimetype": "text/x-python",
   "name": "python",
   "nbconvert_exporter": "python",
   "pygments_lexer": "ipython3",
   "version": "3.11.9"
  }
 },
 "nbformat": 4,
 "nbformat_minor": 2
}
