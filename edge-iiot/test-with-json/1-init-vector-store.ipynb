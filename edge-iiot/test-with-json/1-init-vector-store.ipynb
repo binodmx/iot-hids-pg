{
 "cells": [
  {
   "cell_type": "markdown",
   "metadata": {},
   "source": [
    "### Load and save dataset as json"
   ]
  },
  {
   "cell_type": "code",
   "execution_count": 2,
   "metadata": {},
   "outputs": [
    {
     "name": "stdout",
     "output_type": "stream",
     "text": [
      "Training set size:  (39517, 61)\n",
      "Test set size:  (9879, 61)\n"
     ]
    }
   ],
   "source": [
    "import pandas as pd\n",
    "import os\n",
    "import json\n",
    "\n",
    "# Load dateset\n",
    "attack_types = ['DDoS_HTTP', 'DDoS_UDP', 'DDoS_ICMP', 'DDoS_TCP']\n",
    "df = pd.read_csv(os.getcwd() + '/../data/edge-iiot/Edge-IIoTset dataset/Selected dataset for ML and DL/ML-EdgeIIoT-dataset.csv', low_memory=False)\n",
    "ddos_df = df[df['Attack_type'].isin(attack_types)]\n",
    "ddos_df = ddos_df.drop(columns=['Attack_label', 'Attack_type'])\n",
    "ddos_df_train = ddos_df.sample(frac=0.8, random_state=42)\n",
    "ddos_df_test = ddos_df.drop(ddos_df_train.index)\n",
    "\n",
    "print(\"Training set size: \", ddos_df_train.shape)\n",
    "print(\"Test set size: \", ddos_df_test.shape)\n",
    "\n",
    "# Save dataset to json\n",
    "with open('edge-iiotset-ddos-train.json', 'w') as f:\n",
    "    json.dump(ddos_df_train.to_dict(orient='records'), f, indent=4)\n",
    "\n",
    "with open('edge-iiotset-ddos-test.json', 'w') as f:\n",
    "    json.dump(ddos_df_test.to_dict(orient='records'), f, indent=4)"
   ]
  },
  {
   "cell_type": "code",
   "execution_count": 3,
   "metadata": {},
   "outputs": [
    {
     "name": "stdout",
     "output_type": "stream",
     "text": [
      "Training set size:  (19198, 61)\n",
      "Test set size:  (5103, 61)\n"
     ]
    }
   ],
   "source": [
    "import pandas as pd\n",
    "import os\n",
    "import json\n",
    "\n",
    "# Load dateset\n",
    "attack_types = ['Normal']\n",
    "df = pd.read_csv(os.getcwd() + '/../data/edge-iiot/Edge-IIoTset dataset/Selected dataset for ML and DL/ML-EdgeIIoT-dataset.csv', low_memory=False)\n",
    "normal_df = df[df['Attack_type'].isin(attack_types)]\n",
    "normal_df = normal_df.drop(columns=['Attack_label', 'Attack_type'])\n",
    "normal_df_train = normal_df.sample(frac=0.79, random_state=42)\n",
    "normal_df_test = normal_df.drop(normal_df_train.index)\n",
    "\n",
    "print(\"Training set size: \", normal_df_train.shape)\n",
    "print(\"Test set size: \", normal_df_test.shape)\n",
    "\n",
    "# Save dataset to json\n",
    "# with open('edge-iiotset-normal-train.json', 'w') as f:\n",
    "#     json.dump(normal_df_train.to_dict(orient='records'), f, indent=4)\n",
    "\n",
    "# with open('edge-iiotset-normal-test.json', 'w') as f:\n",
    "#     json.dump(normal_df_test.to_dict(orient='records'), f, indent=4)"
   ]
  },
  {
   "cell_type": "markdown",
   "metadata": {},
   "source": [
    "### Save dataset (training set) as a vector store\n",
    "\n",
    "Using following tools\n",
    "- [Chroma db](https://docs.trychroma.com/getting-started)\n",
    "- [Langchain chroma integration](https://python.langchain.com/v0.2/docs/integrations/vectorstores/chroma/)\n",
    "\n",
    "Saving only 100 records as it takes 0.1min per record to save."
   ]
  },
  {
   "cell_type": "code",
   "execution_count": 11,
   "metadata": {},
   "outputs": [],
   "source": [
    "import json\n",
    "\n",
    "# Load json dataset from json\n",
    "with open('edge-iiotset-ddos-train.json', 'r') as f:\n",
    "    ddos_json_train = json.load(f)\n",
    "\n",
    "with open('edge-iiotset-normal-train.json', 'r') as f:\n",
    "    normal_json_train = json.load(f)"
   ]
  },
  {
   "cell_type": "code",
   "execution_count": 12,
   "metadata": {},
   "outputs": [
    {
     "name": "stderr",
     "output_type": "stream",
     "text": [
      "Adding ddos documents to vector store: 100%|██████████████████████████| 8/8 [00:10<00:00,  1.25s/it]\n",
      "Adding normal documents to vector store: 100%|████████████████████████| 8/8 [00:11<00:00,  1.44s/it]"
     ]
    },
    {
     "name": "stdout",
     "output_type": "stream",
     "text": [
      "Total number of documents added: 64\n"
     ]
    },
    {
     "name": "stderr",
     "output_type": "stream",
     "text": [
      "\n"
     ]
    }
   ],
   "source": [
    "# pip install langchain\n",
    "# pip install langchain-huggingface\n",
    "# pip install sentence-transformers\n",
    "# https://huggingface.co/sentence-transformers/all-MiniLM-L6-v2\n",
    "# https://python.langchain.com/v0.2/docs/integrations/text_embedding/huggingfacehub/\n",
    "\n",
    "from langchain_openai import OpenAIEmbeddings\n",
    "from langchain_community.embeddings.ollama import OllamaEmbeddings\n",
    "from langchain_huggingface.embeddings import HuggingFaceEmbeddings\n",
    "from langchain_community.vectorstores import Chroma\n",
    "from langchain_core.documents import Document\n",
    "from tqdm import tqdm\n",
    "import os\n",
    "import dotenv\n",
    "\n",
    "# Initialize embeddings\n",
    "\n",
    "# 1. OpenAIEmbeddings\n",
    "# dotenv.load_dotenv()\n",
    "# API_KEY = os.getenv(\"MY_OPENAI_API_KEY\")\n",
    "# embeddings = OpenAIEmbeddings(model=\"text-embedding-3-large\", openai_api_key=API_KEY)\n",
    "\n",
    "# 2. OllamaEmbeddings\n",
    "# embeddings = OllamaEmbeddings(model=\"all-minilm\")\n",
    "\n",
    "# 3. HuggingFaceEmbeddings\n",
    "embeddings = HuggingFaceEmbeddings()\n",
    "\n",
    "# Initialize vector store\n",
    "vector_store = Chroma(\n",
    "    collection_name=\"edge-iiotset\",\n",
    "    embedding_function=embeddings, \n",
    "    persist_directory=\"./chroma_langchain_db\")\n",
    "\n",
    "# Add batched documents to vector store\n",
    "batch_size = 4\n",
    "total_ddos_documents = 32\n",
    "total_normal_documents = 32\n",
    "\n",
    "for i in tqdm(range(0, total_ddos_documents, batch_size), ncols=100, desc=\"Adding ddos documents to vector store\"):\n",
    "    documents = [Document(page_content=str(ddos_json_train[i+j]), metadata={\"source\": \"edge-iiotset\", \"label\": \"ddos\"}) for j in range(min(batch_size, total_ddos_documents-i))]\n",
    "    vector_store.add_documents(documents)\n",
    "\n",
    "for i in tqdm(range(0, total_normal_documents, batch_size), ncols=100, desc=\"Adding normal documents to vector store\"):\n",
    "    documents = [Document(page_content=str(normal_json_train[i+j]), metadata={\"source\": \"edge-iiotset\", \"label\": \"normal\"}) for j in range(min(batch_size, total_normal_documents-i))]\n",
    "    vector_store.add_documents(documents)\n",
    "\n",
    "vector_store.persist()\n",
    "print(f\"Total number of documents added: {total_ddos_documents+total_normal_documents}\")"
   ]
  },
  {
   "cell_type": "markdown",
   "metadata": {},
   "source": [
    "### Retrieve similar documents from vector store"
   ]
  },
  {
   "cell_type": "code",
   "execution_count": 1,
   "metadata": {},
   "outputs": [],
   "source": [
    "import json\n",
    "\n",
    "# Load json dataset from json\n",
    "with open('edge-iiotset-ddos-test.json', 'r') as f:\n",
    "    ddos_json_test = json.load(f)\n",
    "\n",
    "with open('edge-iiotset-normal-test.json', 'r') as f:\n",
    "    normal_json_test = json.load(f)"
   ]
  },
  {
   "cell_type": "code",
   "execution_count": 14,
   "metadata": {},
   "outputs": [
    {
     "name": "stdout",
     "output_type": "stream",
     "text": [
      "Query document: {'frame.time': ' 2021 11:35:30.015530000 ', 'ip.src_host': '192.168.0.170', 'ip.dst_host': '192.168.0.128', 'arp.dst.proto_ipv4': '0', 'arp.opcode': 0.0, 'arp.hw.size': 0.0, 'arp.src.proto_ipv4': '0', 'icmp.checksum': 0.0, 'icmp.seq_le': 0.0, 'icmp.transmit_timestamp': 0.0, 'icmp.unused': 0.0, 'http.file_data': '0', 'http.content_length': 0.0, 'http.request.uri.query': '0.0', 'http.request.method': '0', 'http.referer': '0', 'http.request.full_uri': '0', 'http.request.version': '0', 'http.response': 0.0, 'http.tls_port': 0.0, 'tcp.ack': 0.0, 'tcp.ack_raw': 0.0, 'tcp.checksum': 10089.0, 'tcp.connection.fin': 0.0, 'tcp.connection.rst': 0.0, 'tcp.connection.syn': 1.0, 'tcp.connection.synack': 0.0, 'tcp.dstport': 80.0, 'tcp.flags': 2.0, 'tcp.flags.ack': 0.0, 'tcp.len': 0.0, 'tcp.options': '020405b40402080a0aa4805a0000000001030307', 'tcp.payload': '0', 'tcp.seq': 0.0, 'tcp.srcport': '56070.0', 'udp.port': 0.0, 'udp.stream': 0.0, 'udp.time_delta': 0.0, 'dns.qry.name': 0.0, 'dns.qry.name.len': '0.0', 'dns.qry.qu': 0.0, 'dns.qry.type': 0.0, 'dns.retransmission': 0.0, 'dns.retransmit_request': 0.0, 'dns.retransmit_request_in': 0.0, 'mqtt.conack.flags': '0.0', 'mqtt.conflag.cleansess': 0.0, 'mqtt.conflags': 0.0, 'mqtt.hdrflags': 0.0, 'mqtt.len': 0.0, 'mqtt.msg_decoded_as': 0.0, 'mqtt.msg': '0.0', 'mqtt.msgtype': 0.0, 'mqtt.proto_len': 0.0, 'mqtt.protoname': '0.0', 'mqtt.topic': '0.0', 'mqtt.topic_len': 0.0, 'mqtt.ver': 0.0, 'mbtcp.len': 0.0, 'mbtcp.trans_id': 0.0, 'mbtcp.unit_id': 0.0}\n",
      "Label of result documents: ['ddos', 'ddos', 'normal', 'ddos', 'ddos']\n",
      "Query document: {'frame.time': ' 2021 11:44:57.557083000 ', 'ip.src_host': '192.168.0.128', 'ip.dst_host': '192.168.0.101', 'arp.dst.proto_ipv4': '0', 'arp.opcode': 0.0, 'arp.hw.size': 0.0, 'arp.src.proto_ipv4': '0', 'icmp.checksum': 0.0, 'icmp.seq_le': 0.0, 'icmp.transmit_timestamp': 0.0, 'icmp.unused': 0.0, 'http.file_data': '0.0', 'http.content_length': 0.0, 'http.request.uri.query': '0.0', 'http.request.method': '0.0', 'http.referer': '0.0', 'http.request.full_uri': '0.0', 'http.request.version': '0.0', 'http.response': 0.0, 'http.tls_port': 0.0, 'tcp.ack': 15.0, 'tcp.ack_raw': 3506859516.0, 'tcp.checksum': 58565.0, 'tcp.connection.fin': 0.0, 'tcp.connection.rst': 0.0, 'tcp.connection.syn': 0.0, 'tcp.connection.synack': 0.0, 'tcp.dstport': 64903.0, 'tcp.flags': 24.0, 'tcp.flags.ack': 1.0, 'tcp.len': 4.0, 'tcp.options': '0', 'tcp.payload': '20020000', 'tcp.seq': 1.0, 'tcp.srcport': '1883.0', 'udp.port': 0.0, 'udp.stream': 0.0, 'udp.time_delta': 0.0, 'dns.qry.name': 0.0, 'dns.qry.name.len': '0', 'dns.qry.qu': 0.0, 'dns.qry.type': 0.0, 'dns.retransmission': 0.0, 'dns.retransmit_request': 0.0, 'dns.retransmit_request_in': 0.0, 'mqtt.conack.flags': '0x00000000', 'mqtt.conflag.cleansess': 0.0, 'mqtt.conflags': 0.0, 'mqtt.hdrflags': 32.0, 'mqtt.len': 2.0, 'mqtt.msg_decoded_as': 0.0, 'mqtt.msg': '0', 'mqtt.msgtype': 2.0, 'mqtt.proto_len': 0.0, 'mqtt.protoname': '0', 'mqtt.topic': '0', 'mqtt.topic_len': 0.0, 'mqtt.ver': 0.0, 'mbtcp.len': 0.0, 'mbtcp.trans_id': 0.0, 'mbtcp.unit_id': 0.0}\n",
      "Label of result documents: ['normal', 'normal', 'normal', 'normal', 'normal']\n"
     ]
    }
   ],
   "source": [
    "from langchain_community.embeddings.ollama import OllamaEmbeddings\n",
    "from langchain_community.vectorstores import Chroma\n",
    "\n",
    "embeddings = OllamaEmbeddings(model=\"all-minilm\")\n",
    "vector_store = Chroma(\n",
    "    collection_name=\"edge-iiotset\",\n",
    "    embedding_function=embeddings, \n",
    "    persist_directory=\"./chroma_langchain_db\")\n",
    "retriever = vector_store.as_retriever(search_type=\"mmr\", search_kwargs={\"k\": 5, \"fetch_k\": 5})\n",
    "\n",
    "query_document = ddos_json_test[0]\n",
    "similar_documents = retriever.invoke(query_document, filter={\"source\": \"edge-iiotset\"})\n",
    "print(\"Query document:\", query_document)\n",
    "print(\"Label of result documents:\", [doc.metadata[\"label\"] for doc in similar_documents])\n",
    "\n",
    "query_document = normal_json_test[0]\n",
    "similar_documents = retriever.invoke(query_document, filter={\"source\": \"edge-iiotset\"})\n",
    "print(\"Query document:\", query_document)\n",
    "print(\"Label of result documents:\", [doc.metadata[\"label\"] for doc in similar_documents])"
   ]
  }
 ],
 "metadata": {
  "kernelspec": {
   "display_name": "Python 3.10.14 ('llm': conda)",
   "language": "python",
   "name": "python3"
  },
  "language_info": {
   "codemirror_mode": {
    "name": "ipython",
    "version": 3
   },
   "file_extension": ".py",
   "mimetype": "text/x-python",
   "name": "python",
   "nbconvert_exporter": "python",
   "pygments_lexer": "ipython3",
   "version": "3.10.14"
  },
  "vscode": {
   "interpreter": {
    "hash": "ae27029e1f82e56f496a30980cc01ee9e9874fa5eb01d56792517e894009f269"
   }
  }
 },
 "nbformat": 4,
 "nbformat_minor": 2
}
