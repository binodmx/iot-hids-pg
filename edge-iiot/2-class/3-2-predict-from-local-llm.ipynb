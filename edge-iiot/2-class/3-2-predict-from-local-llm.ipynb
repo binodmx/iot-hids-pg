{
 "cells": [
  {
   "cell_type": "code",
   "execution_count": null,
   "metadata": {},
   "outputs": [],
   "source": [
    "from langchain_huggingface.llms import HuggingFacePipeline\n",
    "\n",
    "llm = HuggingFacePipeline.from_model_id(\n",
    "    model_id=\"google/gemma-2b\",\n",
    "    task=\"text-generation\",\n",
    "    device=0,  # replace with device_map=\"auto\" to use the accelerate library.\n",
    "    pipeline_kwargs={\"max_new_tokens\": 10},\n",
    ")"
   ]
  },
  {
   "cell_type": "code",
   "execution_count": 2,
   "metadata": {},
   "outputs": [],
   "source": [
    "import pandas as pd\n",
    "import os\n",
    "\n",
    "# Load dateset\n",
    "df = pd.read_csv(os.getcwd() + '/../../data/edge-iiot/Edge-IIoTset dataset/Selected dataset for ML and DL/ML-EdgeIIoT-dataset.csv', low_memory=False)\n",
    "attack_df = df[df['Attack_label'] == 1]\n",
    "attack_df = attack_df.drop(columns=['Attack_label', 'Attack_type'])\n",
    "attack_df_train = attack_df.sample(frac=0.8, random_state=42)\n",
    "attack_df_test = attack_df.drop(attack_df_train.index)\n",
    "\n",
    "normal_df = df[df['Attack_label'] == 0]\n",
    "normal_df = normal_df.drop(columns=['Attack_label', 'Attack_type'])\n",
    "normal_df_train = normal_df.sample(frac=0.8, random_state=42)\n",
    "normal_df_test = normal_df.drop(normal_df_train.index)"
   ]
  },
  {
   "cell_type": "code",
   "execution_count": null,
   "metadata": {},
   "outputs": [],
   "source": [
    "from langchain_core.prompts import ChatPromptTemplate\n",
    "from langchain_core.output_parsers import StrOutputParser\n",
    "\n",
    "def predict(llm, x):\n",
    "    benign_samples = \"\"\n",
    "    attack_samples = \"\"\n",
    "    for i in range(10):\n",
    "        benign_samples += str(normal_df_train.iloc[i].to_list()) + \"-->BENIGN\\n\"\n",
    "        attack_samples += str(attack_df_train.iloc[i].to_list()) + \"-->ATTACK\\n\"\n",
    "    system_prompt = (\n",
    "        \"You are intelligent network log analyzer.\"\n",
    "        \"You will be given a network log to predict ATTACK or BENIGN.\"\n",
    "        \"Use the example network logs given to predict the label.\"\n",
    "        \"Output the label ATTACK or BENIGN, nothing else.\"\n",
    "        \"\\n\\n\"\n",
    "        \"Fields:\" + str(normal_df_test.columns.to_list()) + \"\\n\"\n",
    "        \"Examples:\\n```\\n\" + benign_samples + attack_samples + \"\\n```\"\n",
    "    )\n",
    "    messages = []\n",
    "    messages.append((\"system\", system_prompt))\n",
    "    messages.append((\"user\", \"{input}\"))\n",
    "    # num_tokens = len(encoding.encode(str(messages)))\n",
    "    # print(\"Num tokens:\", num_tokens)\n",
    "    prompt = ChatPromptTemplate.from_messages(messages)\n",
    "    chain = (\n",
    "        prompt \n",
    "        | llm \n",
    "        | StrOutputParser()\n",
    "    )\n",
    "    return chain.invoke({\"input\": x})\n",
    "    "
   ]
  },
  {
   "cell_type": "code",
   "execution_count": null,
   "metadata": {},
   "outputs": [],
   "source": [
    "from sklearn.metrics import classification_report\n",
    "\n",
    "# Predict for attack entries\n",
    "sample_size = 10 # attack_df_test.shape[0]\n",
    "y_pred = []\n",
    "y_true = []\n",
    "for i in range(sample_size):\n",
    "    y = predict(llm, str(attack_df_test.iloc[i].to_list()))\n",
    "    if y == \"ATTACK\":\n",
    "        y_pred.append(1)\n",
    "    else:\n",
    "        y_pred.append(0)\n",
    "    y_true.append(1)\n",
    "\n",
    "print(\"Classification report for attack entries\")\n",
    "print(classification_report(y_true, y_pred))"
   ]
  },
  {
   "cell_type": "code",
   "execution_count": null,
   "metadata": {},
   "outputs": [],
   "source": [
    "from sklearn.metrics import classification_report\n",
    "\n",
    "# Predict for attack entries\n",
    "sample_size = 10 # normal_df_test.shape[0]\n",
    "y_pred = []\n",
    "y_true = []\n",
    "for i in range(sample_size):\n",
    "    y = predict(llm, str(normal_df_test.iloc[i].to_list()))\n",
    "    if y == \"BENIGN\":\n",
    "        y_pred.append(1)\n",
    "    else:\n",
    "        y_pred.append(0)\n",
    "    y_true.append(1)\n",
    "\n",
    "print(\"Classification report for normal entries\")\n",
    "print(classification_report(y_true, y_pred))"
   ]
  }
 ],
 "metadata": {
  "kernelspec": {
   "display_name": "llm",
   "language": "python",
   "name": "python3"
  },
  "language_info": {
   "codemirror_mode": {
    "name": "ipython",
    "version": 3
   },
   "file_extension": ".py",
   "mimetype": "text/x-python",
   "name": "python",
   "nbconvert_exporter": "python",
   "pygments_lexer": "ipython3",
   "version": "3.10.14"
  }
 },
 "nbformat": 4,
 "nbformat_minor": 2
}
