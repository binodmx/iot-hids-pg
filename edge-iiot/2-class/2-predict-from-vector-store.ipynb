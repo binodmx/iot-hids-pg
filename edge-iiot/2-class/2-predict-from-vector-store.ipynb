{
 "cells": [
  {
   "cell_type": "code",
   "execution_count": 3,
   "metadata": {},
   "outputs": [
    {
     "name": "stdout",
     "output_type": "stream",
     "text": [
      "+--------------+---------+---------+--------+\n",
      "| Atack type   |   Total |   Train |   Test |\n",
      "+==============+=========+=========+========+\n",
      "| Attack       |  133499 |  106799 |  26700 |\n",
      "+--------------+---------+---------+--------+\n",
      "| Normal       |   24301 |   19441 |   4860 |\n",
      "+--------------+---------+---------+--------+\n"
     ]
    }
   ],
   "source": [
    "import pandas as pd\n",
    "import os\n",
    "from tabulate import tabulate\n",
    "\n",
    "# Load dateset\n",
    "df = pd.read_csv(os.getcwd() + '/../../data/edge-iiot/Edge-IIoTset dataset/Selected dataset for ML and DL/ML-EdgeIIoT-dataset.csv', low_memory=False)\n",
    "\n",
    "# Split dataset to attack and normal\n",
    "attack_df = df[df['Attack_label'] == 1]\n",
    "normal_df = df[df['Attack_label'] == 0]\n",
    "\n",
    "# Drop columns\n",
    "attack_df = attack_df.drop(columns=['Attack_label', 'Attack_type'])\n",
    "normal_df = normal_df.drop(columns=['Attack_label', 'Attack_type'])\n",
    "\n",
    "# Split dataset into training and test set\n",
    "attack_df_train = attack_df.sample(frac=0.8, random_state=42)\n",
    "attack_df_test = attack_df.drop(attack_df_train.index)\n",
    "normal_df_train = normal_df.sample(frac=0.8, random_state=42)\n",
    "normal_df_test = normal_df.drop(normal_df_train.index)\n",
    "\n",
    "# Print dataset sizes in a table\n",
    "data = [\n",
    "    [\"Attack\", attack_df.shape[0], attack_df_train.shape[0], attack_df_test.shape[0]],\n",
    "    [\"Normal\", normal_df.shape[0], normal_df_train.shape[0], normal_df_test.shape[0]]\n",
    "]\n",
    "print(tabulate(data, headers=[\"Atack type\", \"Total\", \"Train\", \"Test\"], tablefmt=\"grid\"))"
   ]
  },
  {
   "cell_type": "code",
   "execution_count": 4,
   "metadata": {},
   "outputs": [
    {
     "name": "stderr",
     "output_type": "stream",
     "text": [
      "/opt/home/s4025371/anaconda3/envs/llm/lib/python3.10/site-packages/transformers/tokenization_utils_base.py:1601: FutureWarning: `clean_up_tokenization_spaces` was not set. It will be set to `True` by default. This behavior will be depracted in transformers v4.45, and will be then set to `False` by default. For more details check this issue: https://github.com/huggingface/transformers/issues/31884\n",
      "  warnings.warn(\n"
     ]
    }
   ],
   "source": [
    "from langchain_huggingface.embeddings import HuggingFaceEmbeddings\n",
    "from langchain_chroma import Chroma\n",
    "\n",
    "embeddings = HuggingFaceEmbeddings()\n",
    "vector_store = Chroma(\n",
    "    collection_name=\"edge-iiotset\",\n",
    "    embedding_function=embeddings, \n",
    "    persist_directory=\"./chroma_db_binary\")\n",
    "retriever = vector_store.as_retriever(\n",
    "    search_type=\"mmr\", \n",
    "    search_kwargs={\"k\": 5, \"fetch_k\": 5})"
   ]
  },
  {
   "cell_type": "code",
   "execution_count": 6,
   "metadata": {},
   "outputs": [
    {
     "name": "stderr",
     "output_type": "stream",
     "text": [
      "Predicting attack entries...: 100%|█████████████████████████| 26700/26700 [3:28:29<00:00,  2.13it/s]\n",
      "Predicting normal entries...: 100%|█████████████████████████████| 4860/4860 [31:37<00:00,  2.56it/s]\n"
     ]
    },
    {
     "name": "stdout",
     "output_type": "stream",
     "text": [
      "              precision    recall  f1-score   support\n",
      "\n",
      "      attack       1.00      0.99      0.99     26700\n",
      "      normal       0.94      1.00      0.97      4860\n",
      "\n",
      "    accuracy                           0.99     31560\n",
      "   macro avg       0.97      0.99      0.98     31560\n",
      "weighted avg       0.99      0.99      0.99     31560\n",
      "\n"
     ]
    }
   ],
   "source": [
    "from statistics import mode\n",
    "from sklearn.metrics import classification_report\n",
    "from tqdm import tqdm\n",
    "\n",
    "sample_size = 10 # attack_df_test.shape[0]\n",
    "\n",
    "datasets = {\n",
    "    \"attack\": attack_df_test,\n",
    "    \"normal\": normal_df_test\n",
    "}\n",
    "y_pred = []\n",
    "y_true = []\n",
    "\n",
    "for attack_type, dataset in datasets.items():\n",
    "    sample_size = dataset.shape[0]\n",
    "    for i in tqdm(range(sample_size), ncols=100, desc=f\"Predicting {attack_type} entries...\"):\n",
    "        query_document = str(dataset.iloc[i].to_list())\n",
    "        similar_documents = retriever.invoke(query_document, filter={\"source\": \"edge-iiotset\"})\n",
    "        y_true.append(attack_type)\n",
    "        y_pred.append(mode([doc.metadata[\"label\"] for doc in similar_documents]))\n",
    "\n",
    "print(classification_report(y_true, y_pred))"
   ]
  },
  {
   "cell_type": "code",
   "execution_count": 11,
   "metadata": {},
   "outputs": [
    {
     "data": {
      "text/plain": [
       "array([[26389,   311],\n",
       "       [   24,  4836]])"
      ]
     },
     "execution_count": 11,
     "metadata": {},
     "output_type": "execute_result"
    }
   ],
   "source": [
    "from sklearn.metrics import confusion_matrix\n",
    "\n",
    "confusion_matrix(y_true, y_pred)"
   ]
  },
  {
   "cell_type": "code",
   "execution_count": 7,
   "metadata": {},
   "outputs": [],
   "source": [
    "# save y_true and y_pred to a file\n",
    "with open(\"y_true.txt\", \"w\") as f:\n",
    "    for item in y_true:\n",
    "        f.write(\"%s\\n\" % item)\n",
    "\n",
    "with open(\"y_pred.txt\", \"w\") as f:\n",
    "    for item in y_pred:\n",
    "        f.write(\"%s\\n\" % item)"
   ]
  }
 ],
 "metadata": {
  "kernelspec": {
   "display_name": "Python 3.10.14 ('llm')",
   "language": "python",
   "name": "python3"
  },
  "language_info": {
   "codemirror_mode": {
    "name": "ipython",
    "version": 3
   },
   "file_extension": ".py",
   "mimetype": "text/x-python",
   "name": "python",
   "nbconvert_exporter": "python",
   "pygments_lexer": "ipython3",
   "version": "3.11.9"
  },
  "orig_nbformat": 4,
  "vscode": {
   "interpreter": {
    "hash": "ae27029e1f82e56f496a30980cc01ee9e9874fa5eb01d56792517e894009f269"
   }
  }
 },
 "nbformat": 4,
 "nbformat_minor": 2
}
