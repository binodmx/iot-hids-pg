{
 "cells": [
  {
   "cell_type": "code",
   "execution_count": 1,
   "metadata": {},
   "outputs": [
    {
     "name": "stdout",
     "output_type": "stream",
     "text": [
      "Attack Training set size:  (106799, 61)\n",
      "Attack Test set size:  (26700, 61)\n",
      "Normal Training set size:  (19441, 61)\n",
      "Normal Test set size:  (4860, 61)\n"
     ]
    }
   ],
   "source": [
    "import pandas as pd\n",
    "import os\n",
    "import json\n",
    "\n",
    "# Load dateset\n",
    "df = pd.read_csv(os.getcwd() + '/../../data/edge-iiot/Edge-IIoTset dataset/Selected dataset for ML and DL/ML-EdgeIIoT-dataset.csv', low_memory=False)\n",
    "attack_df = df[df['Attack_label'] == 1]\n",
    "attack_df = attack_df.drop(columns=['Attack_label', 'Attack_type'])\n",
    "attack_df_train = attack_df.sample(frac=0.8, random_state=42)\n",
    "attack_df_test = attack_df.drop(attack_df_train.index)\n",
    "\n",
    "normal_df = df[df['Attack_label'] == 0]\n",
    "normal_df = normal_df.drop(columns=['Attack_label', 'Attack_type'])\n",
    "normal_df_train = normal_df.sample(frac=0.8, random_state=42)\n",
    "normal_df_test = normal_df.drop(normal_df_train.index)\n",
    "\n",
    "print(\"Attack Training set size: \", attack_df_train.shape)\n",
    "print(\"Attack Test set size: \", attack_df_test.shape)\n",
    "\n",
    "print(\"Normal Training set size: \", normal_df_train.shape)\n",
    "print(\"Normal Test set size: \", normal_df_test.shape)"
   ]
  },
  {
   "cell_type": "code",
   "execution_count": 2,
   "metadata": {},
   "outputs": [
    {
     "name": "stderr",
     "output_type": "stream",
     "text": [
      "/opt/home/s4025371/anaconda3/envs/llm/lib/python3.10/site-packages/sentence_transformers/cross_encoder/CrossEncoder.py:11: TqdmWarning: IProgress not found. Please update jupyter and ipywidgets. See https://ipywidgets.readthedocs.io/en/stable/user_install.html\n",
      "  from tqdm.autonotebook import tqdm, trange\n",
      "/opt/home/s4025371/anaconda3/envs/llm/lib/python3.10/site-packages/transformers/tokenization_utils_base.py:1601: FutureWarning: `clean_up_tokenization_spaces` was not set. It will be set to `True` by default. This behavior will be depracted in transformers v4.45, and will be then set to `False` by default. For more details check this issue: https://github.com/huggingface/transformers/issues/31884\n",
      "  warnings.warn(\n"
     ]
    }
   ],
   "source": [
    "from langchain_huggingface.embeddings import HuggingFaceEmbeddings\n",
    "from langchain_chroma import Chroma\n",
    "\n",
    "embeddings = HuggingFaceEmbeddings()\n",
    "vector_store = Chroma(\n",
    "    collection_name=\"edge-iiotset\",\n",
    "    embedding_function=embeddings, \n",
    "    persist_directory=\"./chroma_db_binary\")\n",
    "retriever = vector_store.as_retriever(\n",
    "    search_type=\"mmr\", \n",
    "    search_kwargs={\"k\": 5, \"fetch_k\": 5})"
   ]
  },
  {
   "cell_type": "code",
   "execution_count": 3,
   "metadata": {},
   "outputs": [
    {
     "name": "stdout",
     "output_type": "stream",
     "text": [
      "              precision    recall  f1-score   support\n",
      "\n",
      "           1       1.00      1.00      1.00        10\n",
      "\n",
      "    accuracy                           1.00        10\n",
      "   macro avg       1.00      1.00      1.00        10\n",
      "weighted avg       1.00      1.00      1.00        10\n",
      "\n"
     ]
    }
   ],
   "source": [
    "from statistics import mode\n",
    "from sklearn.metrics import classification_report\n",
    "\n",
    "sample_size = 10 # attack_df_test.shape[0]\n",
    "\n",
    "y_pred = []\n",
    "y_true = []\n",
    "for i in range(sample_size):\n",
    "    query_document = str(attack_df_test.iloc[i].to_list())\n",
    "    similar_documents = retriever.invoke(query_document, filter={\"source\": \"edge-iiotset\"})\n",
    "    y_true.append(1)\n",
    "    if mode([doc.metadata[\"label\"] for doc in similar_documents]) == \"attack\":\n",
    "        y_pred.append(1)\n",
    "    else:\n",
    "        y_pred.append(0)\n",
    "\n",
    "print(classification_report(y_true, y_pred))"
   ]
  },
  {
   "cell_type": "code",
   "execution_count": 4,
   "metadata": {},
   "outputs": [
    {
     "name": "stdout",
     "output_type": "stream",
     "text": [
      "              precision    recall  f1-score   support\n",
      "\n",
      "           1       1.00      1.00      1.00        10\n",
      "\n",
      "    accuracy                           1.00        10\n",
      "   macro avg       1.00      1.00      1.00        10\n",
      "weighted avg       1.00      1.00      1.00        10\n",
      "\n"
     ]
    }
   ],
   "source": [
    "from statistics import mode\n",
    "from sklearn.metrics import classification_report\n",
    "\n",
    "sample_size = 10 # normal_df_test.shape[0]\n",
    "\n",
    "y_pred = []\n",
    "y_true = []\n",
    "for i in range(sample_size):\n",
    "    query_document = str(normal_df_test.iloc[i].to_list())\n",
    "    similar_documents = retriever.invoke(query_document, filter={\"source\": \"edge-iiotset\"})\n",
    "    y_true.append(1)\n",
    "    if mode([doc.metadata[\"label\"] for doc in similar_documents]) == \"normal\":\n",
    "        y_pred.append(1)\n",
    "    else:\n",
    "        y_pred.append(0)\n",
    "\n",
    "print(classification_report(y_true, y_pred))"
   ]
  }
 ],
 "metadata": {
  "kernelspec": {
   "display_name": "Python 3.10.14 ('llm')",
   "language": "python",
   "name": "python3"
  },
  "language_info": {
   "codemirror_mode": {
    "name": "ipython",
    "version": 3
   },
   "file_extension": ".py",
   "mimetype": "text/x-python",
   "name": "python",
   "nbconvert_exporter": "python",
   "pygments_lexer": "ipython3",
   "version": "3.10.14"
  },
  "orig_nbformat": 4,
  "vscode": {
   "interpreter": {
    "hash": "ae27029e1f82e56f496a30980cc01ee9e9874fa5eb01d56792517e894009f269"
   }
  }
 },
 "nbformat": 4,
 "nbformat_minor": 2
}
