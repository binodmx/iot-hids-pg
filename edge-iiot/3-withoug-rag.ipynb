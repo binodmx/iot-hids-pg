{
 "cells": [
  {
   "cell_type": "code",
   "execution_count": 1,
   "metadata": {},
   "outputs": [],
   "source": [
    "import json\n",
    "\n",
    "# Load json dataset from json\n",
    "with open('edge-iiotset-ddos-train.json', 'r') as f:\n",
    "    ddos_json_train = json.load(f)\n",
    "\n",
    "with open('edge-iiotset-normal-train.json', 'r') as f:\n",
    "    normal_json_train = json.load(f)\n",
    "\n",
    "with open('edge-iiotset-ddos-test.json', 'r') as f:\n",
    "    ddos_json_test = json.load(f)\n",
    "\n",
    "with open('edge-iiotset-normal-test.json', 'r') as f:\n",
    "    normal_json_test = json.load(f)"
   ]
  },
  {
   "cell_type": "code",
   "execution_count": 10,
   "metadata": {},
   "outputs": [],
   "source": [
    "from langchain_openai import ChatOpenAI\n",
    "from langchain_core.prompts import ChatPromptTemplate\n",
    "from langchain_core.output_parsers import StrOutputParser\n",
    "from langchain_core.runnables import RunnablePassthrough\n",
    "from langchain_community.embeddings.ollama import OllamaEmbeddings\n",
    "from langchain_community.vectorstores import Chroma\n",
    "import tiktoken\n",
    "import os\n",
    "import dotenv\n",
    "\n",
    "# OpenAI models\n",
    "# 1. gpt-4o | gpt-4o-2024-08-06 \n",
    "# 2. gpt-4o-mini | gpt-4o-mini-2024-07-18\n",
    "# 3. gpt-3.5-turbo-0125\n",
    "\n",
    "dotenv.load_dotenv()\n",
    "API_KEY = os.getenv(\"OPENAI_API_KEY\")\n",
    "llm = ChatOpenAI(openai_api_key=API_KEY, model=\"gpt-3.5-turbo-0125\", temperature=0.0)\n",
    "encoding = tiktoken.encoding_for_model(\"gpt-3.5-turbo\")\n",
    "\n",
    "embeddings = OllamaEmbeddings(model=\"all-minilm\")\n",
    "vector_store = Chroma(\n",
    "    collection_name=\"edge-iiotset\",\n",
    "    embedding_function=embeddings, \n",
    "    persist_directory=\"./chroma_langchain_db\")\n",
    "retriever = vector_store.as_retriever(\n",
    "    search_type=\"mmr\", \n",
    "    search_kwargs={\"k\": 5, \"fetch_k\": 5})\n",
    "\n",
    "def format_docs(docs):\n",
    "    return \"\\n\\n\".join(doc.page_content + \"-->\" + (\"ATTACK\" if doc.metadata[\"label\"] == \"ddos\" else \"BENIGN\") for doc in docs)\n",
    "\n",
    "def predict(x):\n",
    "    benign_samples = \"\"\n",
    "    attack_samples = \"\"\n",
    "    for i in range(10):\n",
    "        benign_samples += str(normal_json_train[i].values()) + \"-->BENIGN\\n\"\n",
    "        attack_samples += str(ddos_json_train[i].values()) + \"-->ATTACK\\n\"\n",
    "    system_prompt = (\n",
    "        \"You are intelligent network log analyzer.\"\n",
    "        \"You will be given a network log to predict ATTACK or BENIGN.\"\n",
    "        \"Use the example network logs given to predict the label.\"\n",
    "        \"Output the label ATTACK or BENIGN, nothing else.\"\n",
    "        \"\\n\\n\"\n",
    "        \"Fields:\" + str(normal_json_train[0].keys()) + \"\\n\"\n",
    "        \"```\" + benign_samples + attack_samples + \"```\"\n",
    "    )\n",
    "    messages = []\n",
    "    messages.append((\"system\", system_prompt))\n",
    "    messages.append((\"user\", \"{input}\"))\n",
    "    # num_tokens = len(encoding.encode(str(messages)))\n",
    "    # print(\"Num tokens:\", num_tokens)\n",
    "    prompt = ChatPromptTemplate.from_messages(messages)\n",
    "    chain = (\n",
    "        prompt \n",
    "        | llm \n",
    "        | StrOutputParser()\n",
    "    )\n",
    "    return chain.invoke({\"input\": x})"
   ]
  },
  {
   "cell_type": "code",
   "execution_count": 11,
   "metadata": {},
   "outputs": [
    {
     "name": "stderr",
     "output_type": "stream",
     "text": [
      "Predicting attack entries...: 100%|█████████████████████████████████| 10/10 [00:08<00:00,  1.21it/s]"
     ]
    },
    {
     "name": "stdout",
     "output_type": "stream",
     "text": [
      "              precision    recall  f1-score   support\n",
      "\n",
      "           1       1.00      1.00      1.00        10\n",
      "\n",
      "    accuracy                           1.00        10\n",
      "   macro avg       1.00      1.00      1.00        10\n",
      "weighted avg       1.00      1.00      1.00        10\n",
      "\n"
     ]
    },
    {
     "name": "stderr",
     "output_type": "stream",
     "text": [
      "\n"
     ]
    }
   ],
   "source": [
    "from sklearn.metrics import classification_report\n",
    "from tqdm import tqdm\n",
    "\n",
    "sample_size = 10\n",
    "y_pred = []\n",
    "y_true = []\n",
    "for i in tqdm(range(sample_size), ncols=100, desc=\"Predicting attack entries...\"):\n",
    "    y = predict(str(ddos_json_train[i].values()))\n",
    "    if y == \"ATTACK\":\n",
    "        y_pred.append(1)\n",
    "    else:\n",
    "        y_pred.append(0)\n",
    "    y_true.append(1)\n",
    "\n",
    "print(classification_report(y_true, y_pred))"
   ]
  },
  {
   "cell_type": "code",
   "execution_count": 12,
   "metadata": {},
   "outputs": [
    {
     "name": "stderr",
     "output_type": "stream",
     "text": [
      "Predicting benign entries...: 100%|█████████████████████████████████| 10/10 [00:08<00:00,  1.19it/s]"
     ]
    },
    {
     "name": "stdout",
     "output_type": "stream",
     "text": [
      "              precision    recall  f1-score   support\n",
      "\n",
      "           0       0.00      0.00      0.00         0\n",
      "           1       1.00      0.90      0.95        10\n",
      "\n",
      "    accuracy                           0.90        10\n",
      "   macro avg       0.50      0.45      0.47        10\n",
      "weighted avg       1.00      0.90      0.95        10\n",
      "\n"
     ]
    },
    {
     "name": "stderr",
     "output_type": "stream",
     "text": [
      "\n",
      "C:\\Users\\S4025371\\AppData\\Local\\Packages\\PythonSoftwareFoundation.Python.3.11_qbz5n2kfra8p0\\LocalCache\\local-packages\\Python311\\site-packages\\sklearn\\metrics\\_classification.py:1469: UndefinedMetricWarning: Recall and F-score are ill-defined and being set to 0.0 in labels with no true samples. Use `zero_division` parameter to control this behavior.\n",
      "  _warn_prf(average, modifier, msg_start, len(result))\n",
      "C:\\Users\\S4025371\\AppData\\Local\\Packages\\PythonSoftwareFoundation.Python.3.11_qbz5n2kfra8p0\\LocalCache\\local-packages\\Python311\\site-packages\\sklearn\\metrics\\_classification.py:1469: UndefinedMetricWarning: Recall and F-score are ill-defined and being set to 0.0 in labels with no true samples. Use `zero_division` parameter to control this behavior.\n",
      "  _warn_prf(average, modifier, msg_start, len(result))\n",
      "C:\\Users\\S4025371\\AppData\\Local\\Packages\\PythonSoftwareFoundation.Python.3.11_qbz5n2kfra8p0\\LocalCache\\local-packages\\Python311\\site-packages\\sklearn\\metrics\\_classification.py:1469: UndefinedMetricWarning: Recall and F-score are ill-defined and being set to 0.0 in labels with no true samples. Use `zero_division` parameter to control this behavior.\n",
      "  _warn_prf(average, modifier, msg_start, len(result))\n"
     ]
    }
   ],
   "source": [
    "sample_size = 10\n",
    "y_pred = []\n",
    "y_true = []\n",
    "for i in tqdm(range(sample_size), ncols=100, desc=\"Predicting benign entries...\"):\n",
    "    y = predict(str(normal_json_train[i].values()))\n",
    "    if y == \"BENIGN\":\n",
    "        y_pred.append(1)\n",
    "    else:\n",
    "        y_pred.append(0)\n",
    "    y_true.append(1)\n",
    "\n",
    "print(classification_report(y_true, y_pred))"
   ]
  }
 ],
 "metadata": {
  "kernelspec": {
   "display_name": "Python 3",
   "language": "python",
   "name": "python3"
  },
  "language_info": {
   "codemirror_mode": {
    "name": "ipython",
    "version": 3
   },
   "file_extension": ".py",
   "mimetype": "text/x-python",
   "name": "python",
   "nbconvert_exporter": "python",
   "pygments_lexer": "ipython3",
   "version": "3.11.9"
  }
 },
 "nbformat": 4,
 "nbformat_minor": 2
}
