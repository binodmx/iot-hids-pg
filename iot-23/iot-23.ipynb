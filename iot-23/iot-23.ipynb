{
 "cells": [
  {
   "cell_type": "markdown",
   "metadata": {},
   "source": [
    "**Dataset Info**\n",
    "\n",
    "- Paper: N/A\n",
    "- Published in: N/A\n",
    "- Date: 2020\n",
    "- Links: \n",
    "    - https://www.stratosphereips.org/datasets-iot23\n",
    "    - https://docs.google.com/spreadsheets/d/1HRqgKJp0XoSUIfW3rCQKoD_LnSCJ1k-k61PndJXWq_o/edit?gid=0#gid=0"
   ]
  },
  {
   "cell_type": "code",
   "execution_count": 11,
   "metadata": {},
   "outputs": [],
   "source": [
    "import os\n",
    "import pandas as pd\n",
    "\n",
    "# Define the path to the file\n",
    "file_path = os.getcwd() + '/../data/iot-23/opt/Malware-Project/BigDataset/IoTScenarios/CTU-IoT-Malware-Capture-8-1/bro/conn.log.labeled'\n",
    "\n",
    "# Load the file into a DataFrame\n",
    "df = pd.read_csv(\n",
    "    file_path, \n",
    "    sep='\\x09',               # Specify the tab character as the separator\n",
    "    comment='#',              # Skip lines that start with '#'\n",
    "    na_values=['(empty)', '-'] # Handle empty and unset fields as NaN\n",
    ")"
   ]
  },
  {
   "cell_type": "code",
   "execution_count": 12,
   "metadata": {},
   "outputs": [
    {
     "name": "stdout",
     "output_type": "stream",
     "text": [
      "No of Featueres:  23\n",
      "Features:  Index(['ts', 'uid', 'id.orig_h', 'id.orig_p', 'id.resp_h', 'id.resp_p',\n",
      "       'proto', 'service', 'duration', 'orig_bytes', 'resp_bytes',\n",
      "       'conn_state', 'local_orig', 'local_resp', 'missed_bytes', 'history',\n",
      "       'orig_pkts', 'orig_ip_bytes', 'resp_pkts', 'resp_ip_bytes',\n",
      "       'tunnel_parents', 'label', 'detailed-label'],\n",
      "      dtype='object')\n"
     ]
    }
   ],
   "source": [
    "print(\"No of Featueres: \", len(df.columns))\n",
    "print(\"Features: \", df.columns)"
   ]
  },
  {
   "cell_type": "code",
   "execution_count": 9,
   "metadata": {},
   "outputs": [
    {
     "name": "stdout",
     "output_type": "stream",
     "text": [
      "{\"ts\":1525879831.0158109665,\"uid\":\"CUmrqr4svHuSXJy5z7\",\"id.orig_h\":\"192.168.100.103\",\"id.orig_p\":51524,\"id.resp_h\":\"65.127.233.163\",\"id.resp_p\":23,\"proto\":\"tcp\",\"service\":null,\"duration\":2.999051,\"orig_bytes\":0.0,\"resp_bytes\":0.0,\"conn_state\":\"S0\",\"local_orig\":null,\"local_resp\":null,\"missed_bytes\":0,\"history\":\"S\",\"orig_pkts\":3,\"orig_ip_bytes\":180,\"resp_pkts\":0,\"resp_ip_bytes\":0,\"tunnel_parents\":null,\"label\":\"Malicious\",\"detailed-label\":\"PartOfAHorizontalPortScan\"}\n",
      "\n"
     ]
    }
   ],
   "source": [
    "print(df.head(1).to_json(orient='records', lines=True))"
   ]
  },
  {
   "cell_type": "code",
   "execution_count": 13,
   "metadata": {},
   "outputs": [
    {
     "name": "stdout",
     "output_type": "stream",
     "text": [
      "No of classes:  2\n",
      "[nan 'C&C']\n"
     ]
    }
   ],
   "source": [
    "print(\"No of classes: \", len(df['detailed-label'].unique()))\n",
    "print(df['detailed-label'].unique())"
   ]
  }
 ],
 "metadata": {
  "kernelspec": {
   "display_name": "Python 3",
   "language": "python",
   "name": "python3"
  },
  "language_info": {
   "codemirror_mode": {
    "name": "ipython",
    "version": 3
   },
   "file_extension": ".py",
   "mimetype": "text/x-python",
   "name": "python",
   "nbconvert_exporter": "python",
   "pygments_lexer": "ipython3",
   "version": "3.11.9"
  }
 },
 "nbformat": 4,
 "nbformat_minor": 2
}
