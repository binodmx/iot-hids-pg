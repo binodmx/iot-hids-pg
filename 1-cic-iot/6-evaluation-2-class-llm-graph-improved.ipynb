{
 "cells": [
  {
   "metadata": {
    "ExecuteTime": {
     "end_time": "2025-01-21T05:21:46.117280Z",
     "start_time": "2025-01-21T05:21:45.645066Z"
    }
   },
   "cell_type": "code",
   "source": [
    "################################################################################\n",
    "# Load dataset and split it into training and test set\n",
    "################################################################################\n",
    "\n",
    "import pandas as pd\n",
    "import os\n",
    "from tabulate import tabulate\n",
    "\n",
    "dataset_name = \"cic-iot\"\n",
    "sample_size = 100000\n",
    "\n",
    "# Load dateset\n",
    "df = pd.read_csv(os.getcwd() + f'/data/sample-{sample_size}-2.csv')\n",
    "\n",
    "# Split dataset according to attack type\n",
    "normal_df = df[df['label'] == 'BenignTraffic']\n",
    "attack_df = df[df['label'] != 'BenignTraffic']\n",
    "\n",
    "# Drop columns\n",
    "normal_df = normal_df.drop(columns=['label'])\n",
    "attack_df = attack_df.drop(columns=['label'])\n",
    "\n",
    "# Split dataset into training and test set\n",
    "normal_df_train = normal_df.sample(frac=0.8, random_state=42)\n",
    "normal_df_test = normal_df.drop(normal_df_train.index)\n",
    "attack_df_train = attack_df.sample(frac=0.8, random_state=42)\n",
    "attack_df_test = attack_df.drop(attack_df_train.index)\n",
    "\n",
    "# Print dataset sizes in a table\n",
    "data = [\n",
    "    [\"Normal\", normal_df.shape[0], normal_df_train.shape[0], normal_df_test.shape[0]],\n",
    "    [\"Attack\", attack_df.shape[0], attack_df_train.shape[0], attack_df_test.shape[0]]\n",
    "]\n",
    "print(tabulate(data, headers=[\"Attack type\", \"Total\", \"Train\", \"Test\"], tablefmt=\"grid\"))"
   ],
   "outputs": [
    {
     "name": "stdout",
     "output_type": "stream",
     "text": [
      "+---------------+---------+---------+--------+\n",
      "| Attack type   |   Total |   Train |   Test |\n",
      "+===============+=========+=========+========+\n",
      "| Normal        |   10800 |    8640 |   2160 |\n",
      "+---------------+---------+---------+--------+\n",
      "| Attack        |   89200 |   71360 |  17840 |\n",
      "+---------------+---------+---------+--------+\n"
     ]
    }
   ],
   "execution_count": 274
  },
  {
   "metadata": {
    "vscode": {
     "languageId": "plaintext"
    },
    "ExecuteTime": {
     "end_time": "2025-01-21T05:22:02.341916Z",
     "start_time": "2025-01-21T05:21:46.140784Z"
    }
   },
   "cell_type": "code",
   "source": [
    "################################################################################\n",
    "# Vector Store\n",
    "################################################################################\n",
    "\n",
    "import json\n",
    "import numpy as np\n",
    "from langchain_chroma import Chroma\n",
    "from langchain_huggingface.embeddings import HuggingFaceEmbeddings\n",
    "\n",
    "train_set_size = sample_size\n",
    "n_results = 10\n",
    "embeddings = HuggingFaceEmbeddings()\n",
    "vector_store = Chroma(\n",
    "    collection_name=dataset_name,\n",
    "    embedding_function=embeddings,\n",
    "    persist_directory=f\"./vector-stores/chroma-db-{train_set_size}-2\")\n",
    "\n",
    "normal_vectors = vector_store._collection.get(include=['embeddings'], where={'label': 'normal'})['embeddings']\n",
    "normal_mean_vector = np.mean(normal_vectors, axis=0).tolist()\n",
    "normal_documents = \\\n",
    "    vector_store._collection.query(query_embeddings=[normal_mean_vector], n_results=n_results)['documents'][0]\n",
    "\n",
    "attack_vectors = vector_store._collection.get(include=['embeddings'], where={'label': 'attack'})['embeddings']\n",
    "attack_mean_vector = np.mean(attack_vectors, axis=0).tolist()\n",
    "attack_documents = \\\n",
    "    vector_store._collection.query(query_embeddings=[attack_mean_vector], n_results=n_results)['documents'][0]\n",
    "\n",
    "normal_entries_dict = {}\n",
    "for i, feat_name in enumerate(normal_df_train.columns.to_list()):\n",
    "    normal_entries_dict[feat_name] = [json.loads(doc.replace(\"'\", \"\\\"\"))[i] for doc in normal_documents]\n",
    "\n",
    "attack_entries_dict = {}\n",
    "for i, feat_name in enumerate(attack_df_train.columns.to_list()):\n",
    "    attack_entries_dict[feat_name] = [json.loads(doc.replace(\"'\", \"\\\"\"))[i] for doc in attack_documents]"
   ],
   "outputs": [],
   "execution_count": 275
  },
  {
   "metadata": {
    "ExecuteTime": {
     "end_time": "2025-01-21T05:22:02.453953Z",
     "start_time": "2025-01-21T05:22:02.444261Z"
    }
   },
   "cell_type": "code",
   "source": [
    "################################################################################\n",
    "# State\n",
    "################################################################################\n",
    "\n",
    "from langgraph.graph import MessagesState\n",
    "\n",
    "\n",
    "class State(MessagesState):\n",
    "    i: int\n",
    "    macro_f1s: float"
   ],
   "outputs": [],
   "execution_count": 276
  },
  {
   "metadata": {
    "ExecuteTime": {
     "end_time": "2025-01-21T05:22:02.536933Z",
     "start_time": "2025-01-21T05:22:02.505649Z"
    }
   },
   "cell_type": "code",
   "source": [
    "################################################################################\n",
    "# Policy Evaluate Tool\n",
    "################################################################################\n",
    "\n",
    "import operator\n",
    "from tqdm import tqdm\n",
    "from sklearn.metrics import classification_report, confusion_matrix\n",
    "from typing import Annotated\n",
    "from langchain_core.tools import tool\n",
    "\n",
    "show_progress = False\n",
    "operations = {'<': operator.lt, '>': operator.gt, '==': operator.eq, '<=': operator.le, '>=': operator.ge,\n",
    "              '!=': operator.ne}\n",
    "\n",
    "\n",
    "@tool\n",
    "def policy_evaluate_tool(\n",
    "        feature_name: Annotated[str, \"Feature name\"],\n",
    "        value: Annotated[float, \"Value\"],\n",
    "        op: Annotated[str, \"Operator\"]\n",
    ") -> float:\n",
    "    \"\"\"Evaluate the policy and return the macro f1-score.\"\"\"\n",
    "    try:\n",
    "        value = float(value)\n",
    "    except ValueError:\n",
    "        print(\"Value must be a number.\")\n",
    "    datasets = {\"normal\": normal_df_train, \"attack\": attack_df_train}\n",
    "    y_pred = []\n",
    "    y_true = []\n",
    "    if op in operations:\n",
    "        for attack_type, dataset in datasets.items():\n",
    "            test_set_size = dataset.shape[0]\n",
    "            for i in tqdm(range(test_set_size), ncols=100, desc=f\"Predicting {attack_type} entries...\",\n",
    "                          disable=not show_progress):\n",
    "                y_true.append(attack_type)\n",
    "                y_pred.append(\"attack\" if operations[op](dataset.iloc[i][feature_name], value) else \"normal\")\n",
    "        c_report = classification_report(y_true, y_pred, digits=4, output_dict=True)\n",
    "        return c_report['macro avg']['f1-score']\n",
    "    else:\n",
    "        raise ValueError(f\"Unsupported operator: {op}\")"
   ],
   "outputs": [],
   "execution_count": 277
  },
  {
   "metadata": {
    "ExecuteTime": {
     "end_time": "2025-01-21T05:22:02.696546Z",
     "start_time": "2025-01-21T05:22:02.585590Z"
    }
   },
   "cell_type": "code",
   "source": [
    "################################################################################\n",
    "# Policy Generator Node\n",
    "################################################################################\n",
    "\n",
    "from langchain_core.messages import SystemMessage, HumanMessage, AIMessage, ToolMessage\n",
    "from langchain_openai import ChatOpenAI\n",
    "from langchain_ollama import ChatOllama\n",
    "from langchain_google_genai import ChatGoogleGenerativeAI\n",
    "from langchain_anthropic import ChatAnthropic\n",
    "import dotenv\n",
    "import os\n",
    "\n",
    "dotenv.load_dotenv(os.getcwd() + '/../.env')\n",
    "\n",
    "# OpenAI\n",
    "# llm = ChatOpenAI(model=\"gpt-4o-mini\", temperature=0.1)\n",
    "# llm = ChatOpenAI(model=\"gpt-4o\", temperature=0.1)\n",
    "\n",
    "# Google Generative AI\n",
    "llm = ChatGoogleGenerativeAI(model=\"gemini-1.5-flash\", temperature=0.1)\n",
    "# llm = ChatGoogleGenerativeAI(model=\"gemini-1.5-pro\", temperature=0.1)\n",
    "\n",
    "# Anthropic\n",
    "# llm = ChatAnthropic(model=\"claude-3-5-sonnet-latest\", temperature=0.1)\n",
    "\n",
    "llm_with_policy_evaluate_tool = llm.bind_tools([policy_evaluate_tool])\n",
    "\n",
    "normal_entries = json.dumps(normal_entries_dict)\n",
    "attack_entries = json.dumps(attack_entries_dict)\n",
    "\n",
    "\n",
    "def policy_generator(state):\n",
    "    ai_message = llm_with_policy_evaluate_tool.invoke(state[\"messages\"])\n",
    "    return {\"messages\": [ai_message]}"
   ],
   "outputs": [],
   "execution_count": 278
  },
  {
   "metadata": {
    "ExecuteTime": {
     "end_time": "2025-01-21T05:22:02.776590Z",
     "start_time": "2025-01-21T05:22:02.754198Z"
    }
   },
   "cell_type": "code",
   "source": [
    "################################################################################\n",
    "# Long-term Memory Write Tool\n",
    "################################################################################\n",
    "\n",
    "import sqlite3\n",
    "from typing import List\n",
    "\n",
    "\n",
    "@tool\n",
    "def lt_memory_write_tool(policy: List[str]) -> bool:\n",
    "    \"\"\"\n",
    "    Write a policy to the SQL database.\n",
    "\n",
    "    Args:\n",
    "        policy (List[str]): ['feature', 'condition', 'value', 'f1_score', 'comment']\n",
    "\n",
    "    Returns:\n",
    "        bool: True if the policy is successfully written to the database, False otherwise.\n",
    "    \"\"\"\n",
    "\n",
    "    try:\n",
    "        # Create a connection to a SQLite database\n",
    "        db_name = \"results/database.db\"\n",
    "        connection = sqlite3.connect(db_name)\n",
    "\n",
    "        # Write data to the database\n",
    "        table_name = \"lt_memory\"\n",
    "        cursor = connection.cursor()\n",
    "\n",
    "        # Create the table if it does not exist\n",
    "        cursor.execute(\n",
    "            f\"CREATE TABLE IF NOT EXISTS {table_name} (feature TEXT PRIMARY KEY, condition TEXT, value TEXT, f1_score TEXT, comment TEXT)\")\n",
    "\n",
    "        # Insert the policy into the table\n",
    "        cursor.execute(f\"INSERT OR REPLACE INTO {table_name} VALUES (?, ?, ?, ?, ?)\", [str(element) for element in policy])\n",
    "\n",
    "        # Commit the changes\n",
    "        connection.commit()\n",
    "\n",
    "        # Close the connection\n",
    "        connection.close()\n",
    "\n",
    "        return True\n",
    "    except Exception as e:\n",
    "        print(e)\n",
    "        return False\n"
   ],
   "outputs": [],
   "execution_count": 279
  },
  {
   "metadata": {
    "ExecuteTime": {
     "end_time": "2025-01-21T05:22:02.837782Z",
     "start_time": "2025-01-21T05:22:02.827847Z"
    }
   },
   "cell_type": "code",
   "source": [
    "################################################################################\n",
    "# Function for retrieving previous policies from Long-term Memory\n",
    "################################################################################\n",
    "\n",
    "import sqlite3\n",
    "\n",
    "\n",
    "def get_previous_policies(as_string=False):\n",
    "    try:\n",
    "        # Create a connection to a SQLite database\n",
    "        db_name = \"results/database.db\"\n",
    "        connection = sqlite3.connect(db_name)\n",
    "        connection.row_factory = sqlite3.Row\n",
    "\n",
    "        # Read data from the database\n",
    "        table_name = \"lt_memory\"\n",
    "        cursor = connection.cursor()\n",
    "\n",
    "        # Create the table if it does not exist\n",
    "        cursor.execute(\n",
    "            f\"CREATE TABLE IF NOT EXISTS {table_name} (feature TEXT PRIMARY KEY, condition TEXT, value TEXT, f1_score TEXT, comment TEXT)\")\n",
    "\n",
    "        # Read the policies from the table\n",
    "        cursor.execute(f\"SELECT * FROM {table_name}\")\n",
    "        rows = cursor.fetchall()\n",
    "\n",
    "        # Close the connection\n",
    "        connection.close()\n",
    "\n",
    "        fetched_policies = [dict(row) for row in rows]\n",
    "\n",
    "        try:\n",
    "            sorted_policies = sorted(fetched_policies, key=lambda x: float(x['f1_score']), reverse=True)\n",
    "        except Exception as e:\n",
    "            print(e)\n",
    "            sorted_policies = fetched_policies\n",
    "\n",
    "        if as_string:\n",
    "            str_policies = []\n",
    "            for sorted_policy in sorted_policies:\n",
    "                policy = f\"Policy {len(sorted_policies)}: {sorted_policy['feature']} {sorted_policy['condition']} {sorted_policy['value']}, F1-Score: {sorted_policy['f1_score']}, Comment: {sorted_policy['comment']}\"\n",
    "                str_policies.append(policy)\n",
    "            return str_policies\n",
    "        return sorted_policies\n",
    "    except Exception as e:\n",
    "        print(e)\n",
    "        return []"
   ],
   "outputs": [],
   "execution_count": 280
  },
  {
   "metadata": {
    "ExecuteTime": {
     "end_time": "2025-01-21T05:22:02.917782Z",
     "start_time": "2025-01-21T05:22:02.890397Z"
    }
   },
   "cell_type": "code",
   "source": [
    "################################################################################\n",
    "# Persistence Filter Node\n",
    "################################################################################\n",
    "\n",
    "import uuid\n",
    "\n",
    "llm_with_lt_memory_write_tool = llm.bind_tools([lt_memory_write_tool])\n",
    "\n",
    "\n",
    "def persistence_filter(state):\n",
    "    human_message = HumanMessage(f\"\"\"\n",
    "    You have generated new policies. Your task is to compare these new policies with the previously generated ones and provide insightful comments about their relative strengths and weaknesses.\n",
    "\n",
    "    Previous Policies:\n",
    "    ```{get_previous_policies(as_string=True)}```\n",
    "\n",
    "    Use the following steps to perform the task:\n",
    "\n",
    "    1. Compare each newly generated policy with the corresponding policy (same feature) from the \"Previous Policies\" section.\n",
    "    2. Identify the key differences in features, conditions, values, and f1-score. Determine which policy is better and why.\n",
    "    3. Generate Comments:\n",
    "        If the new policy outperforms the previous one, explain why (e.g., better value ranges, improved performance metrics).\n",
    "        If the previous policy is better, specify what made it more effective.\n",
    "        If there is no previous policy for comparison, use the default comment: \"Initial policy.\"\n",
    "        Note: Include previous policy details in the comments for reference.\n",
    "\n",
    "    Example Comments:\n",
    "    ```\n",
    "    For the previous policy (x_count > 0.5), the value ranged from 0.5 to 0.7. When the value increased from 0.5 to 0.6, the F1-score improved from 0.8 to 0.9. However, increasing it further to 0.7 caused the F1-score to drop to 0.7. This indicates the optimal range is between 0.5 and 0.6.\n",
    "\n",
    "    The new policy performs similarly to the previous one (x_count > 0.5), both achieving high F1-scores.\n",
    "    ```\n",
    "\n",
    "    4. Make tool calls to 'lt_memory_write_tool' to save new policies. Tool expects a list of strings: ['feature', 'condition', 'value', 'f1_score', 'comment']\n",
    "    \"\"\", id=str(uuid.uuid4()))\n",
    "    state[\"messages\"].append(human_message)\n",
    "    ai_message = llm_with_lt_memory_write_tool.invoke(state[\"messages\"])\n",
    "    return {\"messages\": [ai_message]}\n"
   ],
   "outputs": [],
   "execution_count": 281
  },
  {
   "metadata": {
    "ExecuteTime": {
     "end_time": "2025-01-21T05:22:02.994871Z",
     "start_time": "2025-01-21T05:22:02.978611Z"
    }
   },
   "cell_type": "code",
   "source": [
    "################################################################################\n",
    "# Feedback Controller Node\n",
    "################################################################################\n",
    "\n",
    "from sklearn.metrics import classification_report, confusion_matrix\n",
    "from statistics import mode\n",
    "from tqdm import tqdm\n",
    "\n",
    "\n",
    "def feedback_controller(state):\n",
    "    sorted_policies = get_previous_policies()\n",
    "    datasets = {\"normal\": normal_df_test, \"attack\": attack_df_test}\n",
    "    y_pred = []\n",
    "    y_true = []\n",
    "    for attack_type, dataset in datasets.items():\n",
    "        test_set_size = dataset.shape[0]\n",
    "        for i in tqdm(range(test_set_size), ncols=100, desc=f\"Predicting {attack_type} entries...\",\n",
    "                      disable=not show_progress):\n",
    "            try:\n",
    "                predicted_attack_types = []\n",
    "                for policy in sorted_policies[:k]:\n",
    "                    feature_name = policy['feature']\n",
    "                    op = policy['condition']\n",
    "                    value = policy['value']\n",
    "                    try:\n",
    "                        value = float(value)\n",
    "                    except ValueError:\n",
    "                        value\n",
    "                    predicted_attack_types.append(\n",
    "                        \"attack\" if operations[op](dataset.iloc[i][feature_name], value) else \"normal\")\n",
    "                y_true.append(attack_type)\n",
    "                y_pred.append(mode(predicted_attack_types))\n",
    "            except Exception as e:\n",
    "                continue\n",
    "    c_report = classification_report(y_true, y_pred, digits=4, output_dict=True)\n",
    "    c_matrix = confusion_matrix(y_true, y_pred)\n",
    "    print(c_report['macro avg'])\n",
    "    print(c_matrix)\n",
    "    c_reports.append(c_report)\n",
    "    c_matrices.append(c_matrix)\n",
    "    return {\"messages\": get_filtered_messages(state[\"messages\"]), \"macro_f1s\": c_report['macro avg']['f1-score'],\n",
    "            \"i\": state[\"i\"] + 1}"
   ],
   "outputs": [],
   "execution_count": 282
  },
  {
   "metadata": {
    "ExecuteTime": {
     "end_time": "2025-01-21T05:22:03.060551Z",
     "start_time": "2025-01-21T05:22:03.053868Z"
    }
   },
   "cell_type": "code",
   "source": [
    "################################################################################\n",
    "# Conditional Edge for Policy Evaluation Tool\n",
    "################################################################################\n",
    "\n",
    "def p_eval_conditional_edge(state):\n",
    "    if isinstance(state, list):\n",
    "        ai_message = state[-1]\n",
    "    elif isinstance(state, dict) and (messages := state.get(\"messages\", [])):\n",
    "        ai_message = messages[-1]  # Default case\n",
    "    elif messages := getattr(state, \"messages\", []):\n",
    "        ai_message = messages[-1]\n",
    "    else:\n",
    "        raise ValueError(f\"No messages found in input state to tool_edge: {state}\")\n",
    "\n",
    "    if hasattr(ai_message, \"tool_calls\") and len(ai_message.tool_calls) > 0:\n",
    "        return \"policy_evaluate_tool\"\n",
    "    return \"persistence_filter\""
   ],
   "outputs": [],
   "execution_count": 283
  },
  {
   "metadata": {
    "ExecuteTime": {
     "end_time": "2025-01-21T05:22:03.187179Z",
     "start_time": "2025-01-21T05:22:03.181509Z"
    }
   },
   "cell_type": "code",
   "source": [
    "################################################################################\n",
    "# Conditional Edge for Feedback\n",
    "################################################################################\n",
    "\n",
    "def feedback_conditional_edge(state):\n",
    "    if state[\"i\"] < n and state[\"macro_f1s\"] < f:\n",
    "        return \"policy_generator\"\n",
    "    return \"__end__\""
   ],
   "outputs": [],
   "execution_count": 284
  },
  {
   "metadata": {
    "ExecuteTime": {
     "end_time": "2025-01-21T05:22:03.214301Z",
     "start_time": "2025-01-21T05:22:03.205713Z"
    }
   },
   "cell_type": "code",
   "source": [
    "################################################################################\n",
    "# Function for getting filtered messages\n",
    "################################################################################\n",
    "\n",
    "import uuid\n",
    "from langchain_core.messages import RemoveMessage\n",
    "\n",
    "\n",
    "def get_filtered_messages(messages, init=False):\n",
    "    system_message = SystemMessage(f\"\"\"\n",
    "    You are a good data analyst.\n",
    "    You will be provided with network data entries categorized as either normal or attack, along with their corresponding feature names.\n",
    "    Carefully analyze the differences between normal and attack entries by comparing corresponding fields.\n",
    "    Your task is to generate {k} simple and deterministic policies for top {k} important features to filter attack entries.\n",
    "    Supported operators are '==', '!=', '>', '<', '>=', '<='.\n",
    "    If policy is TRUE then then entry is 'attack' otherwise 'normal'.\n",
    "    Generate exactly {k} policies to filter attack entries and make a tool call for each policy.\n",
    "    After getting results output the policies along with the f1-score.\n",
    "    \"\"\", id=str(uuid.uuid4()))\n",
    "    if init:\n",
    "        human_message = HumanMessage(f\"\"\"\n",
    "        Following is the network data categorized as normal and attack along with their corresponding feature names.\n",
    "        Generate policies for the top {k} important features to filter attack entries.\n",
    "        Evaluate the policies using the 'policy_evaluate_tool' by making a tool call for each policy.\n",
    "        Output the policies along with the f1-score.\n",
    "\n",
    "        Normal Entries:\n",
    "        ```{json.dumps(normal_entries_dict)}```\n",
    "\n",
    "        Attack Entries:\n",
    "        ```{json.dumps(attack_entries_dict)}```\n",
    "        \"\"\", id=str(uuid.uuid4()))\n",
    "    else:\n",
    "        human_message = HumanMessage(f\"\"\"\n",
    "        Following is the network data categorized as normal and attack along with their corresponding feature names.\n",
    "\n",
    "        Normal Entries:\n",
    "        ```{json.dumps(normal_entries_dict)}```\n",
    "\n",
    "        Attack Entries:\n",
    "        ```{json.dumps(attack_entries_dict)}```\n",
    "\n",
    "        You previously generated some policies that are not performing well.\n",
    "\n",
    "        Previous under performing policies:\n",
    "        ```{get_previous_policies(as_string=True)}```\n",
    "\n",
    "        Your task is to:\n",
    "        1. Make changes to above policies based on the network data and comments. (You can ignore a policy if it has a low f1-score)\n",
    "        2. See if you can create a policy with a different feature.\n",
    "        3. Generate {k} policies to filter attack entries with higher f1-score.\n",
    "        4. Evaluate the policies using the 'policy_evaluate_tool' by making a tool call for each policy.\n",
    "        5. When you get tool response output the policies along with the f1-score.\n",
    "        \"\"\", id=str(uuid.uuid4()))\n",
    "    deleted_messages = [RemoveMessage(id=m.id) for m in messages]\n",
    "    filtered_messages = deleted_messages + [system_message, human_message]\n",
    "    return filtered_messages"
   ],
   "outputs": [],
   "execution_count": 285
  },
  {
   "metadata": {
    "ExecuteTime": {
     "end_time": "2025-01-21T05:22:03.422710Z",
     "start_time": "2025-01-21T05:22:03.262864Z"
    }
   },
   "cell_type": "code",
   "source": [
    "################################################################################\n",
    "# Graph\n",
    "################################################################################\n",
    "\n",
    "from IPython.display import Image, display\n",
    "from langgraph.checkpoint.memory import MemorySaver\n",
    "from langgraph.graph import StateGraph, START, END\n",
    "from langgraph.prebuilt import ToolNode\n",
    "\n",
    "builder = StateGraph(State)\n",
    "\n",
    "builder.add_node(\"policy_generator\", policy_generator)\n",
    "builder.add_node(\"policy_evaluate_tool\", ToolNode([policy_evaluate_tool]))\n",
    "builder.add_node(\"persistence_filter\", persistence_filter)\n",
    "builder.add_node(\"lt_memory_write_tool\", ToolNode([lt_memory_write_tool]))\n",
    "builder.add_node(\"feedback_controller\", feedback_controller)\n",
    "\n",
    "builder.add_edge(START, \"policy_generator\")\n",
    "builder.add_conditional_edges(\"policy_generator\", p_eval_conditional_edge,\n",
    "                              [\"policy_evaluate_tool\", \"persistence_filter\"])\n",
    "builder.add_edge(\"policy_evaluate_tool\", \"policy_generator\")\n",
    "builder.add_edge(\"persistence_filter\", \"lt_memory_write_tool\")\n",
    "builder.add_edge(\"lt_memory_write_tool\", \"feedback_controller\")\n",
    "builder.add_conditional_edges(\"feedback_controller\", feedback_conditional_edge, [\"policy_generator\", END])\n",
    "\n",
    "memory_saver = MemorySaver()\n",
    "graph = builder.compile(checkpointer=memory_saver, interrupt_before=[])\n",
    "\n",
    "display(Image(graph.get_graph().draw_mermaid_png()))"
   ],
   "outputs": [
    {
     "data": {
      "image/png": "[encoded data removed]",
      "text/plain": [
       "<IPython.core.display.Image object>"
      ]
     },
     "metadata": {},
     "output_type": "display_data"
    }
   ],
   "execution_count": 286
  },
  {
   "metadata": {
    "ExecuteTime": {
     "end_time": "2025-01-21T05:22:03.542417Z",
     "start_time": "2025-01-21T05:22:03.512954Z"
    }
   },
   "cell_type": "code",
   "source": [
    "################################################################################\n",
    "# Long-term Memory Cleanup\n",
    "################################################################################\n",
    "\n",
    "# Delete all the policies from the database\n",
    "connection = sqlite3.connect(\"results/database.db\")\n",
    "cursor = connection.cursor()\n",
    "cursor.execute(\"DELETE FROM lt_memory\")\n",
    "connection.commit()\n",
    "\n",
    "cursor.execute(f\"SELECT * FROM lt_memory\")\n",
    "assert len(cursor.fetchall()) == 0\n",
    "\n",
    "connection.close()\n"
   ],
   "outputs": [],
   "execution_count": 287
  },
  {
   "metadata": {
    "ExecuteTime": {
     "end_time": "2025-01-21T05:25:19.346500Z",
     "start_time": "2025-01-21T05:22:03.594200Z"
    }
   },
   "cell_type": "code",
   "source": [
    "################################################################################\n",
    "# Invoke Graph\n",
    "################################################################################\n",
    "\n",
    "# Configurations\n",
    "k = 5  # Number of policies\n",
    "n = 5  # Number of iterations\n",
    "f = 1  # F1-score threshold\n",
    "c_reports = []\n",
    "c_matrices = []\n",
    "\n",
    "state = State(i=0, macro_f1s=0.5, messages=[])\n",
    "state[\"messages\"] = get_filtered_messages([], init=True)\n",
    "config = {\"configurable\": {\"thread_id\": 1}, \"recursion_limit\": 6 * n + 1}\n",
    "output = graph.invoke(state, config)"
   ],
   "outputs": [
    {
     "name": "stdout",
     "output_type": "stream",
     "text": [
      "{'precision': 0.5596322676826239, 'recall': 0.5529428251121076, 'f1-score': 0.2023035409358747, 'support': 20000.0}\n",
      "[[ 1889 15951]\n",
      " [    0  2160]]\n",
      "{'precision': 0.5732177105216122, 'recall': 0.6480516110280684, 'f1-score': 0.3569903584874616, 'support': 20000.0}\n",
      "[[ 5299 12541]\n",
      " [    2  2158]]\n",
      "{'precision': 0.5732177105216122, 'recall': 0.6480516110280684, 'f1-score': 0.3569903584874616, 'support': 20000.0}\n",
      "[[ 5299 12541]\n",
      " [    2  2158]]\n",
      "{'precision': 0.6977633065570684, 'recall': 0.8558129878757681, 'f1-score': 0.7361433595020124, 'support': 20000.0}\n",
      "[[15231  2609]\n",
      " [  307  1853]]\n",
      "{'precision': 0.8891796494644596, 'recall': 0.9460886895864475, 'f1-score': 0.9149463930311714, 'support': 20000.0}\n",
      "[[17304   536]\n",
      " [  168  1992]]\n"
     ]
    }
   ],
   "execution_count": 288
  },
  {
   "metadata": {
    "ExecuteTime": {
     "end_time": "2025-01-21T06:04:08.922704Z",
     "start_time": "2025-01-21T06:04:08.865470Z"
    }
   },
   "cell_type": "code",
   "source": [
    "################################################################################\n",
    "# Long-term Memory Visualizer\n",
    "################################################################################\n",
    "\n",
    "import datetime\n",
    "\n",
    "policies = get_previous_policies()\n",
    "print(tabulate(policies, headers=\"keys\", tablefmt=\"grid\"))\n",
    "\n",
    "# Save this tabulate table to a file with name as the current timestamp\n",
    "if len(policies) > 0:\n",
    "    timestamp = datetime.datetime.now().strftime(\"%Y-%m-%d-%H-%M-%S\")\n",
    "    file_name = f\"results/policies-{timestamp}.txt\"\n",
    "    with open(file_name, \"w\") as file:\n",
    "        try:\n",
    "            llm_name = llm.model_name\n",
    "        except AttributeError:\n",
    "            llm_name = llm.model\n",
    "        file.write(f\">>> Results for {llm_name} of sample size {sample_size}\\n\\n\")\n",
    "        file.write(tabulate(policies, headers=\"keys\", tablefmt=\"grid\"))\n",
    "        file.write(\"\\n\\n\")\n",
    "        for i in range(len(c_reports)):\n",
    "            file.write(f\"{c_reports[i]}\\n\")\n",
    "            file.write(f\"{c_matrices[i]}\\n\\n\")\n",
    "\n"
   ],
   "outputs": [
    {
     "name": "stdout",
     "output_type": "stream",
     "text": [
      "+-----------------+-------------+---------+------------+-----------------------------------------------------------------------------------------------------------------------------------------------------------------------------------------------------------------+\n",
      "| feature         | condition   |   value |   f1_score | comment                                                                                                                                                                                                         |\n",
      "+=================+=============+=========+============+=================================================================================================================================================================================================================+\n",
      "| Weight          | >           |   100   |   0.79926  | Initial policy.                                                                                                                                                                                                 |\n",
      "+-----------------+-------------+---------+------------+-----------------------------------------------------------------------------------------------------------------------------------------------------------------------------------------------------------------+\n",
      "| ack_flag_number | ==          |     0   |   0.779788 | The new policy is identical to the previous one. Both achieve the same high F1-score, confirming that the absence of an acknowledgement flag is a strong indicator of an attack.                                |\n",
      "+-----------------+-------------+---------+------------+-----------------------------------------------------------------------------------------------------------------------------------------------------------------------------------------------------------------+\n",
      "| flow_duration   | <           |     0.1 |   0.684491 | The new policy is the same as the previous one. Both policies perform similarly, indicating that a flow duration under 0.1 is a moderately good indicator of an attack.                                         |\n",
      "+-----------------+-------------+---------+------------+-----------------------------------------------------------------------------------------------------------------------------------------------------------------------------------------------------------------+\n",
      "| HTTP            | ==          |     0   |   0.489635 | The previous policy (HTTP == 0, F1-Score: 0.8) achieved a much higher F1-score. This discrepancy might be due to differences in the datasets used for evaluation or variations in the tool's internal workings. |\n",
      "+-----------------+-------------+---------+------------+-----------------------------------------------------------------------------------------------------------------------------------------------------------------------------------------------------------------+\n",
      "| syn_flag_number | >           |     0   |   0.290972 | The new policy (syn_flag_number > 0) performs similarly to the previous one (syn_flag_number == 1), both achieving a low F1-score.                                                                              |\n",
      "+-----------------+-------------+---------+------------+-----------------------------------------------------------------------------------------------------------------------------------------------------------------------------------------------------------------+\n",
      "| rst_count       | >           |     0   |   0.2      | This is a new policy. The previous policy had a low F1-score.  The new policy checks if the reset count is greater than 0.                                                                                      |\n",
      "+-----------------+-------------+---------+------------+-----------------------------------------------------------------------------------------------------------------------------------------------------------------------------------------------------------------+\n",
      "| psh_flag_number | ==          |     1   |   0.185134 | The new policy is the same as the previous one. Previous policy comment: \"Initial policy.\"                                                                                                                      |\n",
      "+-----------------+-------------+---------+------------+-----------------------------------------------------------------------------------------------------------------------------------------------------------------------------------------------------------------+\n",
      "| syn_count       | >           |     1   |   0.157442 | Initial policy.                                                                                                                                                                                                 |\n",
      "+-----------------+-------------+---------+------------+-----------------------------------------------------------------------------------------------------------------------------------------------------------------------------------------------------------------+\n"
     ]
    }
   ],
   "execution_count": 289
  },
  {
   "metadata": {
    "ExecuteTime": {
     "end_time": "2025-01-20T05:09:27.760806Z",
     "start_time": "2025-01-20T05:09:27.717939Z"
    }
   },
   "cell_type": "code",
   "source": [
    "for msg in output[\"messages\"]:\n",
    "    msg.pretty_print()"
   ],
   "outputs": [
    {
     "ename": "NameError",
     "evalue": "name 'output' is not defined",
     "output_type": "error",
     "traceback": [
      "\u001B[1;31m---------------------------------------------------------------------------\u001B[0m",
      "\u001B[1;31mNameError\u001B[0m                                 Traceback (most recent call last)",
      "Cell \u001B[1;32mIn[20], line 1\u001B[0m\n\u001B[1;32m----> 1\u001B[0m \u001B[38;5;28;01mfor\u001B[39;00m msg \u001B[38;5;129;01min\u001B[39;00m output[\u001B[38;5;124m\"\u001B[39m\u001B[38;5;124mmessages\u001B[39m\u001B[38;5;124m\"\u001B[39m]:\n\u001B[0;32m      2\u001B[0m     msg\u001B[38;5;241m.\u001B[39mpretty_print()\n",
      "\u001B[1;31mNameError\u001B[0m: name 'output' is not defined"
     ]
    }
   ],
   "execution_count": 20
  },
  {
   "metadata": {
    "ExecuteTime": {
     "end_time": "2025-01-15T03:08:43.612955Z",
     "start_time": "2025-01-15T03:08:39.930124Z"
    }
   },
   "cell_type": "code",
   "outputs": [
    {
     "name": "stderr",
     "output_type": "stream",
     "text": [
      "Predicting normal entries...: 100%|█████████████████████████████| 100/100 [00:00<00:00, 7668.53it/s]\n",
      "Predicting attack entries...: 100%|█████████████████████████████| 100/100 [00:00<00:00, 9936.52it/s]\n"
     ]
    },
    {
     "name": "stdout",
     "output_type": "stream",
     "text": [
      "{'attack': {'precision': 0.6666666666666666, 'recall': 0.08, 'f1-score': 0.14285714285714285, 'support': 100.0}, 'normal': {'precision': 0.5106382978723404, 'recall': 0.96, 'f1-score': 0.6666666666666666, 'support': 100.0}, 'accuracy': 0.52, 'macro avg': {'precision': 0.5886524822695035, 'recall': 0.52, 'f1-score': 0.40476190476190477, 'support': 200.0}, 'weighted avg': {'precision': 0.5886524822695035, 'recall': 0.52, 'f1-score': 0.40476190476190466, 'support': 200.0}}\n",
      "[[ 8 92]\n",
      " [ 4 96]]\n"
     ]
    }
   ],
   "execution_count": 17,
   "source": "graph.get_state(config).next"
  },
  {
   "metadata": {
    "ExecuteTime": {
     "end_time": "2025-01-15T03:02:48.353397Z",
     "start_time": "2025-01-15T03:02:48.342637Z"
    }
   },
   "cell_type": "code",
   "source": "output = graph.invoke(None, config)",
   "outputs": [
    {
     "name": "stdout",
     "output_type": "stream",
     "text": [
      "[('flow_duration', '<', '0.87592973571767685', 'new policy'), ('HTTP', '>', '0.39908418869536888', 'new policy'), ('rst_count', '>', '0.071075293113404131', 'new policy'), ('psh_flag_number', '>', '0.42336309523809523', 'new policy'), ('syn_flag_number', '>', '0.548002700243609', 'new policy'), ('fin_count', '>', '0.4255740835304499', 'new policy')]\n"
     ]
    }
   ],
   "execution_count": 69
  },
  {
   "metadata": {
    "ExecuteTime": {
     "end_time": "2025-01-20T02:24:54.358571Z",
     "start_time": "2025-01-20T02:24:54.347237Z"
    }
   },
   "cell_type": "code",
   "outputs": [],
   "execution_count": 94,
   "source": [
    "################################################################################\n",
    "# Long-term Memory Read Tool\n",
    "################################################################################\n",
    "\n",
    "import sqlite3\n",
    "from typing import List\n",
    "\n",
    "\n",
    "@tool\n",
    "def lt_memory_read_tool(features: List[str]) -> List:\n",
    "    \"\"\"Read the policies with the given features ['feature1', 'feature2', ...] from the SQL database.\"\"\"\n",
    "\n",
    "    try:\n",
    "        # Create a connection to a SQLite database\n",
    "        db_name = \"results/database.db\"\n",
    "        connection = sqlite3.connect(db_name)\n",
    "\n",
    "        # Read data from the database\n",
    "        table_name = \"lt_memory\"\n",
    "        cursor = connection.cursor()\n",
    "\n",
    "        # Create the table if it does not exist\n",
    "        cursor.execute(\n",
    "            f\"CREATE TABLE IF NOT EXISTS {table_name} (feature TEXT PRIMARY KEY, condition TEXT, value TEXT, f1_score TEXT, comment TEXT)\")\n",
    "\n",
    "        # Read the policies from the table\n",
    "        cursor.execute(f\"SELECT * FROM {table_name} WHERE feature IN ({', '.join(['?'] * len(features))})\",\n",
    "                       features)\n",
    "        rows = cursor.fetchall()\n",
    "\n",
    "        # Close the connection\n",
    "        connection.close()\n",
    "\n",
    "        return rows\n",
    "    except Exception as e:\n",
    "        print(e)\n",
    "        return []"
   ]
  },
  {
   "metadata": {
    "ExecuteTime": {
     "end_time": "2025-01-20T02:24:54.857026Z",
     "start_time": "2025-01-20T02:24:54.849711Z"
    }
   },
   "cell_type": "code",
   "outputs": [],
   "execution_count": 100,
   "source": [
    "################################################################################\n",
    "# Conditional Edge for Long-term Memory Read/Write\n",
    "################################################################################\n",
    "\n",
    "def ltm_rw_conditional_edge(state):\n",
    "    if isinstance(state, list):\n",
    "        ai_message = state[-1]\n",
    "    elif isinstance(state, dict) and (messages := state.get(\"messages\", [])):\n",
    "        ai_message = messages[-1]  # Default case\n",
    "    elif messages := getattr(state, \"messages\", []):\n",
    "        ai_message = messages[-1]\n",
    "    else:\n",
    "        raise ValueError(f\"No messages found in input state to tool_edge: {state}\")\n",
    "\n",
    "    # TODO: Implement the condition for long-term memory read/write\n",
    "    if hasattr(ai_message, \"tool_calls\") and len(ai_message.tool_calls) > 0:\n",
    "        if ai_message.tool_calls[-1][\"name\"] == \"lt_memory_read_tool\":\n",
    "            return \"lt_memory_read_tool\"\n",
    "        elif ai_message.tool_calls[-1][\"name\"] == \"lt_memory_write_tool\":\n",
    "            return \"lt_memory_write_tool\"\n",
    "    return \"feedback_controller\""
   ]
  },
  {
   "metadata": {},
   "cell_type": "code",
   "outputs": [],
   "execution_count": null,
   "source": ""
  }
 ],
 "metadata": {
  "language_info": {
   "name": "python"
  },
  "kernelspec": {
   "name": "python3",
   "language": "python",
   "display_name": "Python 3 (ipykernel)"
  }
 },
 "nbformat": 4,
 "nbformat_minor": 2
}
