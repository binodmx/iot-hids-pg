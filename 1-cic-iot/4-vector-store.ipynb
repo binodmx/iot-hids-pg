{
 "cells": [
  {
   "cell_type": "code",
   "execution_count": 39,
   "metadata": {},
   "outputs": [
    {
     "name": "stdout",
     "output_type": "stream",
     "text": [
      "[['[0.5280917382240295, 87.48, 6.0, 64.0, 2.349469286178324, 2.349469286178324, 0.0, 0.0, 1.0, 0.0, 0.0, 0.0, 0.0, 0.0, 0.0, 1.62, 0.0, 0.0, 0.0, 0.0, 0.0, 0.0, 0.0, 1.0, 0.0, 0.0, 0.0, 0.0, 1.0, 1.0, 567.0, 54.0, 54.0, 54.0, 0.0, 54.0, 83361180.06697729, 9.5, 10.392304845413264, 0.0, 0.0, 0.0, 141.55]', '[4.034660081863404, 108.0, 6.0, 64.0, 0.4957047676197929, 0.4957047676197929, 0.0, 0.0, 1.0, 0.0, 0.0, 0.0, 0.0, 0.0, 0.0, 2.0, 0.0, 0.0, 0.0, 0.0, 0.0, 0.0, 0.0, 1.0, 0.0, 0.0, 0.0, 0.0, 1.0, 1.0, 567.0, 54.0, 54.0, 54.0, 0.0, 54.0, 82980885.10488626, 9.5, 10.392304845413264, 0.0, 0.0, 0.0, 141.55]', '[7.582636857032776, 108.0, 6.0, 64.0, 0.2637605508842739, 0.2637605508842739, 0.0, 0.0, 0.0, 0.0, 0.0, 0.0, 0.0, 0.0, 0.0, 0.0, 0.0, 0.0, 0.0, 0.0, 0.0, 0.0, 0.0, 1.0, 0.0, 0.0, 0.0, 0.0, 1.0, 1.0, 567.0, 54.0, 54.0, 54.0, 0.0, 54.0, 82947503.09824194, 9.5, 10.392304845413264, 0.0, 0.0, 0.0, 141.55]', '[0.0, 54.0, 6.0, 64.0, 1.4805266960844423, 1.4805266960844423, 0.0, 0.0, 0.0, 0.0, 0.0, 0.0, 0.0, 0.0, 0.0, 0.0, 0.0, 0.0, 0.0, 0.0, 0.0, 0.0, 0.0, 1.0, 0.0, 0.0, 0.0, 0.0, 1.0, 1.0, 567.0, 54.0, 54.0, 54.0, 0.0, 54.0, 83067289.35878862, 9.5, 10.392304845413264, 0.0, 0.0, 0.0, 141.55]', '[0.0, 54.0, 6.0, 64.0, 4.1822382426698965, 4.1822382426698965, 0.0, 0.0, 0.0, 0.0, 1.0, 1.0, 0.0, 0.0, 0.0, 0.0, 0.0, 1.0, 1.0, 0.0, 0.0, 0.0, 0.0, 1.0, 0.0, 0.0, 0.0, 0.0, 1.0, 1.0, 567.0, 54.0, 54.0, 54.0, 0.0, 54.0, 83313878.06152436, 9.5, 10.392304845413264, 0.0, 0.0, 0.0, 141.55]']]\n"
     ]
    }
   ],
   "source": [
    "################################################################################\n",
    "# Predict from Vector Store\n",
    "################################################################################\n",
    "\n",
    "from langchain_huggingface.embeddings import HuggingFaceEmbeddings\n",
    "from langchain_chroma import Chroma\n",
    "from statistics import mode\n",
    "from sklearn.metrics import classification_report, confusion_matrix\n",
    "from tqdm import tqdm\n",
    "import numpy as np\n",
    "\n",
    "train_set_size = 100\n",
    "\n",
    "embeddings = HuggingFaceEmbeddings()\n",
    "\n",
    "vector_store = Chroma(\n",
    "    collection_name=\"cic-iot\",\n",
    "    embedding_function=embeddings, \n",
    "    persist_directory=f\"./vector-stores/chroma-db-{train_set_size}-2\")\n",
    "\n",
    "retriever = vector_store.as_retriever(\n",
    "    search_type=\"mmr\", \n",
    "    search_kwargs={\"k\": 5, \"fetch_k\": 5})\n",
    "\n",
    "# https://stackoverflow.com/questions/76482987/chroma-database-embeddings-none-when-using-get\n",
    "# print(len(vector_store._collection.get(include=['embeddings'])[\"embeddings\"]))\n",
    "\n",
    "vectors = vector_store._collection.get(include=['embeddings'], where={'label': 'attack'})['embeddings']\n",
    "mean_vector = np.mean(vectors, axis=0).tolist()\n",
    "\n",
    "# get the most similar documents using the mean vector\n",
    "similar_documents = vector_store._collection.query(query_embeddings=[mean_vector], n_results=5)\n",
    "print(similar_documents['documents'])\n",
    "\n",
    "\n",
    "# for attack_type, dataset in datasets.items():\n",
    "#     test_set_size = dataset.shape[0]\n",
    "#     for i in tqdm(range(test_set_size), ncols=100, desc=f\"Predicting {attack_type} entries...\"):\n",
    "#         query_document = str(dataset.iloc[i].to_list())\n",
    "#         similar_documents = retriever.invoke(query_document, filter={\"source\": \"cic-iot\"})\n",
    "#         y_true.append(attack_type)\n",
    "#         y_pred.append(mode([doc.metadata[\"label\"] for doc in similar_documents]))\n",
    "\n",
    "# c_report = classification_report(y_true, y_pred)\n",
    "# c_matrix = confusion_matrix(y_true, y_pred)\n",
    "\n",
    "# with open(f\"results/result-{sample_size}-2-{train_set_size}.txt\", \"w\") as f:\n",
    "#     f.write(f\"Classication Report\\n{c_report}\\n\\nConfusion Matrix\\n{c_matrix}\")\n",
    "\n",
    "# print(c_report)\n",
    "# print(c_matrix)"
   ]
  },
  {
   "cell_type": "code",
   "execution_count": 40,
   "metadata": {},
   "outputs": [
    {
     "data": {
      "text/plain": [
       "'sentence-transformers/all-mpnet-base-v2'"
      ]
     },
     "execution_count": 40,
     "metadata": {},
     "output_type": "execute_result"
    }
   ],
   "source": [
    "embeddings.model_name\n",
    "Intel(R) Xeon(R) Silver 4309Y CPU @ 2.80GHz"
   ]
  }
 ],
 "metadata": {
  "kernelspec": {
   "display_name": "llm",
   "language": "python",
   "name": "python3"
  },
  "language_info": {
   "codemirror_mode": {
    "name": "ipython",
    "version": 3
   },
   "file_extension": ".py",
   "mimetype": "text/x-python",
   "name": "python",
   "nbconvert_exporter": "python",
   "pygments_lexer": "ipython3",
   "version": "3.10.14"
  }
 },
 "nbformat": 4,
 "nbformat_minor": 2
}
