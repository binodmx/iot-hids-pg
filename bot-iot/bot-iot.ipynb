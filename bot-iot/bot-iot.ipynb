{
 "cells": [
  {
   "cell_type": "markdown",
   "metadata": {},
   "source": [
    "**Dataset Info**\n",
    "\n",
    "- Paper: Towards the development of realistic botnet dataset in the internet of things for network forensic analytics: Bot-iot dataset\n",
    "- Published in: Future Generation Computer Systems 100\n",
    "- Date: 2019\n",
    "- Links: \n",
    "    - https://research.unsw.edu.au/projects/bot-iot-dataset\n",
    "    - https://unsw-my.sharepoint.com/personal/z5131399_ad_unsw_edu_au/_layouts/15/onedrive.aspx"
   ]
  },
  {
   "cell_type": "code",
   "execution_count": 1,
   "metadata": {},
   "outputs": [],
   "source": [
    "import os\n",
    "import pandas as pd\n",
    "\n",
    "df_train = pd.read_csv(os.getcwd() + '/../data/bot-iot/Bot-IoT_Dataset/Dataset/5%/10-best features/10-best Training-Testing split/UNSW_2018_IoT_Botnet_Final_10_best_Training.csv', low_memory=False)\n",
    "df_test = pd.read_csv(os.getcwd() + '/../data/bot-iot/Bot-IoT_Dataset/Dataset/5%/10-best features/10-best Training-Testing split/UNSW_2018_IoT_Botnet_Final_10_best_Testing.csv', low_memory=False)"
   ]
  },
  {
   "cell_type": "code",
   "execution_count": 2,
   "metadata": {},
   "outputs": [
    {
     "name": "stdout",
     "output_type": "stream",
     "text": [
      "No of Featueres:  19\n",
      "Features:  Index(['pkSeqID', 'proto', 'saddr', 'sport', 'daddr', 'dport', 'seq', 'stddev',\n",
      "       'N_IN_Conn_P_SrcIP', 'min', 'state_number', 'mean', 'N_IN_Conn_P_DstIP',\n",
      "       'drate', 'srate', 'max', 'attack', 'category', 'subcategory'],\n",
      "      dtype='object')\n"
     ]
    }
   ],
   "source": [
    "print(\"No of Featueres: \", len(df_train.columns))\n",
    "print(\"Features: \", df_train.columns)"
   ]
  }
 ],
 "metadata": {
  "kernelspec": {
   "display_name": "Python 3",
   "language": "python",
   "name": "python3"
  },
  "language_info": {
   "codemirror_mode": {
    "name": "ipython",
    "version": 3
   },
   "file_extension": ".py",
   "mimetype": "text/x-python",
   "name": "python",
   "nbconvert_exporter": "python",
   "pygments_lexer": "ipython3",
   "version": "3.11.9"
  }
 },
 "nbformat": 4,
 "nbformat_minor": 2
}
