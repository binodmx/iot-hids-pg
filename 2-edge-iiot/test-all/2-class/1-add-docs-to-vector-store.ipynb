{
 "cells": [
  {
   "cell_type": "code",
   "execution_count": 1,
   "metadata": {},
   "outputs": [
    {
     "name": "stdout",
     "output_type": "stream",
     "text": [
      "Attack Training set size:  (106799, 61)\n",
      "Attack Test set size:  (26700, 61)\n",
      "Normal Training set size:  (19441, 61)\n",
      "Normal Test set size:  (4860, 61)\n"
     ]
    }
   ],
   "source": [
    "import pandas as pd\n",
    "import os\n",
    "import json\n",
    "\n",
    "# Load dateset\n",
    "df = pd.read_csv(os.getcwd() + '/../../data/edge-iiot/Edge-IIoTset dataset/Selected dataset for ML and DL/ML-EdgeIIoT-dataset.csv', low_memory=False)\n",
    "attack_df = df[df['Attack_label'] == 1]\n",
    "attack_df = attack_df.drop(columns=['Attack_label', 'Attack_type'])\n",
    "attack_df_train = attack_df.sample(frac=0.8, random_state=42)\n",
    "attack_df_test = attack_df.drop(attack_df_train.index)\n",
    "\n",
    "normal_df = df[df['Attack_label'] == 0]\n",
    "normal_df = normal_df.drop(columns=['Attack_label', 'Attack_type'])\n",
    "normal_df_train = normal_df.sample(frac=0.8, random_state=42)\n",
    "normal_df_test = normal_df.drop(normal_df_train.index)\n",
    "\n",
    "print(\"Attack Training set size: \", attack_df_train.shape)\n",
    "print(\"Attack Test set size: \", attack_df_test.shape)\n",
    "\n",
    "print(\"Normal Training set size: \", normal_df_train.shape)\n",
    "print(\"Normal Test set size: \", normal_df_test.shape)"
   ]
  },
  {
   "cell_type": "code",
   "execution_count": 2,
   "metadata": {},
   "outputs": [
    {
     "name": "stderr",
     "output_type": "stream",
     "text": [
      "/opt/home/s4025371/anaconda3/envs/llm/lib/python3.10/site-packages/sentence_transformers/cross_encoder/CrossEncoder.py:11: TqdmWarning: IProgress not found. Please update jupyter and ipywidgets. See https://ipywidgets.readthedocs.io/en/stable/user_install.html\n",
      "  from tqdm.autonotebook import tqdm, trange\n",
      "/opt/home/s4025371/anaconda3/envs/llm/lib/python3.10/site-packages/transformers/tokenization_utils_base.py:1601: FutureWarning: `clean_up_tokenization_spaces` was not set. It will be set to `True` by default. This behavior will be depracted in transformers v4.45, and will be then set to `False` by default. For more details check this issue: https://github.com/huggingface/transformers/issues/31884\n",
      "  warnings.warn(\n",
      "Adding attack documents to vector store: 100%|████████████████████████| 5/5 [00:05<00:00,  1.01s/it]\n",
      "Adding normal documents to vector store: 100%|████████████████████████| 5/5 [00:03<00:00,  1.34it/s]"
     ]
    },
    {
     "name": "stdout",
     "output_type": "stream",
     "text": [
      "Total number of documents added: 20\n"
     ]
    },
    {
     "name": "stderr",
     "output_type": "stream",
     "text": [
      "\n"
     ]
    }
   ],
   "source": [
    "# pip install langchain\n",
    "# pip install langchain-openai\n",
    "# pip install langchain-ollama\n",
    "# pip install langchain-huggingface\n",
    "# pip install sentence-transformers\n",
    "# pip install langchain-chroma\n",
    "# https://huggingface.co/sentence-transformers/all-MiniLM-L6-v2\n",
    "# https://python.langchain.com/v0.2/docs/integrations/text_embedding/huggingfacehub/\n",
    "\n",
    "from langchain_openai import OpenAIEmbeddings\n",
    "from langchain_ollama import OllamaEmbeddings\n",
    "from langchain_huggingface.embeddings import HuggingFaceEmbeddings\n",
    "from langchain_chroma import Chroma\n",
    "from langchain_core.documents import Document\n",
    "from tqdm import tqdm\n",
    "import os\n",
    "import dotenv\n",
    "\n",
    "# Initialize embeddings\n",
    "\n",
    "# 1. OpenAIEmbeddings\n",
    "# dotenv.load_dotenv()\n",
    "# API_KEY = os.getenv(\"MY_OPENAI_API_KEY\")\n",
    "# embeddings = OpenAIEmbeddings(model=\"text-embedding-3-large\", openai_api_key=API_KEY)\n",
    "\n",
    "# 2. OllamaEmbeddings\n",
    "# embeddings = OllamaEmbeddings(model=\"all-minilm\")\n",
    "\n",
    "# 3. HuggingFaceEmbeddings\n",
    "embeddings = HuggingFaceEmbeddings()\n",
    "\n",
    "# Initialize vector store\n",
    "vector_store = Chroma(\n",
    "    collection_name=\"edge-iiotset\",\n",
    "    embedding_function=embeddings, \n",
    "    persist_directory=\"./chroma_db_binary\")\n",
    "\n",
    "# Add batched documents to vector store\n",
    "batch_size = 16\n",
    "total_attack_documents = attack_df_train.shape[0]\n",
    "total_normal_documents = normal_df_train.shape[0]\n",
    "\n",
    "for i in tqdm(range(0, total_attack_documents, batch_size), ncols=100, desc=\"Adding attack documents to vector store\"):\n",
    "    documents = [Document(page_content=str(attack_df_train.iloc[i+j].to_list()), metadata={\"source\": \"edge-iiotset\", \"label\": \"attack\"}) for j in range(min(batch_size, total_attack_documents-i))]\n",
    "    vector_store.add_documents(documents)\n",
    "\n",
    "for i in tqdm(range(0, total_normal_documents, batch_size), ncols=100, desc=\"Adding normal documents to vector store\"):\n",
    "    documents = [Document(page_content=str(normal_df_train.iloc[i+j].to_list()), metadata={\"source\": \"edge-iiotset\", \"label\": \"normal\"}) for j in range(min(batch_size, total_normal_documents-i))]\n",
    "    vector_store.add_documents(documents)\n",
    "\n",
    "print(f\"Total number of documents added: {total_attack_documents+total_normal_documents}\")"
   ]
  }
 ],
 "metadata": {
  "kernelspec": {
   "display_name": "Python 3.10.14 ('llm')",
   "language": "python",
   "name": "python3"
  },
  "language_info": {
   "codemirror_mode": {
    "name": "ipython",
    "version": 3
   },
   "file_extension": ".py",
   "mimetype": "text/x-python",
   "name": "python",
   "nbconvert_exporter": "python",
   "pygments_lexer": "ipython3",
   "version": "3.10.14"
  },
  "orig_nbformat": 4,
  "vscode": {
   "interpreter": {
    "hash": "ae27029e1f82e56f496a30980cc01ee9e9874fa5eb01d56792517e894009f269"
   }
  }
 },
 "nbformat": 4,
 "nbformat_minor": 2
}
