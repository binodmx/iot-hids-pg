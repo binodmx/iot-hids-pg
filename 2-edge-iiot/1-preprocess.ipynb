{
 "cells": [
  {
   "cell_type": "code",
   "execution_count": 1,
   "metadata": {},
   "outputs": [
    {
     "name": "stdout",
     "output_type": "stream",
     "text": [
      "Columns to drop:  ['icmp.unused', 'http.tls_port', 'dns.qry.type', 'dns.retransmit_request_in', 'mqtt.msg_decoded_as', 'mbtcp.len', 'mbtcp.trans_id', 'mbtcp.unit_id']\n",
      "Number of columns before removing columns:  63\n",
      "Number of columns after removing columns:  55\n",
      "Length of dataset before removing duplicates:  157800\n",
      "Length of dataset after removing duplicates:  156986\n"
     ]
    }
   ],
   "source": [
    "################################################################################\n",
    "# Remove columns with mean 0 and remove duplicate rows\n",
    "################################################################################\n",
    "\n",
    "import numpy as np\n",
    "import os\n",
    "import pandas as pd\n",
    "\n",
    "df = pd.read_csv(os.getcwd() + '/../data/edge-iiot/Edge-IIoTset dataset/Selected dataset for ML and DL/ML-EdgeIIoT-dataset.csv', low_memory=False)\n",
    "\n",
    "# remove columns if mean is 0\n",
    "columns_to_drop = []\n",
    "for c in df.select_dtypes(include=[np.number]).columns:\n",
    "    if df[c].mean() == 0:\n",
    "        columns_to_drop.append(c)\n",
    "print(\"Columns to drop: \", columns_to_drop)\n",
    "\n",
    "# get df with removed columns\n",
    "df_with_dropped_columns = df.drop(columns_to_drop, axis=1)\n",
    "print(\"Number of columns before removing columns: \", len(df.columns))\n",
    "print(\"Number of columns after removing columns: \", len(df_with_dropped_columns.columns))\n",
    "\n",
    "# remove duplicate rows\n",
    "df_no_duplicates = df_with_dropped_columns.drop_duplicates()\n",
    "print(\"Length of dataset before removing duplicates: \", len(df_with_dropped_columns))\n",
    "print(\"Length of dataset after removing duplicates: \", len(df_no_duplicates))\n",
    "\n",
    "# save to csv\n",
    "df_no_duplicates.to_csv(os.getcwd() + '/data/population.csv', index=False)\n"
   ]
  }
 ],
 "metadata": {
  "kernelspec": {
   "display_name": "llm",
   "language": "python",
   "name": "python3"
  },
  "language_info": {
   "codemirror_mode": {
    "name": "ipython",
    "version": 3
   },
   "file_extension": ".py",
   "mimetype": "text/x-python",
   "name": "python",
   "nbconvert_exporter": "python",
   "pygments_lexer": "ipython3",
   "version": "3.10.14"
  }
 },
 "nbformat": 4,
 "nbformat_minor": 2
}
