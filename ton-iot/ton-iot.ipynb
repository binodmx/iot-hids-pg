{
 "cells": [
  {
   "cell_type": "markdown",
   "metadata": {},
   "source": [
    "**Dataset Info**\n",
    "\n",
    "- Paper: TON_IoT telemetry dataset: a new generation dataset of IoT and IIoT for data-driven Intrusion Detection Systems\n",
    "- Published in: IEEE Access\n",
    "- Date: 09 September 2020\n",
    "- Links: \n",
    "    - https://research.unsw.edu.au/projects/toniot-datasets\n",
    "    - https://unsw-my.sharepoint.com/personal/z5025758_ad_unsw_edu_au/_layouts/15/onedrive.aspx"
   ]
  },
  {
   "cell_type": "code",
   "execution_count": 1,
   "metadata": {},
   "outputs": [],
   "source": [
    "import os\n",
    "import pandas as pd\n",
    "\n",
    "df = pd.read_csv(os.getcwd() + '/../data/ton-iot/TON_IoT datasets/Train_Test_datasets/Train_Test_Network_dataset/train_test_network.csv', low_memory=False)"
   ]
  },
  {
   "cell_type": "code",
   "execution_count": 2,
   "metadata": {},
   "outputs": [
    {
     "name": "stdout",
     "output_type": "stream",
     "text": [
      "No of Featueres:  44\n",
      "Features:  Index(['src_ip', 'src_port', 'dst_ip', 'dst_port', 'proto', 'service',\n",
      "       'duration', 'src_bytes', 'dst_bytes', 'conn_state', 'missed_bytes',\n",
      "       'src_pkts', 'src_ip_bytes', 'dst_pkts', 'dst_ip_bytes', 'dns_query',\n",
      "       'dns_qclass', 'dns_qtype', 'dns_rcode', 'dns_AA', 'dns_RD', 'dns_RA',\n",
      "       'dns_rejected', 'ssl_version', 'ssl_cipher', 'ssl_resumed',\n",
      "       'ssl_established', 'ssl_subject', 'ssl_issuer', 'http_trans_depth',\n",
      "       'http_method', 'http_uri', 'http_version', 'http_request_body_len',\n",
      "       'http_response_body_len', 'http_status_code', 'http_user_agent',\n",
      "       'http_orig_mime_types', 'http_resp_mime_types', 'weird_name',\n",
      "       'weird_addl', 'weird_notice', 'label', 'type'],\n",
      "      dtype='object')\n"
     ]
    }
   ],
   "source": [
    "print(\"No of Featueres: \", len(df.columns))\n",
    "print(\"Features: \", df.columns)"
   ]
  }
 ],
 "metadata": {
  "kernelspec": {
   "display_name": "Python 3",
   "language": "python",
   "name": "python3"
  },
  "language_info": {
   "codemirror_mode": {
    "name": "ipython",
    "version": 3
   },
   "file_extension": ".py",
   "mimetype": "text/x-python",
   "name": "python",
   "nbconvert_exporter": "python",
   "pygments_lexer": "ipython3",
   "version": "3.11.9"
  }
 },
 "nbformat": 4,
 "nbformat_minor": 2
}
