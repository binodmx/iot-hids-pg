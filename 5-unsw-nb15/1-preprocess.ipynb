{
 "cells": [
  {
   "cell_type": "code",
   "execution_count": 1,
   "metadata": {},
   "outputs": [
    {
     "name": "stdout",
     "output_type": "stream",
     "text": [
      "Columns to drop:  []\n",
      "Number of columns before removing columns:  45\n",
      "Number of columns after removing columns:  45\n",
      "Length of dataset before removing duplicates:  175341\n",
      "Length of dataset after removing duplicates:  175341\n"
     ]
    }
   ],
   "source": [
    "################################################################################\n",
    "# Remove columns with mean 0 and remove duplicate rows - Train\n",
    "################################################################################\n",
    "\n",
    "import numpy as np\n",
    "import os\n",
    "import pandas as pd\n",
    "from tqdm import tqdm\n",
    "\n",
    "df_train = pd.read_csv(os.getcwd() + '/../data/unsw-nb15/CSV Files/Training and Testing Sets/UNSW_NB15_training-set.csv', low_memory=False)\n",
    "\n",
    "# remove columns if mean is 0\n",
    "columns_to_drop = []\n",
    "for c in df_train.select_dtypes(include=[np.number]).columns:\n",
    "    if df_train[c].mean() == 0:\n",
    "        columns_to_drop.append(c)\n",
    "print(\"Columns to drop: \", columns_to_drop)\n",
    "\n",
    "# get df with removed columns\n",
    "df_train_with_dropped_columns = df_train.drop(columns_to_drop, axis=1)\n",
    "print(\"Number of columns before removing columns: \", len(df_train.columns))\n",
    "print(\"Number of columns after removing columns: \", len(df_train_with_dropped_columns.columns))\n",
    "\n",
    "# remove duplicate rows\n",
    "df_train_no_duplicates = df_train_with_dropped_columns.drop_duplicates()\n",
    "print(\"Length of dataset before removing duplicates: \", len(df_train_with_dropped_columns))\n",
    "print(\"Length of dataset after removing duplicates: \", len(df_train_no_duplicates))\n",
    "\n",
    "# save to csv\n",
    "df_train_no_duplicates.to_csv(os.getcwd() + '/data/population_train.csv', index=False)\n"
   ]
  },
  {
   "cell_type": "code",
   "execution_count": 2,
   "metadata": {},
   "outputs": [
    {
     "name": "stdout",
     "output_type": "stream",
     "text": [
      "Columns to drop:  []\n",
      "Number of columns before removing columns:  45\n",
      "Number of columns after removing columns:  45\n",
      "Length of dataset before removing duplicates:  82332\n",
      "Length of dataset after removing duplicates:  82332\n"
     ]
    }
   ],
   "source": [
    "################################################################################\n",
    "# Remove columns with mean 0 and remove duplicate rows - Test\n",
    "################################################################################\n",
    "\n",
    "import numpy as np\n",
    "import os\n",
    "import pandas as pd\n",
    "from tqdm import tqdm\n",
    "\n",
    "df_test = pd.read_csv(os.getcwd() + '/../data/unsw-nb15/CSV Files/Training and Testing Sets/UNSW_NB15_testing-set.csv', low_memory=False)\n",
    "\n",
    "# remove columns if mean is 0\n",
    "columns_to_drop = []\n",
    "for c in df_test.select_dtypes(include=[np.number]).columns:\n",
    "    if df_test[c].mean() == 0:\n",
    "        columns_to_drop.append(c)\n",
    "print(\"Columns to drop: \", columns_to_drop)\n",
    "\n",
    "# get df with removed columns\n",
    "df_test_with_dropped_columns = df_test.drop(columns_to_drop, axis=1)\n",
    "print(\"Number of columns before removing columns: \", len(df_test.columns))\n",
    "print(\"Number of columns after removing columns: \", len(df_test_with_dropped_columns.columns))\n",
    "\n",
    "# remove duplicate rows\n",
    "df_test_no_duplicates = df_test_with_dropped_columns.drop_duplicates()\n",
    "print(\"Length of dataset before removing duplicates: \", len(df_test_with_dropped_columns))\n",
    "print(\"Length of dataset after removing duplicates: \", len(df_test_no_duplicates))\n",
    "\n",
    "# save to csv\n",
    "df_test_no_duplicates.to_csv(os.getcwd() + '/data/population_test.csv', index=False)\n"
   ]
  }
 ],
 "metadata": {
  "kernelspec": {
   "display_name": "llm",
   "language": "python",
   "name": "python3"
  },
  "language_info": {
   "codemirror_mode": {
    "name": "ipython",
    "version": 3
   },
   "file_extension": ".py",
   "mimetype": "text/x-python",
   "name": "python",
   "nbconvert_exporter": "python",
   "pygments_lexer": "ipython3",
   "version": "3.10.14"
  }
 },
 "nbformat": 4,
 "nbformat_minor": 2
}
