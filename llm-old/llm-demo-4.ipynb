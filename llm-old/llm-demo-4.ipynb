{
 "cells": [
  {
   "cell_type": "markdown",
   "metadata": {},
   "source": [
    "# Dataset\n",
    "\n",
    "- Paper: CICIoT2023: A real-time dataset and benchmark for large-scale attacks in IoT environment\n",
    "- Links: \n",
    "    - https://www.mdpi.com/1424-8220/23/13/5941\n",
    "    - https://www.unb.ca/cic/datasets/iotdataset-2023.html\n",
    "- Published in: Sensors 2023\n",
    "- Date: 26 June 2023"
   ]
  },
  {
   "cell_type": "code",
   "execution_count": null,
   "metadata": {},
   "outputs": [],
   "source": []
  }
 ],
 "metadata": {
  "language_info": {
   "name": "python"
  }
 },
 "nbformat": 4,
 "nbformat_minor": 2
}
