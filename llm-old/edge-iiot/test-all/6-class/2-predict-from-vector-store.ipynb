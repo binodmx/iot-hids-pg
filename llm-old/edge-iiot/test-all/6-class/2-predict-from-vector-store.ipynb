{
 "cells": [
  {
   "cell_type": "code",
   "execution_count": 1,
   "metadata": {},
   "outputs": [
    {
     "name": "stdout",
     "output_type": "stream",
     "text": [
      "+--------------+---------+---------+--------+\n",
      "| Atack type   |   Total |   Train |   Test |\n",
      "+==============+=========+=========+========+\n",
      "| Normal       |   24301 |   19441 |   4860 |\n",
      "+--------------+---------+---------+--------+\n",
      "| DDoS         |   49396 |   39517 |   9879 |\n",
      "+--------------+---------+---------+--------+\n",
      "| Injection    |   30632 |   24506 |   6126 |\n",
      "+--------------+---------+---------+--------+\n",
      "| MITM         |    1214 |     971 |    243 |\n",
      "+--------------+---------+---------+--------+\n",
      "| Malware      |   31109 |   24887 |   6222 |\n",
      "+--------------+---------+---------+--------+\n",
      "| Scanning     |   21148 |   16918 |   4230 |\n",
      "+--------------+---------+---------+--------+\n"
     ]
    }
   ],
   "source": [
    "import pandas as pd\n",
    "import os\n",
    "from tabulate import tabulate\n",
    "\n",
    "# Load dateset\n",
    "df = pd.read_csv(os.getcwd() + '/../../data/edge-iiot/Edge-IIoTset dataset/Selected dataset for ML and DL/ML-EdgeIIoT-dataset.csv', low_memory=False)\n",
    "\n",
    "# Split dataset according to attack type\n",
    "normal_df = df[df['Attack_type'].isin([\"Normal\"])]\n",
    "ddos_df = df[df['Attack_type'].isin([\"DDoS_HTTP\", \"DDoS_TCP\", \"DDoS_UDP\", \"DDoS_ICMP\"])]\n",
    "injection_df = df[df['Attack_type'].isin([\"Uploading\", \"SQL_injection\", \"XSS\"])]\n",
    "mitm_df = df[df['Attack_type'].isin([\"MITM\"])]\n",
    "malware_df = df[df['Attack_type'].isin([\"Ransomware\", \"Password\", \"Backdoor\"])]\n",
    "scanning_df = df[df['Attack_type'].isin([\"Fingerprinting\", \"Port_Scanning\", \"Vulnerability_scanner\"])]\n",
    "\n",
    "# Drop columns\n",
    "normal_df = normal_df.drop(columns=['Attack_label', 'Attack_type'])\n",
    "ddos_df = ddos_df.drop(columns=['Attack_label', 'Attack_type'])\n",
    "injection_df = injection_df.drop(columns=['Attack_label', 'Attack_type'])\n",
    "mitm_df = mitm_df.drop(columns=['Attack_label', 'Attack_type'])\n",
    "malware_df = malware_df.drop(columns=['Attack_label', 'Attack_type'])\n",
    "scanning_df = scanning_df.drop(columns=['Attack_label', 'Attack_type'])\n",
    "\n",
    "# Split dataset into training and test set\n",
    "normal_df_train = normal_df.sample(frac=0.8, random_state=42)\n",
    "normal_df_test = normal_df.drop(normal_df_train.index)\n",
    "ddos_df_train = ddos_df.sample(frac=0.8, random_state=42)\n",
    "ddos_df_test = ddos_df.drop(ddos_df_train.index)\n",
    "injection_df_train = injection_df.sample(frac=0.8, random_state=42)\n",
    "injection_df_test = injection_df.drop(injection_df_train.index)\n",
    "mitm_df_train = mitm_df.sample(frac=0.8, random_state=42)\n",
    "mitm_df_test = mitm_df.drop(mitm_df_train.index)\n",
    "malware_df_train = malware_df.sample(frac=0.8, random_state=42)\n",
    "malware_df_test = malware_df.drop(malware_df_train.index)\n",
    "scanning_df_train = scanning_df.sample(frac=0.8, random_state=42)\n",
    "scanning_df_test = scanning_df.drop(scanning_df_train.index)\n",
    "\n",
    "# Print dataset sizes in a table\n",
    "data = [\n",
    "    [\"Normal\", normal_df.shape[0], normal_df_train.shape[0], normal_df_test.shape[0]],\n",
    "    [\"DDoS\", ddos_df.shape[0], ddos_df_train.shape[0], ddos_df_test.shape[0]],\n",
    "    [\"Injection\", injection_df.shape[0], injection_df_train.shape[0], injection_df_test.shape[0]],\n",
    "    [\"MITM\", mitm_df.shape[0], mitm_df_train.shape[0], mitm_df_test.shape[0]],\n",
    "    [\"Malware\", malware_df.shape[0], malware_df_train.shape[0], malware_df_test.shape[0]],\n",
    "    [\"Scanning\", scanning_df.shape[0], scanning_df_train.shape[0], scanning_df_test.shape[0]]\n",
    "]\n",
    "print(tabulate(data, headers=[\"Atack type\", \"Total\", \"Train\", \"Test\"], tablefmt=\"grid\"))"
   ]
  },
  {
   "cell_type": "code",
   "execution_count": 2,
   "metadata": {},
   "outputs": [
    {
     "name": "stderr",
     "output_type": "stream",
     "text": [
      "/opt/home/s4025371/anaconda3/envs/llm/lib/python3.10/site-packages/sentence_transformers/cross_encoder/CrossEncoder.py:11: TqdmWarning: IProgress not found. Please update jupyter and ipywidgets. See https://ipywidgets.readthedocs.io/en/stable/user_install.html\n",
      "  from tqdm.autonotebook import tqdm, trange\n",
      "/opt/home/s4025371/anaconda3/envs/llm/lib/python3.10/site-packages/transformers/tokenization_utils_base.py:1601: FutureWarning: `clean_up_tokenization_spaces` was not set. It will be set to `True` by default. This behavior will be depracted in transformers v4.45, and will be then set to `False` by default. For more details check this issue: https://github.com/huggingface/transformers/issues/31884\n",
      "  warnings.warn(\n"
     ]
    }
   ],
   "source": [
    "from langchain_huggingface.embeddings import HuggingFaceEmbeddings\n",
    "from langchain_chroma import Chroma\n",
    "\n",
    "embeddings = HuggingFaceEmbeddings()\n",
    "vector_store = Chroma(\n",
    "    collection_name=\"edge-iiotset\",\n",
    "    embedding_function=embeddings, \n",
    "    persist_directory=\"./chroma_db_binary\")\n",
    "retriever = vector_store.as_retriever(\n",
    "    search_type=\"mmr\", \n",
    "    search_kwargs={\"k\": 5, \"fetch_k\": 5})"
   ]
  },
  {
   "cell_type": "code",
   "execution_count": 3,
   "metadata": {},
   "outputs": [
    {
     "name": "stdout",
     "output_type": "stream",
     "text": [
      "              precision    recall  f1-score   support\n",
      "\n",
      "        ddos       0.00      0.00      0.00        10\n",
      "   injection       0.33      0.40      0.36        10\n",
      "     malware       0.64      0.90      0.75        10\n",
      "        mitm       1.00      0.80      0.89        10\n",
      "      normal       0.50      1.00      0.67        10\n",
      "    scanning       0.75      0.30      0.43        10\n",
      "\n",
      "    accuracy                           0.57        60\n",
      "   macro avg       0.54      0.57      0.52        60\n",
      "weighted avg       0.54      0.57      0.52        60\n",
      "\n"
     ]
    }
   ],
   "source": [
    "from statistics import mode\n",
    "from sklearn.metrics import classification_report\n",
    "\n",
    "datasets = {\n",
    "    \"normal\": normal_df_test, \n",
    "    \"ddos\": ddos_df_test, \n",
    "    \"injection\": injection_df_test, \n",
    "    \"mitm\": mitm_df_test, \n",
    "    \"malware\": malware_df_test, \n",
    "    \"scanning\": scanning_df_test\n",
    "}\n",
    "y_pred = []\n",
    "y_true = []\n",
    "\n",
    "for attack_type, dataset in datasets.items():\n",
    "    sample_size = 10 #dataset.shape[0]\n",
    "    for i in tqdm(range(sample_size), ncols=100, desc=f\"Predicting {attack_type} entries...\"):\n",
    "        query_document = str(dataset.iloc[i].to_list())\n",
    "        similar_documents = retriever.invoke(query_document, filter={\"source\": \"edge-iiotset\"})\n",
    "        y_true.append(attack_type)\n",
    "        y_pred.append(mode([doc.metadata[\"label\"] for doc in similar_documents]))\n",
    "\n",
    "print(classification_report(y_true, y_pred))"
   ]
  }
 ],
 "metadata": {
  "kernelspec": {
   "display_name": "llm",
   "language": "python",
   "name": "python3"
  },
  "language_info": {
   "codemirror_mode": {
    "name": "ipython",
    "version": 3
   },
   "file_extension": ".py",
   "mimetype": "text/x-python",
   "name": "python",
   "nbconvert_exporter": "python",
   "pygments_lexer": "ipython3",
   "version": "3.10.14"
  }
 },
 "nbformat": 4,
 "nbformat_minor": 2
}
