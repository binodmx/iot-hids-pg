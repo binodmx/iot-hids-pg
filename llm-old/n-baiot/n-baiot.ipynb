{
 "cells": [
  {
   "cell_type": "markdown",
   "metadata": {},
   "source": [
    "**Dataset Info**\n",
    "\n",
    "- Paper: N-BaIoT: Network-based Detection of IoT Botnet Attacks Using Deep Autoencoders\n",
    "- Published in: IEEE Pervasive Computing \n",
    "- Date: July-September 2018\n",
    "- Link: \n",
    "    - https://archive.ics.uci.edu/dataset/442/detection+of+iot+botnet+attacks+n+baiot\n",
    "    - https://arxiv.org/pdf/1805.03409\n",
    "    - https://www.kaggle.com/datasets/mkashifn/nbaiot-dataset/data"
   ]
  },
  {
   "cell_type": "code",
   "execution_count": 1,
   "metadata": {},
   "outputs": [],
   "source": [
    "import os\n",
    "import pandas as pd\n",
    "\n",
    "# dfs = [pd.read_csv(DATASET_DIRECTORY + k) for k in os.listdir(DATASET_DIRECTORY) if k.endswith('.csv')]"
   ]
  },
  {
   "cell_type": "code",
   "execution_count": 2,
   "metadata": {},
   "outputs": [
    {
     "name": "stdout",
     "output_type": "stream",
     "text": [
      "No of Featueres:  115\n",
      "Features:  Index(['MI_dir_L5_weight', 'MI_dir_L5_mean', 'MI_dir_L5_variance',\n",
      "       'MI_dir_L3_weight', 'MI_dir_L3_mean', 'MI_dir_L3_variance',\n",
      "       'MI_dir_L1_weight', 'MI_dir_L1_mean', 'MI_dir_L1_variance',\n",
      "       'MI_dir_L0.1_weight',\n",
      "       ...\n",
      "       'HpHp_L0.1_radius', 'HpHp_L0.1_covariance', 'HpHp_L0.1_pcc',\n",
      "       'HpHp_L0.01_weight', 'HpHp_L0.01_mean', 'HpHp_L0.01_std',\n",
      "       'HpHp_L0.01_magnitude', 'HpHp_L0.01_radius', 'HpHp_L0.01_covariance',\n",
      "       'HpHp_L0.01_pcc'],\n",
      "      dtype='object', length=115)\n"
     ]
    }
   ],
   "source": [
    "df = pd.read_csv(os.getcwd() + '/../data/n-baiot/1.benign.csv')\n",
    "print(\"No of Featueres: \", len(df.columns))\n",
    "print(\"Features: \", df.columns)"
   ]
  }
 ],
 "metadata": {
  "kernelspec": {
   "display_name": "Python 3",
   "language": "python",
   "name": "python3"
  },
  "language_info": {
   "codemirror_mode": {
    "name": "ipython",
    "version": 3
   },
   "file_extension": ".py",
   "mimetype": "text/x-python",
   "name": "python",
   "nbconvert_exporter": "python",
   "pygments_lexer": "ipython3",
   "version": "3.11.9"
  }
 },
 "nbformat": 4,
 "nbformat_minor": 2
}
