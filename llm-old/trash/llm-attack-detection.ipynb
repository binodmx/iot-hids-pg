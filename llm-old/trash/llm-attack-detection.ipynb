{
 "cells": [
  {
   "cell_type": "markdown",
   "metadata": {},
   "source": [
    "# Round#1\n",
    "\n",
    "- Task: Fetch LLM around 20 benign and attack entries and ask the next input is\n",
    "attack or benign.\n",
    "- Result: I tested with 20 benign and attack entries. It can predict attack \n",
    "entries with higher recall. However, precision of benign entries is bit lower.\n",
    "Token count reached upto 11000 with commands + entries.\n"
   ]
  },
  {
   "cell_type": "code",
   "execution_count": 65,
   "metadata": {},
   "outputs": [
    {
     "name": "stdout",
     "output_type": "stream",
     "text": [
      "Messages: [{'role': 'system', 'content': \"User gives 10 samples of normal (benign) and attack iot network data.When user ask to predict the label given a sample, analyze the samples and check whether the sample is benign or not.Output the label 'attack' or 'benign', nothing else.The samples has following fields respectively ['frame.time', 'ip.src_host', 'ip.dst_host', 'arp.dst.proto_ipv4', 'arp.opcode', 'arp.hw.size', 'arp.src.proto_ipv4', 'icmp.checksum', 'icmp.seq_le', 'icmp.transmit_timestamp', 'icmp.unused', 'http.file_data', 'http.content_length', 'http.request.uri.query', 'http.request.method', 'http.referer', 'http.request.full_uri', 'http.request.version', 'http.response', 'http.tls_port', 'tcp.ack', 'tcp.ack_raw', 'tcp.checksum', 'tcp.connection.fin', 'tcp.connection.rst', 'tcp.connection.syn', 'tcp.connection.synack', 'tcp.dstport', 'tcp.flags', 'tcp.flags.ack', 'tcp.len', 'tcp.options', 'tcp.payload', 'tcp.seq', 'tcp.srcport', 'udp.port', 'udp.stream', 'udp.time_delta', 'dns.qry.name', 'dns.qry.name.len', 'dns.qry.qu', 'dns.qry.type', 'dns.retransmission', 'dns.retransmit_request', 'dns.retransmit_request_in', 'mqtt.conack.flags', 'mqtt.conflag.cleansess', 'mqtt.conflags', 'mqtt.hdrflags', 'mqtt.len', 'mqtt.msg_decoded_as', 'mqtt.msg', 'mqtt.msgtype', 'mqtt.proto_len', 'mqtt.protoname', 'mqtt.topic', 'mqtt.topic_len', 'mqtt.ver', 'mbtcp.len', 'mbtcp.trans_id', 'mbtcp.unit_id'].\"}, {'role': 'user', 'content': \"['36.5.153.133', '192.168.0.128', '0', 0, 0.0, 0.0, 0.0, 0.0, 0.0, 0.0, 0.0, '0.0', 0.0, '0.0', '0.0', 0.0, '0.0', '0.0', 0.0, 0.0, 0.0, 0.0, 0.0, 0.0, 0.0, 0.0, 0.0, 0.0, 0.0, 0.0, 0.0, '0.0', '0.0', 0.0, 20100.0, 0.0, 223277.0, 0.0, 0.0, 0.0, 0.0, 0.0, 0.0, 0.0, 0.0, 0.0, 0.0, 0.0, 0.0, 0.0, 0.0, 0.0, 0.0, 0.0, 0.0, 0.0, 0.0, 0.0, 0.0, 0.0, 0.0]> 'attack'\"}, {'role': 'user', 'content': \"[' 2021 19:11:16.075707000 ', '79.170.143.141', '192.168.0.128', 0, 0.0, 0.0, 0.0, 0.0, 0.0, 0.0, 0.0, '0.0', 0.0, '0.0', '0.0', 0.0, '0.0', '0.0', 0.0, 0.0, 1705927589.0, 1705927589.0, 10437.0, 0.0, 0.0, 1.0, 0.0, 80.0, 2.0, 0.0, 120.0, '0.0', '585858585858585858585858585858585858585858585858585858585858585858585858585858585858585858585858585858585858585858585858585858585858585858585858585858585858585858585858585858585858585858585858585858585858585858585858585858585858585858585858', 0.0, 22952.0, 0.0, 0.0, 0.0, 0.0, 0.0, 0.0, 0.0, 0.0, 0.0, 0.0, 0.0, 0.0, 0.0, 0.0, 0.0, 0.0, 0.0, 0.0, 0.0, 0.0, 0.0, 0.0, 0.0, 0.0, 0.0, 0.0]> 'attack'\"}, {'role': 'user', 'content': \"[' 2021 23:16:06.089365000 ', '192.168.0.170', '192.168.0.128', 0, 0.0, 0.0, 0.0, 0.0, 0.0, 0.0, 0.0, '0.0', 0.0, '0.0', '0', 0.0, '0', '0', 0.0, 0.0, 1.0, 3931222574.0, 43121.0, 0.0, 1.0, 0.0, 0.0, 56158.0, 20.0, 1.0, 0.0, '0', '0', 1.0, 3333.0, 0.0, 0.0, 0.0, 0.0, 0.0, 0.0, 0.0, 0.0, 0.0, 0.0, 0.0, 0.0, 0.0, 0.0, 0.0, 0.0, 0.0, 0.0, 0.0, 0.0, 0.0, 0.0, 0.0, 0.0, 0.0, 0.0]> 'attack'\"}, {'role': 'user', 'content': \"[' 2021 23:13:55.503946000 ', '192.168.0.128', '192.168.0.170', 0, 0.0, 0.0, 0.0, 0.0, 0.0, 0.0, 0.0, '0.0', 0.0, '0.0', '0', 0.0, '0', '0', 0.0, 0.0, 109.0, 257474199.0, 19235.0, 1.0, 0.0, 0.0, 0.0, 33834.0, 17.0, 1.0, 0.0, '0101080a4a09410f4088163e', '0', 150.0, 80.0, 0.0, 0.0, 0.0, 0.0, 0.0, 0.0, 0.0, 0.0, 0.0, 0.0, 0.0, 0.0, 0.0, 0.0, 0.0, 0.0, 0.0, 0.0, 0.0, 0.0, 0.0, 0.0, 0.0, 0.0, 0.0, 0.0]> 'attack'\"}, {'role': 'user', 'content': \"[' 2021 19:07:05.014109000 ', '192.168.0.128', '133.221.2.249', 0, 0.0, 0.0, 0.0, 0.0, 0.0, 0.0, 0.0, '0.0', 0.0, '0.0', '0.0', 0.0, '0.0', '0.0', 0.0, 0.0, 121.0, 677562805.0, 64098.0, 0.0, 1.0, 0.0, 0.0, 30983.0, 20.0, 1.0, 0.0, '0.0', '0', 1.0, 80.0, 0.0, 0.0, 0.0, 0.0, 0.0, 0.0, 0.0, 0.0, 0.0, 0.0, 0.0, 0.0, 0.0, 0.0, 0.0, 0.0, 0.0, 0.0, 0.0, 0.0, 0.0, 0.0, 0.0, 0.0, 0.0, 0.0]> 'attack'\"}, {'role': 'user', 'content': \"[' 2021 20:27:08.439623000 ', '192.168.0.128', '192.168.0.170', 0, 0.0, 0.0, 0.0, 0.0, 0.0, 0.0, 0.0, '0.0', 0.0, '0.0', '0.0', 0.0, '0.0', '0.0', 0.0, 0.0, 1.0, 2213215181.0, 48179.0, 0.0, 0.0, 0.0, 0.0, 4321.0, 24.0, 1.0, 304.0, '0101080a2b7720c83de12f8c', '46d8c2d909100888fcdc8727c7583bfe225cb18546d8c2d846d8c3c146d8c2d91b6f1f671226ebc72c6409f310e712647bf1e2923fb27dcb9288877897354796e8d157ce12f0e68a027f4b9785dc603acc34ac7dc7a5c0c3ac33ea64b2ac0c51e925e09a4148e99042e8791dc574eefeb0da658ef8e161ca08ae102c8a938da65d7a62da3b0716d2a1e825686ade7ee921cbbaf9ca32ceee252d6033d49477f455e6024bb953927296084e3e9e02f5f0b6ec57a326beb88212324f8b0a2d63859a80137de82928517ce5bf734a268db45d055c47bc34c51983e897ce8709e763f1e15296822922c9ace5e21973fb79712d6527c631351c2c778e6cc50b8e906da67decd650e8e332540d9552f74fbcf70fb59fd07f845618e95bdfa1e7233a8de89746d7aeb16343757aff9b07c1a000', 629921.0, 60210.0, 0.0, 0.0, 0.0, 0.0, 0.0, 0.0, 0.0, 0.0, 0.0, 0.0, 0.0, 0.0, 0.0, 0.0, 0.0, 0.0, 0.0, 0.0, 0.0, 0.0, 0.0, 0.0, 0.0, 0.0, 0.0, 0.0]> 'attack'\"}, {'role': 'user', 'content': \"['205.255.54.200', '192.168.0.128', '0', 0, 0.0, 0.0, 0.0, 0.0, 0.0, 0.0, 0.0, '0.0', 0.0, '0.0', '0.0', 0.0, '0.0', '0.0', 0.0, 0.0, 0.0, 0.0, 0.0, 0.0, 0.0, 0.0, 0.0, 0.0, 0.0, 0.0, 0.0, '0.0', '0.0', 0.0, 55681.0, 0.0, 859589.0, 0.0, 0.0, 0.0, 0.0, 0.0, 0.0, 0.0, 0.0, 0.0, 0.0, 0.0, 0.0, 0.0, 0.0, 0.0, 0.0, 0.0, 0.0, 0.0, 0.0, 0.0, 0.0, 0.0, 0.0]> 'attack'\"}, {'role': 'user', 'content': \"[' 2021 19:01:06.331079000 ', '192.168.0.128', '192.168.0.170', 0, 0.0, 0.0, 0.0, 0.0, 0.0, 0.0, 0.0, '0', 0.0, '0.0', '0', 0.0, '0', '0', 0.0, 0.0, 103.0, 1942305749.0, 56786.0, 1.0, 0.0, 0.0, 0.0, 60318.0, 17.0, 1.0, 0.0, '0101080a9e1ecc849a91263f', '0', 441.0, 80.0, 0.0, 0.0, 0.0, 0.0, 0.0, 0.0, 0.0, 0.0, 0.0, 0.0, 0.0, 0.0, 0.0, 0.0, 0.0, 0.0, 0.0, 0.0, 0.0, 0.0, 0.0, 0.0, 0.0, 0.0, 0.0, 0.0]> 'attack'\"}, {'role': 'user', 'content': \"[' 2021 21:40:29.453867000 ', '192.168.0.128', '192.168.0.170', 0, 0.0, 0.0, 0.0, 0.0, 0.0, 0.0, 0.0, '0.0', 0.0, '0', '0', 0.0, '0', '0', 0.0, 0.0, 1.0, 2717094254.0, 11483.0, 0.0, 0.0, 0.0, 1.0, 41942.0, 18.0, 1.0, 0.0, '020405b40402080a9eb0b8779b2325e001030307', '0', 0.0, 80.0, 0.0, 0.0, 0.0, 0.0, 0.0, 0.0, 0.0, 0.0, 0.0, 0.0, 0.0, 0.0, 0.0, 0.0, 0.0, 0.0, 0.0, 0.0, 0.0, 0.0, 0.0, 0.0, 0.0, 0.0, 0.0, 0.0]> 'attack'\"}, {'role': 'user', 'content': \"[' 2021 20:35:28.060928000 ', '192.168.0.101', '192.168.0.128', 0, 0.0, 0.0, 0, 0.0, 0.0, 0.0, 0.0, 0.0, 0.0, 0.0, 0.0, 0.0, 0.0, 0.0, 0.0, 0.0, 6.0, 2431456529.0, 9456.0, 0.0, 0.0, 0.0, 0.0, 1883.0, 16.0, 1.0, 0.0, '0', '0', 59.0, 61857.0, 0.0, 0.0, 0.0, 0.0, 0.0, 0.0, 0.0, 0.0, 0.0, 0.0, '0', 0.0, 0.0, 0.0, 0.0, 0.0, '0', 0.0, 0.0, '0', '0', 0.0, 0.0, 0.0, 0.0, 0.0]> 'benign'\"}, {'role': 'user', 'content': \"[' 2021 19:48:19.628201000 ', '0', '0', 0, 0.0, 0.0, 0, 0.0, 0.0, 0.0, 0.0, 0.0, 0.0, 0.0, 0.0, 0.0, 0.0, 0.0, 0.0, 0.0, 505527.0, 2372130208.0, 39069.0, 0.0, 0.0, 0.0, 0.0, 60944.0, 16.0, 1.0, 1440.0, '0', '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', 134114588.0, 5900.0, 0.0, 0.0, 0.0, 0.0, 0.0, 0.0, 0.0, 0.0, 0.0, 0.0, '0', 0.0, 0.0, 0.0, 0.0, 0.0, '0', 0.0, 0.0, '0', '0', 0.0, 0.0, 0.0, 0.0, 0.0]> 'benign'\"}, {'role': 'user', 'content': \"[' 2021 19:51:24.083700000 ', '0', '0', 0, 0.0, 0.0, 0, 0.0, 0.0, 0.0, 0.0, 0.0, 0.0, 0.0, 0.0, 0.0, 0.0, 0.0, 0.0, 0.0, 538858.0, 2372163539.0, 6422.0, 0.0, 0.0, 0.0, 0.0, 60944.0, 16.0, 1.0, 1440.0, '0', '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', 144027411.0, 5900.0, 0.0, 0.0, 0.0, 0.0, 0.0, 0.0, 0.0, 0.0, 0.0, 0.0, '0', 0.0, 0.0, 0.0, 0.0, 0.0, '0', 0.0, 0.0, '0', '0', 0.0, 0.0, 0.0, 0.0, 0.0]> 'benign'\"}, {'role': 'user', 'content': \"[' 2021 21:15:52.164771000 ', '192.168.0.101', '192.168.0.128', 0, 0.0, 0.0, 0, 0.0, 0.0, 0.0, 0.0, 0.0, 0.0, 0.0, 0.0, 0.0, 0.0, 0.0, 0.0, 0.0, 5.0, 3375711489.0, 47471.0, 0.0, 0.0, 0.0, 0.0, 1883.0, 24.0, 1.0, 41.0, '0', '3027001854656d70657261747572655f616e645f48756d696469747932342e32352037352e36350d0a', 15.0, 64688.0, 0.0, 0.0, 0.0, 0.0, 0.0, 0.0, 0.0, 0.0, 0.0, 0.0, '0', 0.0, 0.0, 48.0, 39.0, 0.0, '32342e32352037352e36350d0a', 3.0, 0.0, '0', 'Temperature_and_Humidity', 24.0, 0.0, 0.0, 0.0, 0.0]> 'benign'\"}, {'role': 'user', 'content': \"[' 2021 18:28:39.839986000 ', '192.168.0.101', '192.168.0.128', 0, 0.0, 0.0, 0, 0.0, 0.0, 0.0, 0.0, 0.0, 0.0, 0.0, 0.0, 0.0, 0.0, 0.0, 0.0, 0.0, 6.0, 3273429066.0, 50636.0, 0.0, 0.0, 0.0, 0.0, 1883.0, 16.0, 1.0, 0.0, '0', '0', 59.0, 54571.0, 0.0, 0.0, 0.0, 0.0, 0.0, 0.0, 0.0, 0.0, 0.0, 0.0, '0', 0.0, 0.0, 0.0, 0.0, 0.0, '0', 0.0, 0.0, '0', '0', 0.0, 0.0, 0.0, 0.0, 0.0]> 'benign'\"}, {'role': 'user', 'content': \"[' 2021 17:00:15.811821000 ', '192.168.0.101', '192.168.0.128', 0, 0.0, 0.0, 0, 0.0, 0.0, 0.0, 0.0, 0.0, 0.0, 0.0, 0.0, 0.0, 0.0, 0.0, 0.0, 0.0, 1.0, 1410909035.0, 43106.0, 0.0, 0.0, 0.0, 0.0, 1883.0, 24.0, 1.0, 14.0, '0', '100c00044d5154540402003c0000', 1.0, 54787.0, 0.0, 0.0, 0.0, 0.0, 0.0, 0.0, 0.0, 0.0, 0.0, 0.0, '0', 1.0, 2.0, 16.0, 12.0, 0.0, '0', 1.0, 4.0, 'MQTT', '0', 0.0, 4.0, 0.0, 0.0, 0.0]> 'benign'\"}, {'role': 'user', 'content': \"[' 2021 21:47:14.148272000 ', '192.168.0.128', '192.168.0.101', 0, 0.0, 0.0, 0, 0.0, 0.0, 0.0, 0.0, 0.0, 0.0, 0.0, 0.0, 0.0, 0.0, 0.0, 0.0, 0.0, 15.0, 310859930.0, 22704.0, 0.0, 0.0, 0.0, 0.0, 55512.0, 24.0, 1.0, 4.0, '0', '20020000', 1.0, 1883.0, 0.0, 0.0, 0.0, 0.0, 0.0, 0.0, 0.0, 0.0, 0.0, 0.0, '0x00000000', 0.0, 0.0, 32.0, 2.0, 0.0, '0', 2.0, 0.0, '0', '0', 0.0, 0.0, 0.0, 0.0, 0.0]> 'benign'\"}, {'role': 'user', 'content': \"[' 2021 20:16:40.503615000 ', '192.168.0.128', '192.168.0.101', 0, 0.0, 0.0, 0, 0.0, 0.0, 0.0, 0.0, 0.0, 0.0, 0.0, 0.0, 0.0, 0.0, 0.0, 0.0, 0.0, 15.0, 1511363199.0, 35112.0, 0.0, 0.0, 0.0, 0.0, 60448.0, 24.0, 1.0, 4.0, '0', '20020000', 1.0, 1883.0, 0.0, 0.0, 0.0, 0.0, 0.0, 0.0, 0.0, 0.0, 0.0, 0.0, '0x00000000', 0.0, 0.0, 32.0, 2.0, 0.0, '0', 2.0, 0.0, '0', '0', 0.0, 0.0, 0.0, 0.0, 0.0]> 'benign'\"}, {'role': 'user', 'content': \"[' 2021 19:13:00.503072000 ', '192.168.0.128', '192.168.0.101', 0, 0.0, 0.0, 0, 0.0, 0.0, 0.0, 0.0, 0.0, 0.0, 0.0, 0.0, 0.0, 0.0, 0.0, 0.0, 0.0, 59.0, 3307714235.0, 42217.0, 0.0, 0.0, 0.0, 0.0, 56026.0, 16.0, 1.0, 0.0, '0', '0', 6.0, 1883.0, 0.0, 0.0, 0.0, 0.0, 0.0, 0.0, 0.0, 0.0, 0.0, 0.0, '0', 0.0, 0.0, 0.0, 0.0, 0.0, '0', 0.0, 0.0, '0', '0', 0.0, 0.0, 0.0, 0.0, 0.0]> 'benign'\"}, {'role': 'user', 'content': \"Predict this entry is attack or benign: [' 2021 22:37:14.915141000 ', '192.168.0.128', '192.168.0.101', 0, 0.0, 0.0, 0, 0.0, 0.0, 0.0, 0.0, 0.0, 0.0, 0.0, 0.0, 0.0, 0.0, 0.0, 0.0, 0.0, 59.0, 3125102223.0, 13200.0, 0.0, 0.0, 0.0, 0.0, 54468.0, 16.0, 1.0, 0.0, '0', '0', 6.0, 1883.0, 0.0, 0.0, 0.0, 0.0, 0.0, 0.0, 0.0, 0.0, 0.0, 0.0, '0', 0.0, 0.0, 0.0, 0.0, 0.0, '0', 0.0, 0.0, '0', '0', 0.0, 0.0, 0.0, 0.0, 0.0]\"}]\n",
      "Num tokens: 10460\n",
      "benign\n"
     ]
    }
   ],
   "source": [
    "from openai import OpenAI\n",
    "import tiktoken\n",
    "import os\n",
    "import dotenv\n",
    "import pandas as pd\n",
    "\n",
    "dotenv.load_dotenv()\n",
    "API_KEY = os.getenv(\"OPENAI_API_KEY\")\n",
    "\n",
    "client = OpenAI(api_key=API_KEY)\n",
    "encoding = tiktoken.encoding_for_model(\"gpt-3.5-turbo\")\n",
    "\n",
    "# read csv file\n",
    "df_normal = pd.read_csv(\"X_train_normal.csv\")\n",
    "df_attack = pd.read_csv(\"X_train_attack.csv\")\n",
    "\n",
    "messages = [\n",
    "    {\"role\": \"system\", \"content\": \"User gives 10 samples of normal (benign) and attack iot network data.\"+\n",
    "     \"When user ask to predict the label given a sample, analyze the samples and check whether the sample is benign or not.\"+\n",
    "     \"Output the label 'attack' or 'benign', nothing else.\"+\n",
    "     f\"The samples has following fields respectively {df_normal.columns.tolist()}.\"},\n",
    "    \n",
    "    {\"role\": \"user\", \"content\": str(df_attack.iloc[1].values.tolist()) + \"> 'attack'\"},\n",
    "    {\"role\": \"user\", \"content\": str(df_attack.iloc[2].values.tolist()) + \"> 'attack'\"},\n",
    "    {\"role\": \"user\", \"content\": str(df_attack.iloc[3].values.tolist()) + \"> 'attack'\"},\n",
    "    {\"role\": \"user\", \"content\": str(df_attack.iloc[4].values.tolist()) + \"> 'attack'\"},\n",
    "    {\"role\": \"user\", \"content\": str(df_attack.iloc[5].values.tolist()) + \"> 'attack'\"},\n",
    "    {\"role\": \"user\", \"content\": str(df_attack.iloc[6].values.tolist()) + \"> 'attack'\"},\n",
    "    {\"role\": \"user\", \"content\": str(df_attack.iloc[7].values.tolist()) + \"> 'attack'\"},\n",
    "    {\"role\": \"user\", \"content\": str(df_attack.iloc[8].values.tolist()) + \"> 'attack'\"},\n",
    "    {\"role\": \"user\", \"content\": str(df_attack.iloc[9].values.tolist()) + \"> 'attack'\"},\n",
    "    {\"role\": \"user\", \"content\": str(df_normal.iloc[1].values.tolist()) + \"> 'benign'\"},\n",
    "    {\"role\": \"user\", \"content\": str(df_normal.iloc[2].values.tolist()) + \"> 'benign'\"},\n",
    "    {\"role\": \"user\", \"content\": str(df_normal.iloc[3].values.tolist()) + \"> 'benign'\"},\n",
    "    {\"role\": \"user\", \"content\": str(df_normal.iloc[4].values.tolist()) + \"> 'benign'\"},\n",
    "    {\"role\": \"user\", \"content\": str(df_normal.iloc[5].values.tolist()) + \"> 'benign'\"},\n",
    "    {\"role\": \"user\", \"content\": str(df_normal.iloc[6].values.tolist()) + \"> 'benign'\"},\n",
    "    {\"role\": \"user\", \"content\": str(df_normal.iloc[7].values.tolist()) + \"> 'benign'\"},\n",
    "    {\"role\": \"user\", \"content\": str(df_normal.iloc[8].values.tolist()) + \"> 'benign'\"},\n",
    "    {\"role\": \"user\", \"content\": str(df_normal.iloc[9].values.tolist()) + \"> 'benign'\"},\n",
    "    {\"role\": \"user\", \"content\": \"Predict this entry is attack or benign: \"+str(df_normal.iloc[15].values.tolist())}]\n",
    "    # {\"role\": \"user\", \"content\": \"Predict this entry is attack or benign: \"+str(df_attack.iloc[19].values.tolist())}]\n",
    "\n",
    "print(\"Messages:\", messages)\n",
    "num_tokens = len(encoding.encode(str(messages)))\n",
    "print(\"Num tokens:\", num_tokens)\n",
    "completion = client.chat.completions.create(\n",
    "    model=\"gpt-3.5-turbo-0125\",\n",
    "    messages=messages\n",
    ")\n",
    "response = completion.choices[0].message.content.strip()\n",
    "print(response)\n"
   ]
  },
  {
   "cell_type": "markdown",
   "metadata": {},
   "source": [
    "# Round#2\n",
    "\n",
    "- Task: Use langchain to do the same task.\n",
    "- Result: Bit improvement can be seen for benign entries but 1 attack entry is predicted false."
   ]
  },
  {
   "cell_type": "code",
   "execution_count": 4,
   "metadata": {},
   "outputs": [
    {
     "name": "stdout",
     "output_type": "stream",
     "text": [
      "content='The dataset appears to be related to network traffic or cybersecurity, as the samples contain information such as IP addresses, timestamps, and network activity.' response_metadata={'finish_reason': 'stop', 'logprobs': None}\n"
     ]
    }
   ],
   "source": [
    "from langchain_openai import ChatOpenAI\n",
    "from langchain_core.prompts import ChatPromptTemplate\n",
    "from langchain.prompts import PromptTemplate\n",
    "from langchain.output_parsers import CommaSeparatedListOutputParser\n",
    "from langchain_core.output_parsers import JsonOutputParser\n",
    "from langchain.memory import ConversationSummaryBufferMemory\n",
    "from langchain.chains import ConversationChain\n",
    "import os\n",
    "import dotenv\n",
    "import pandas as pd\n",
    "\n",
    "dotenv.load_dotenv()\n",
    "API_KEY = os.getenv(\"OPENAI_API_KEY\")\n",
    "llm = ChatOpenAI(openai_api_key=API_KEY, temperature=0.0)\n",
    "\n",
    "# read csv file\n",
    "df_normal = pd.read_csv(\"X_train_normal.csv\")\n",
    "df_attack = pd.read_csv(\"X_train_attack.csv\")\n",
    "\n",
    "prompt = ChatPromptTemplate.from_messages([\n",
    "    (\"system\", f\"You are intelligent log analyzer. User gives you samples of benign and attack iot network data. When user ask to predict the label given a sample, analyze the samples and check whether the sample is benign or not. Output the label 'attack' or 'benign', nothing else. The samples has following fields respectively {df_normal.columns.tolist()}.\"),\n",
    "    (\"user\", str(df_attack.iloc[1].values.tolist()) + \"> 'attack'\"),\n",
    "    (\"user\", str(df_attack.iloc[2].values.tolist()) + \"> 'attack'\"),\n",
    "    (\"user\", str(df_attack.iloc[3].values.tolist()) + \"> 'attack'\"),\n",
    "    (\"user\", str(df_attack.iloc[4].values.tolist()) + \"> 'attack'\"),\n",
    "    (\"user\", str(df_attack.iloc[5].values.tolist()) + \"> 'attack'\"),\n",
    "    (\"user\", str(df_attack.iloc[6].values.tolist()) + \"> 'attack'\"),\n",
    "    (\"user\", str(df_attack.iloc[7].values.tolist()) + \"> 'attack'\"),\n",
    "    (\"user\", str(df_attack.iloc[8].values.tolist()) + \"> 'attack'\"),\n",
    "    (\"user\", str(df_attack.iloc[9].values.tolist()) + \"> 'attack'\"),\n",
    "    (\"user\", str(df_normal.iloc[1].values.tolist()) + \"> 'benign'\"),\n",
    "    (\"user\", str(df_normal.iloc[2].values.tolist()) + \"> 'benign'\"),\n",
    "    (\"user\", str(df_normal.iloc[3].values.tolist()) + \"> 'benign'\"),\n",
    "    (\"user\", str(df_normal.iloc[4].values.tolist()) + \"> 'benign'\"),\n",
    "    (\"user\", str(df_normal.iloc[5].values.tolist()) + \"> 'benign'\"),\n",
    "    (\"user\", str(df_normal.iloc[6].values.tolist()) + \"> 'benign'\"),\n",
    "    (\"user\", str(df_normal.iloc[7].values.tolist()) + \"> 'benign'\"),\n",
    "    (\"user\", str(df_normal.iloc[8].values.tolist()) + \"> 'benign'\"),\n",
    "    (\"user\", str(df_normal.iloc[9].values.tolist()) + \"> 'benign'\"),\n",
    "    (\"user\", \"{input}\")\n",
    "])\n",
    "\n",
    "chain = prompt | llm \n",
    "for i in range(10, 20):\n",
    "    print(chain.invoke({\"input\": \"Predict this entry is attack or benign: \" + str(df_normal.iloc[i].values.tolist())}))\n",
    "for i in range(10, 20):\n",
    "    print(chain.invoke({\"input\": \"Predict this entry is attack or benign: \" + str(df_attack.iloc[i].values.tolist())}))\n",
    "\n"
   ]
  },
  {
   "cell_type": "markdown",
   "metadata": {},
   "source": [
    "# Round#3\n",
    "\n",
    "- Task:"
   ]
  }
 ],
 "metadata": {
  "kernelspec": {
   "display_name": "Python 3",
   "language": "python",
   "name": "python3"
  },
  "language_info": {
   "codemirror_mode": {
    "name": "ipython",
    "version": 3
   },
   "file_extension": ".py",
   "mimetype": "text/x-python",
   "name": "python",
   "nbconvert_exporter": "python",
   "pygments_lexer": "ipython3",
   "version": "3.11.9"
  }
 },
 "nbformat": 4,
 "nbformat_minor": 2
}
