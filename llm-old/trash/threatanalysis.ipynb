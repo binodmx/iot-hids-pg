{
 "cells": [
  {
   "cell_type": "code",
   "execution_count": 1,
   "id": "5163562d",
   "metadata": {
    "_cell_guid": "b1076dfc-b9ad-4769-8c92-a6c4dae69d19",
    "_uuid": "8f2839f25d086af736a60e9eeb907d3b93b6e0e5",
    "execution": {
     "iopub.execute_input": "2024-01-31T03:40:43.244146Z",
     "iopub.status.busy": "2024-01-31T03:40:43.243758Z",
     "iopub.status.idle": "2024-01-31T03:40:44.094257Z",
     "shell.execute_reply": "2024-01-31T03:40:44.093116Z"
    },
    "papermill": {
     "duration": 0.859961,
     "end_time": "2024-01-31T03:40:44.097387",
     "exception": false,
     "start_time": "2024-01-31T03:40:43.237426",
     "status": "completed"
    },
    "tags": []
   },
   "outputs": [],
   "source": [
    "# This Python 3 environment comes with many helpful analytics libraries installed\n",
    "# It is defined by the kaggle/python Docker image: https://github.com/kaggle/docker-python\n",
    "# For example, here's several helpful packages to load\n",
    "\n",
    "import numpy as np # linear algebra\n",
    "import pandas as pd # data processing, CSV file I/O (e.g. pd.read_csv)\n",
    "\n",
    "# Input data files are available in the read-only \"../input/\" directory\n",
    "# For example, running this (by clicking run or pressing Shift+Enter) will list all files under the input directory\n",
    "\n",
    "import os\n",
    "#for dirname, _, filenames in os.walk('/kaggle/input'):\n",
    "#    for filename in filenames:\n",
    "#        print(os.path.join(dirname, filename))\n",
    "\n",
    "# You can write up to 20GB to the current directory (/kaggle/working/) that gets preserved as output when you create a version using \"Save & Run All\" \n",
    "# You can also write temporary files to /kaggle/temp/, but they won't be saved outside of the current session"
   ]
  },
  {
   "cell_type": "code",
   "execution_count": 2,
   "id": "ed9fc988",
   "metadata": {
    "execution": {
     "iopub.execute_input": "2024-01-31T03:40:44.107659Z",
     "iopub.status.busy": "2024-01-31T03:40:44.106821Z",
     "iopub.status.idle": "2024-01-31T03:41:35.333457Z",
     "shell.execute_reply": "2024-01-31T03:41:35.332428Z"
    },
    "papermill": {
     "duration": 51.234268,
     "end_time": "2024-01-31T03:41:35.335799",
     "exception": false,
     "start_time": "2024-01-31T03:40:44.101531",
     "status": "completed"
    },
    "tags": []
   },
   "outputs": [],
   "source": [
    "import pandas as pd\n",
    "import numpy as np\n",
    "import matplotlib.pyplot as plt\n",
    "import seaborn as sns\n",
    "\n",
    "df = pd.read_csv('C:/Users/S4025371/Downloads/edge-iiotset/Edge-IIoTset dataset/Selected dataset for ML and DL/ML-EdgeIIoT-dataset.csv', low_memory=False)"
   ]
  },
  {
   "cell_type": "code",
   "execution_count": 3,
   "id": "755a782c",
   "metadata": {
    "execution": {
     "iopub.execute_input": "2024-01-31T03:41:35.345142Z",
     "iopub.status.busy": "2024-01-31T03:41:35.344718Z",
     "iopub.status.idle": "2024-01-31T03:41:35.350054Z",
     "shell.execute_reply": "2024-01-31T03:41:35.349198Z"
    },
    "papermill": {
     "duration": 0.012994,
     "end_time": "2024-01-31T03:41:35.352723",
     "exception": false,
     "start_time": "2024-01-31T03:41:35.339729",
     "status": "completed"
    },
    "tags": []
   },
   "outputs": [
    {
     "name": "stdout",
     "output_type": "stream",
     "text": [
      "Index(['frame.time', 'ip.src_host', 'ip.dst_host', 'arp.dst.proto_ipv4',\n",
      "       'arp.opcode', 'arp.hw.size', 'arp.src.proto_ipv4', 'icmp.checksum',\n",
      "       'icmp.seq_le', 'icmp.transmit_timestamp', 'icmp.unused',\n",
      "       'http.file_data', 'http.content_length', 'http.request.uri.query',\n",
      "       'http.request.method', 'http.referer', 'http.request.full_uri',\n",
      "       'http.request.version', 'http.response', 'http.tls_port', 'tcp.ack',\n",
      "       'tcp.ack_raw', 'tcp.checksum', 'tcp.connection.fin',\n",
      "       'tcp.connection.rst', 'tcp.connection.syn', 'tcp.connection.synack',\n",
      "       'tcp.dstport', 'tcp.flags', 'tcp.flags.ack', 'tcp.len', 'tcp.options',\n",
      "       'tcp.payload', 'tcp.seq', 'tcp.srcport', 'udp.port', 'udp.stream',\n",
      "       'udp.time_delta', 'dns.qry.name', 'dns.qry.name.len', 'dns.qry.qu',\n",
      "       'dns.qry.type', 'dns.retransmission', 'dns.retransmit_request',\n",
      "       'dns.retransmit_request_in', 'mqtt.conack.flags',\n",
      "       'mqtt.conflag.cleansess', 'mqtt.conflags', 'mqtt.hdrflags', 'mqtt.len',\n",
      "       'mqtt.msg_decoded_as', 'mqtt.msg', 'mqtt.msgtype', 'mqtt.proto_len',\n",
      "       'mqtt.protoname', 'mqtt.topic', 'mqtt.topic_len', 'mqtt.ver',\n",
      "       'mbtcp.len', 'mbtcp.trans_id', 'mbtcp.unit_id', 'Attack_label',\n",
      "       'Attack_type'],\n",
      "      dtype='object')\n"
     ]
    }
   ],
   "source": [
    "print (df.columns)"
   ]
  },
  {
   "cell_type": "code",
   "execution_count": 4,
   "id": "758f26a8",
   "metadata": {
    "execution": {
     "iopub.execute_input": "2024-01-31T03:41:35.362169Z",
     "iopub.status.busy": "2024-01-31T03:41:35.361422Z",
     "iopub.status.idle": "2024-01-31T03:41:35.988488Z",
     "shell.execute_reply": "2024-01-31T03:41:35.986885Z"
    },
    "papermill": {
     "duration": 0.634417,
     "end_time": "2024-01-31T03:41:35.991036",
     "exception": false,
     "start_time": "2024-01-31T03:41:35.356619",
     "status": "completed"
    },
    "tags": []
   },
   "outputs": [],
   "source": [
    "filtered_df = df[df['Attack_type'].isin(['Normal', 'DDoS_UDP'])]\n",
    "selected_columns = filtered_df[['dns.qry.name', 'icmp.seq_le', 'udp.stream', 'Attack_label']]"
   ]
  },
  {
   "cell_type": "code",
   "execution_count": 5,
   "id": "1f9f45d0",
   "metadata": {
    "execution": {
     "iopub.execute_input": "2024-01-31T03:41:36.001333Z",
     "iopub.status.busy": "2024-01-31T03:41:36.000822Z",
     "iopub.status.idle": "2024-01-31T03:41:36.101382Z",
     "shell.execute_reply": "2024-01-31T03:41:36.100143Z"
    },
    "papermill": {
     "duration": 0.108522,
     "end_time": "2024-01-31T03:41:36.103696",
     "exception": false,
     "start_time": "2024-01-31T03:41:35.995174",
     "status": "completed"
    },
    "tags": []
   },
   "outputs": [
    {
     "data": {
      "text/html": [
       "<div>\n",
       "<style scoped>\n",
       "    .dataframe tbody tr th:only-of-type {\n",
       "        vertical-align: middle;\n",
       "    }\n",
       "\n",
       "    .dataframe tbody tr th {\n",
       "        vertical-align: top;\n",
       "    }\n",
       "\n",
       "    .dataframe thead th {\n",
       "        text-align: right;\n",
       "    }\n",
       "</style>\n",
       "<table border=\"1\" class=\"dataframe\">\n",
       "  <thead>\n",
       "    <tr style=\"text-align: right;\">\n",
       "      <th></th>\n",
       "      <th>Attack_type</th>\n",
       "      <th>count</th>\n",
       "    </tr>\n",
       "  </thead>\n",
       "  <tbody>\n",
       "    <tr>\n",
       "      <th>0</th>\n",
       "      <td>Normal</td>\n",
       "      <td>24301</td>\n",
       "    </tr>\n",
       "    <tr>\n",
       "      <th>1</th>\n",
       "      <td>DDoS_UDP</td>\n",
       "      <td>14498</td>\n",
       "    </tr>\n",
       "    <tr>\n",
       "      <th>2</th>\n",
       "      <td>DDoS_ICMP</td>\n",
       "      <td>14090</td>\n",
       "    </tr>\n",
       "    <tr>\n",
       "      <th>3</th>\n",
       "      <td>Ransomware</td>\n",
       "      <td>10925</td>\n",
       "    </tr>\n",
       "    <tr>\n",
       "      <th>4</th>\n",
       "      <td>DDoS_HTTP</td>\n",
       "      <td>10561</td>\n",
       "    </tr>\n",
       "    <tr>\n",
       "      <th>5</th>\n",
       "      <td>SQL_injection</td>\n",
       "      <td>10311</td>\n",
       "    </tr>\n",
       "    <tr>\n",
       "      <th>6</th>\n",
       "      <td>Uploading</td>\n",
       "      <td>10269</td>\n",
       "    </tr>\n",
       "    <tr>\n",
       "      <th>7</th>\n",
       "      <td>DDoS_TCP</td>\n",
       "      <td>10247</td>\n",
       "    </tr>\n",
       "    <tr>\n",
       "      <th>8</th>\n",
       "      <td>Backdoor</td>\n",
       "      <td>10195</td>\n",
       "    </tr>\n",
       "    <tr>\n",
       "      <th>9</th>\n",
       "      <td>Vulnerability_scanner</td>\n",
       "      <td>10076</td>\n",
       "    </tr>\n",
       "    <tr>\n",
       "      <th>10</th>\n",
       "      <td>Port_Scanning</td>\n",
       "      <td>10071</td>\n",
       "    </tr>\n",
       "    <tr>\n",
       "      <th>11</th>\n",
       "      <td>XSS</td>\n",
       "      <td>10052</td>\n",
       "    </tr>\n",
       "    <tr>\n",
       "      <th>12</th>\n",
       "      <td>Password</td>\n",
       "      <td>9989</td>\n",
       "    </tr>\n",
       "    <tr>\n",
       "      <th>13</th>\n",
       "      <td>MITM</td>\n",
       "      <td>1214</td>\n",
       "    </tr>\n",
       "    <tr>\n",
       "      <th>14</th>\n",
       "      <td>Fingerprinting</td>\n",
       "      <td>1001</td>\n",
       "    </tr>\n",
       "  </tbody>\n",
       "</table>\n",
       "</div>"
      ],
      "text/plain": [
       "              Attack_type  count\n",
       "0                  Normal  24301\n",
       "1                DDoS_UDP  14498\n",
       "2               DDoS_ICMP  14090\n",
       "3              Ransomware  10925\n",
       "4               DDoS_HTTP  10561\n",
       "5           SQL_injection  10311\n",
       "6               Uploading  10269\n",
       "7                DDoS_TCP  10247\n",
       "8                Backdoor  10195\n",
       "9   Vulnerability_scanner  10076\n",
       "10          Port_Scanning  10071\n",
       "11                    XSS  10052\n",
       "12               Password   9989\n",
       "13                   MITM   1214\n",
       "14         Fingerprinting   1001"
      ]
     },
     "execution_count": 5,
     "metadata": {},
     "output_type": "execute_result"
    }
   ],
   "source": [
    "attack_type_counts = df['Attack_type'].value_counts().reset_index()\n",
    "attack_type_counts"
   ]
  },
  {
   "cell_type": "code",
   "execution_count": 7,
   "id": "567b7a1e",
   "metadata": {
    "execution": {
     "iopub.execute_input": "2024-01-31T03:41:36.121670Z",
     "iopub.status.busy": "2024-01-31T03:41:36.121279Z",
     "iopub.status.idle": "2024-01-31T03:41:36.295995Z",
     "shell.execute_reply": "2024-01-31T03:41:36.294904Z"
    },
    "papermill": {
     "duration": 0.183135,
     "end_time": "2024-01-31T03:41:36.298451",
     "exception": false,
     "start_time": "2024-01-31T03:41:36.115316",
     "status": "completed"
    },
    "tags": []
   },
   "outputs": [
    {
     "data": {
      "text/html": [
       "<div>\n",
       "<style scoped>\n",
       "    .dataframe tbody tr th:only-of-type {\n",
       "        vertical-align: middle;\n",
       "    }\n",
       "\n",
       "    .dataframe tbody tr th {\n",
       "        vertical-align: top;\n",
       "    }\n",
       "\n",
       "    .dataframe thead th {\n",
       "        text-align: right;\n",
       "    }\n",
       "</style>\n",
       "<table border=\"1\" class=\"dataframe\">\n",
       "  <thead>\n",
       "    <tr style=\"text-align: right;\">\n",
       "      <th></th>\n",
       "      <th>Attack_label</th>\n",
       "      <th>mean</th>\n",
       "      <th>median</th>\n",
       "      <th>quantile</th>\n",
       "      <th>max</th>\n",
       "      <th>min</th>\n",
       "    </tr>\n",
       "  </thead>\n",
       "  <tbody>\n",
       "    <tr>\n",
       "      <th>0</th>\n",
       "      <td>0</td>\n",
       "      <td>1.998420e+01</td>\n",
       "      <td>0.0</td>\n",
       "      <td>0.0</td>\n",
       "      <td>60076.0</td>\n",
       "      <td>0.0</td>\n",
       "    </tr>\n",
       "    <tr>\n",
       "      <th>1</th>\n",
       "      <td>1</td>\n",
       "      <td>1.318491e+06</td>\n",
       "      <td>1309285.5</td>\n",
       "      <td>1309285.5</td>\n",
       "      <td>2898725.0</td>\n",
       "      <td>12.0</td>\n",
       "    </tr>\n",
       "  </tbody>\n",
       "</table>\n",
       "</div>"
      ],
      "text/plain": [
       "   Attack_label          mean     median   quantile        max   min\n",
       "0             0  1.998420e+01        0.0        0.0    60076.0   0.0\n",
       "1             1  1.318491e+06  1309285.5  1309285.5  2898725.0  12.0"
      ]
     },
     "execution_count": 7,
     "metadata": {},
     "output_type": "execute_result"
    }
   ],
   "source": [
    "summary_stats = selected_columns.groupby('Attack_label')['udp.stream'].agg(['mean', 'median', 'quantile', 'max', 'min']).reset_index()\n",
    "summary_stats"
   ]
  },
  {
   "cell_type": "code",
   "execution_count": null,
   "id": "26c0d4c7",
   "metadata": {
    "papermill": {
     "duration": 0.003812,
     "end_time": "2024-01-31T03:41:36.306734",
     "exception": false,
     "start_time": "2024-01-31T03:41:36.302922",
     "status": "completed"
    },
    "tags": []
   },
   "outputs": [],
   "source": []
  },
  {
   "cell_type": "code",
   "execution_count": 8,
   "id": "1ece25f0",
   "metadata": {
    "execution": {
     "iopub.execute_input": "2024-01-31T03:41:36.316314Z",
     "iopub.status.busy": "2024-01-31T03:41:36.315981Z",
     "iopub.status.idle": "2024-01-31T03:41:36.711898Z",
     "shell.execute_reply": "2024-01-31T03:41:36.710696Z"
    },
    "papermill": {
     "duration": 0.403514,
     "end_time": "2024-01-31T03:41:36.714357",
     "exception": false,
     "start_time": "2024-01-31T03:41:36.310843",
     "status": "completed"
    },
    "tags": []
   },
   "outputs": [
    {
     "data": {
      "image/png": "[encoded data removed]",
      "text/plain": [
       "<Figure size 1000x600 with 1 Axes>"
      ]
     },
     "metadata": {},
     "output_type": "display_data"
    }
   ],
   "source": [
    "\n",
    "plt.figure(figsize=(10, 6))\n",
    "sns.boxplot(x='Attack_label', y='udp.stream', data=selected_columns)\n",
    "plt.title('Boxplot: UDP Stream by Attack Type')\n",
    "plt.xlabel('Attack Type')\n",
    "plt.ylabel('UDP Stream')\n",
    "plt.show()"
   ]
  },
  {
   "cell_type": "code",
   "execution_count": 9,
   "id": "e909284f",
   "metadata": {
    "execution": {
     "iopub.execute_input": "2024-01-31T03:41:36.725387Z",
     "iopub.status.busy": "2024-01-31T03:41:36.724480Z",
     "iopub.status.idle": "2024-01-31T03:41:40.048271Z",
     "shell.execute_reply": "2024-01-31T03:41:40.047336Z"
    },
    "papermill": {
     "duration": 3.33147,
     "end_time": "2024-01-31T03:41:40.050438",
     "exception": false,
     "start_time": "2024-01-31T03:41:36.718968",
     "status": "completed"
    },
    "tags": []
   },
   "outputs": [
    {
     "data": {
      "image/png": "[encoded data removed]",
      "text/plain": [
       "<Figure size 640x480 with 1 Axes>"
      ]
     },
     "metadata": {},
     "output_type": "display_data"
    }
   ],
   "source": [
    "plt.scatter(selected_columns['Attack_label'], selected_columns['udp.stream'], alpha=0.5)\n",
    "plt.title('Scatter Plot: Attack Type vs UDP Stream')\n",
    "plt.xlabel('Attack Type')\n",
    "plt.ylabel('UDP Stream')\n",
    "plt.show()"
   ]
  },
  {
   "cell_type": "markdown",
   "id": "1b658e95",
   "metadata": {
    "papermill": {
     "duration": 0.004478,
     "end_time": "2024-01-31T03:41:40.059914",
     "exception": false,
     "start_time": "2024-01-31T03:41:40.055436",
     "status": "completed"
    },
    "tags": []
   },
   "source": [
    "Logistic Regression"
   ]
  },
  {
   "cell_type": "code",
   "execution_count": 10,
   "id": "998a340c",
   "metadata": {
    "execution": {
     "iopub.execute_input": "2024-01-31T03:41:40.071239Z",
     "iopub.status.busy": "2024-01-31T03:41:40.070683Z",
     "iopub.status.idle": "2024-01-31T03:41:45.310370Z",
     "shell.execute_reply": "2024-01-31T03:41:45.309285Z"
    },
    "papermill": {
     "duration": 5.248503,
     "end_time": "2024-01-31T03:41:45.313111",
     "exception": false,
     "start_time": "2024-01-31T03:41:40.064608",
     "status": "completed"
    },
    "tags": []
   },
   "outputs": [
    {
     "name": "stdout",
     "output_type": "stream",
     "text": [
      "Accuracy: 0.9966\n",
      "\n",
      "Classification Report:\n",
      "               precision    recall  f1-score   support\n",
      "\n",
      "           0       1.00      1.00      1.00      4885\n",
      "           1       1.00      0.99      1.00      2875\n",
      "\n",
      "    accuracy                           1.00      7760\n",
      "   macro avg       1.00      1.00      1.00      7760\n",
      "weighted avg       1.00      1.00      1.00      7760\n",
      "\n"
     ]
    }
   ],
   "source": [
    "from sklearn.model_selection import train_test_split\n",
    "from sklearn.linear_model import LogisticRegression\n",
    "from sklearn.metrics import accuracy_score, classification_report\n",
    "\n",
    "# Assuming your DataFrame is named 'selected_columns'\n",
    "# Select features and target variable\n",
    "features = selected_columns[[ 'udp.stream']]\n",
    "target = selected_columns['Attack_label']\n",
    "\n",
    "# Split the data into training and testing sets\n",
    "X_train, X_test, y_train, y_test = train_test_split(features, target, test_size=0.2, random_state=42)\n",
    "\n",
    "# Create a logistic regression model\n",
    "model = LogisticRegression()\n",
    "\n",
    "# Train the model on the training set\n",
    "model.fit(X_train, y_train)\n",
    "\n",
    "# Make predictions on the test set\n",
    "predictions = model.predict(X_test)\n",
    "\n",
    "# Evaluate the model\n",
    "accuracy = accuracy_score(y_test, predictions)\n",
    "report = classification_report(y_test, predictions)\n",
    "\n",
    "# Print the results\n",
    "print(f'Accuracy: {accuracy:.4f}\\n')\n",
    "print('Classification Report:\\n', report)"
   ]
  },
  {
   "cell_type": "code",
   "execution_count": 11,
   "id": "20fda99c",
   "metadata": {
    "execution": {
     "iopub.execute_input": "2024-01-31T03:41:45.324927Z",
     "iopub.status.busy": "2024-01-31T03:41:45.324533Z",
     "iopub.status.idle": "2024-01-31T03:41:46.884020Z",
     "shell.execute_reply": "2024-01-31T03:41:46.883067Z"
    },
    "papermill": {
     "duration": 1.567593,
     "end_time": "2024-01-31T03:41:46.885897",
     "exception": false,
     "start_time": "2024-01-31T03:41:45.318304",
     "status": "completed"
    },
    "tags": []
   },
   "outputs": [
    {
     "name": "stdout",
     "output_type": "stream",
     "text": [
      "Accuracy: 0.6639\n",
      "\n",
      "Classification Report:\n",
      "               precision    recall  f1-score   support\n",
      "\n",
      "           0       0.65      1.00      0.79      4885\n",
      "           1       1.00      0.09      0.17      2875\n",
      "\n",
      "    accuracy                           0.66      7760\n",
      "   macro avg       0.83      0.55      0.48      7760\n",
      "weighted avg       0.78      0.66      0.56      7760\n",
      "\n"
     ]
    }
   ],
   "source": [
    "from sklearn.model_selection import train_test_split\n",
    "from sklearn.linear_model import LogisticRegression\n",
    "from sklearn.metrics import accuracy_score, classification_report\n",
    "\n",
    "# Assuming your DataFrame is named 'selected_columns'\n",
    "# Select features and target variable\n",
    "features = selected_columns[[ 'icmp.seq_le']]\n",
    "target = selected_columns['Attack_label']\n",
    "\n",
    "# Split the data into training and testing sets\n",
    "X_train, X_test, y_train, y_test = train_test_split(features, target, test_size=0.2, random_state=42)\n",
    "\n",
    "# Create a logistic regression model\n",
    "model = LogisticRegression()\n",
    "\n",
    "# Train the model on the training set\n",
    "model.fit(X_train, y_train)\n",
    "\n",
    "# Make predictions on the test set\n",
    "predictions = model.predict(X_test)\n",
    "\n",
    "# Evaluate the model\n",
    "accuracy = accuracy_score(y_test, predictions)\n",
    "report = classification_report(y_test, predictions)\n",
    "\n",
    "# Print the results\n",
    "print(f'Accuracy: {accuracy:.4f}\\n')\n",
    "print('Classification Report:\\n', report)"
   ]
  },
  {
   "cell_type": "code",
   "execution_count": 12,
   "id": "357b805c",
   "metadata": {
    "execution": {
     "iopub.execute_input": "2024-01-31T03:41:46.897548Z",
     "iopub.status.busy": "2024-01-31T03:41:46.897171Z",
     "iopub.status.idle": "2024-01-31T03:41:47.126378Z",
     "shell.execute_reply": "2024-01-31T03:41:47.125455Z"
    },
    "papermill": {
     "duration": 0.238074,
     "end_time": "2024-01-31T03:41:47.129007",
     "exception": false,
     "start_time": "2024-01-31T03:41:46.890933",
     "status": "completed"
    },
    "tags": []
   },
   "outputs": [
    {
     "name": "stdout",
     "output_type": "stream",
     "text": [
      "                             count          mean            std   min  \\\n",
      "arp.opcode                 14498.0  0.000000e+00       0.000000   0.0   \n",
      "arp.hw.size                14498.0  0.000000e+00       0.000000   0.0   \n",
      "icmp.checksum              14498.0  0.000000e+00       0.000000   0.0   \n",
      "icmp.seq_le                14498.0  3.163336e+03   11255.529072   0.0   \n",
      "icmp.transmit_timestamp    14498.0  0.000000e+00       0.000000   0.0   \n",
      "icmp.unused                14498.0  0.000000e+00       0.000000   0.0   \n",
      "http.content_length        14498.0  0.000000e+00       0.000000   0.0   \n",
      "http.response              14498.0  0.000000e+00       0.000000   0.0   \n",
      "http.tls_port              14498.0  0.000000e+00       0.000000   0.0   \n",
      "tcp.ack                    14498.0  0.000000e+00       0.000000   0.0   \n",
      "tcp.ack_raw                14498.0  0.000000e+00       0.000000   0.0   \n",
      "tcp.checksum               14498.0  0.000000e+00       0.000000   0.0   \n",
      "tcp.connection.fin         14498.0  0.000000e+00       0.000000   0.0   \n",
      "tcp.connection.rst         14498.0  0.000000e+00       0.000000   0.0   \n",
      "tcp.connection.syn         14498.0  0.000000e+00       0.000000   0.0   \n",
      "tcp.connection.synack      14498.0  0.000000e+00       0.000000   0.0   \n",
      "tcp.dstport                14498.0  0.000000e+00       0.000000   0.0   \n",
      "tcp.flags                  14498.0  0.000000e+00       0.000000   0.0   \n",
      "tcp.flags.ack              14498.0  0.000000e+00       0.000000   0.0   \n",
      "tcp.len                    14498.0  0.000000e+00       0.000000   0.0   \n",
      "tcp.seq                    14498.0  0.000000e+00       0.000000   0.0   \n",
      "udp.port                   14498.0  0.000000e+00       0.000000   0.0   \n",
      "udp.stream                 14498.0  1.318491e+06  901674.977107  12.0   \n",
      "udp.time_delta             14498.0  0.000000e+00       0.000000   0.0   \n",
      "dns.qry.name               14498.0  1.382314e+05  500429.078215   0.0   \n",
      "dns.qry.qu                 14498.0  0.000000e+00       0.000000   0.0   \n",
      "dns.qry.type               14498.0  0.000000e+00       0.000000   0.0   \n",
      "dns.retransmission         14498.0  0.000000e+00       0.000000   0.0   \n",
      "dns.retransmit_request     14498.0  0.000000e+00       0.000000   0.0   \n",
      "dns.retransmit_request_in  14498.0  0.000000e+00       0.000000   0.0   \n",
      "mqtt.conflag.cleansess     14498.0  0.000000e+00       0.000000   0.0   \n",
      "mqtt.conflags              14498.0  0.000000e+00       0.000000   0.0   \n",
      "mqtt.hdrflags              14498.0  0.000000e+00       0.000000   0.0   \n",
      "mqtt.len                   14498.0  0.000000e+00       0.000000   0.0   \n",
      "mqtt.msg_decoded_as        14498.0  0.000000e+00       0.000000   0.0   \n",
      "mqtt.msgtype               14498.0  0.000000e+00       0.000000   0.0   \n",
      "mqtt.proto_len             14498.0  0.000000e+00       0.000000   0.0   \n",
      "mqtt.topic_len             14498.0  0.000000e+00       0.000000   0.0   \n",
      "mqtt.ver                   14498.0  0.000000e+00       0.000000   0.0   \n",
      "mbtcp.len                  14498.0  0.000000e+00       0.000000   0.0   \n",
      "mbtcp.trans_id             14498.0  0.000000e+00       0.000000   0.0   \n",
      "mbtcp.unit_id              14498.0  0.000000e+00       0.000000   0.0   \n",
      "Attack_label               14498.0  1.000000e+00       0.000000   1.0   \n",
      "\n",
      "                                25%        50%        75%        max  \n",
      "arp.opcode                      0.0        0.0        0.0        0.0  \n",
      "arp.hw.size                     0.0        0.0        0.0        0.0  \n",
      "icmp.checksum                   0.0        0.0        0.0        0.0  \n",
      "icmp.seq_le                     0.0        0.0        0.0    65524.0  \n",
      "icmp.transmit_timestamp         0.0        0.0        0.0        0.0  \n",
      "icmp.unused                     0.0        0.0        0.0        0.0  \n",
      "http.content_length             0.0        0.0        0.0        0.0  \n",
      "http.response                   0.0        0.0        0.0        0.0  \n",
      "http.tls_port                   0.0        0.0        0.0        0.0  \n",
      "tcp.ack                         0.0        0.0        0.0        0.0  \n",
      "tcp.ack_raw                     0.0        0.0        0.0        0.0  \n",
      "tcp.checksum                    0.0        0.0        0.0        0.0  \n",
      "tcp.connection.fin              0.0        0.0        0.0        0.0  \n",
      "tcp.connection.rst              0.0        0.0        0.0        0.0  \n",
      "tcp.connection.syn              0.0        0.0        0.0        0.0  \n",
      "tcp.connection.synack           0.0        0.0        0.0        0.0  \n",
      "tcp.dstport                     0.0        0.0        0.0        0.0  \n",
      "tcp.flags                       0.0        0.0        0.0        0.0  \n",
      "tcp.flags.ack                   0.0        0.0        0.0        0.0  \n",
      "tcp.len                         0.0        0.0        0.0        0.0  \n",
      "tcp.seq                         0.0        0.0        0.0        0.0  \n",
      "udp.port                        0.0        0.0        0.0        0.0  \n",
      "udp.stream                 501643.5  1309285.5  2113580.0  2898725.0  \n",
      "udp.time_delta                  0.0        0.0        0.0        0.0  \n",
      "dns.qry.name                    0.0        0.0        0.0  2896968.0  \n",
      "dns.qry.qu                      0.0        0.0        0.0        0.0  \n",
      "dns.qry.type                    0.0        0.0        0.0        0.0  \n",
      "dns.retransmission              0.0        0.0        0.0        0.0  \n",
      "dns.retransmit_request          0.0        0.0        0.0        0.0  \n",
      "dns.retransmit_request_in       0.0        0.0        0.0        0.0  \n",
      "mqtt.conflag.cleansess          0.0        0.0        0.0        0.0  \n",
      "mqtt.conflags                   0.0        0.0        0.0        0.0  \n",
      "mqtt.hdrflags                   0.0        0.0        0.0        0.0  \n",
      "mqtt.len                        0.0        0.0        0.0        0.0  \n",
      "mqtt.msg_decoded_as             0.0        0.0        0.0        0.0  \n",
      "mqtt.msgtype                    0.0        0.0        0.0        0.0  \n",
      "mqtt.proto_len                  0.0        0.0        0.0        0.0  \n",
      "mqtt.topic_len                  0.0        0.0        0.0        0.0  \n",
      "mqtt.ver                        0.0        0.0        0.0        0.0  \n",
      "mbtcp.len                       0.0        0.0        0.0        0.0  \n",
      "mbtcp.trans_id                  0.0        0.0        0.0        0.0  \n",
      "mbtcp.unit_id                   0.0        0.0        0.0        0.0  \n",
      "Attack_label                    1.0        1.0        1.0        1.0  \n"
     ]
    }
   ],
   "source": [
    "DDOSUDP= df[df['Attack_type'].isin(['DDoS_UDP'])]\n",
    "summary_result = DDOSUDP.describe().transpose()\n",
    "print(summary_result)"
   ]
  },
  {
   "cell_type": "code",
   "execution_count": 13,
   "id": "f6f94f23",
   "metadata": {
    "execution": {
     "iopub.execute_input": "2024-01-31T03:41:47.141418Z",
     "iopub.status.busy": "2024-01-31T03:41:47.141119Z",
     "iopub.status.idle": "2024-01-31T03:41:49.532614Z",
     "shell.execute_reply": "2024-01-31T03:41:49.530227Z"
    },
    "papermill": {
     "duration": 2.399736,
     "end_time": "2024-01-31T03:41:49.534734",
     "exception": false,
     "start_time": "2024-01-31T03:41:47.134998",
     "status": "completed"
    },
    "tags": []
   },
   "outputs": [
    {
     "name": "stdout",
     "output_type": "stream",
     "text": [
      "                             count          mean           std  min  \\\n",
      "arp.opcode                 24301.0  1.892926e-03  4.710243e-02  0.0   \n",
      "arp.hw.size                24301.0  1.036994e-02  2.492282e-01  0.0   \n",
      "icmp.checksum              24301.0  0.000000e+00  0.000000e+00  0.0   \n",
      "icmp.seq_le                24301.0  0.000000e+00  0.000000e+00  0.0   \n",
      "icmp.transmit_timestamp    24301.0  0.000000e+00  0.000000e+00  0.0   \n",
      "icmp.unused                24301.0  0.000000e+00  0.000000e+00  0.0   \n",
      "http.content_length        24301.0  0.000000e+00  0.000000e+00  0.0   \n",
      "http.response              24301.0  0.000000e+00  0.000000e+00  0.0   \n",
      "http.tls_port              24301.0  0.000000e+00  0.000000e+00  0.0   \n",
      "tcp.ack                    24301.0  5.339086e+06  2.697221e+07  0.0   \n",
      "tcp.ack_raw                24301.0  1.794106e+09  1.296059e+09  0.0   \n",
      "tcp.checksum               24301.0  3.250189e+04  1.898810e+04  0.0   \n",
      "tcp.connection.fin         24301.0  1.069915e-01  3.091088e-01  0.0   \n",
      "tcp.connection.rst         24301.0  9.958438e-02  2.994512e-01  0.0   \n",
      "tcp.connection.syn         24301.0  4.818732e-02  2.141663e-01  0.0   \n",
      "tcp.connection.synack      24301.0  5.452451e-02  2.270544e-01  0.0   \n",
      "tcp.dstport                24301.0  3.170466e+04  2.778243e+04  0.0   \n",
      "tcp.flags                  24301.0  1.636904e+01  6.585464e+00  0.0   \n",
      "tcp.flags.ack              24301.0  8.460557e-01  3.609028e-01  0.0   \n",
      "tcp.len                    24301.0  1.375469e+02  4.095285e+02  0.0   \n",
      "tcp.seq                    24301.0  1.185050e+07  3.876182e+07  0.0   \n",
      "udp.port                   24301.0  5.000745e+01  1.562558e+03  0.0   \n",
      "udp.stream                 24301.0  1.998420e+01  9.312947e+02  0.0   \n",
      "udp.time_delta             24301.0  5.257808e-01  1.429677e+01  0.0   \n",
      "dns.qry.name               24301.0  3.181176e+00  4.953407e+02  0.0   \n",
      "dns.qry.qu                 24301.0  2.510185e-02  7.262477e-01  0.0   \n",
      "dns.qry.type               24301.0  0.000000e+00  0.000000e+00  0.0   \n",
      "dns.retransmission         24301.0  9.423481e-03  4.822291e-01  0.0   \n",
      "dns.retransmit_request     24301.0  4.115057e-05  6.414871e-03  0.0   \n",
      "dns.retransmit_request_in  24301.0  0.000000e+00  0.000000e+00  0.0   \n",
      "mqtt.conflag.cleansess     24301.0  5.143821e-02  2.208944e-01  0.0   \n",
      "mqtt.conflags              24301.0  1.028764e-01  4.417888e-01  0.0   \n",
      "mqtt.hdrflags              24301.0  1.676178e+01  5.043355e+01  0.0   \n",
      "mqtt.len                   24301.0  2.723016e+00  8.842785e+00  0.0   \n",
      "mqtt.msg_decoded_as        24301.0  0.000000e+00  0.000000e+00  0.0   \n",
      "mqtt.msgtype               24301.0  1.047611e+00  3.152097e+00  0.0   \n",
      "mqtt.proto_len             24301.0  2.057528e-01  8.835776e-01  0.0   \n",
      "mqtt.topic_len             24301.0  1.230567e+00  5.293435e+00  0.0   \n",
      "mqtt.ver                   24301.0  2.057528e-01  8.835776e-01  0.0   \n",
      "mbtcp.len                  24301.0  0.000000e+00  0.000000e+00  0.0   \n",
      "mbtcp.trans_id             24301.0  0.000000e+00  0.000000e+00  0.0   \n",
      "mbtcp.unit_id              24301.0  0.000000e+00  0.000000e+00  0.0   \n",
      "Attack_label               24301.0  0.000000e+00  0.000000e+00  0.0   \n",
      "\n",
      "                                   25%           50%           75%  \\\n",
      "arp.opcode                         0.0  0.000000e+00  0.000000e+00   \n",
      "arp.hw.size                        0.0  0.000000e+00  0.000000e+00   \n",
      "icmp.checksum                      0.0  0.000000e+00  0.000000e+00   \n",
      "icmp.seq_le                        0.0  0.000000e+00  0.000000e+00   \n",
      "icmp.transmit_timestamp            0.0  0.000000e+00  0.000000e+00   \n",
      "icmp.unused                        0.0  0.000000e+00  0.000000e+00   \n",
      "http.content_length                0.0  0.000000e+00  0.000000e+00   \n",
      "http.response                      0.0  0.000000e+00  0.000000e+00   \n",
      "http.tls_port                      0.0  0.000000e+00  0.000000e+00   \n",
      "tcp.ack                            1.0  6.000000e+00  5.900000e+01   \n",
      "tcp.ack_raw                616321299.0  1.860736e+09  2.707102e+09   \n",
      "tcp.checksum                   16100.0  3.239900e+04  4.891700e+04   \n",
      "tcp.connection.fin                 0.0  0.000000e+00  0.000000e+00   \n",
      "tcp.connection.rst                 0.0  0.000000e+00  0.000000e+00   \n",
      "tcp.connection.syn                 0.0  0.000000e+00  0.000000e+00   \n",
      "tcp.connection.synack              0.0  0.000000e+00  0.000000e+00   \n",
      "tcp.dstport                     1883.0  5.047000e+04  5.900900e+04   \n",
      "tcp.flags                         16.0  1.600000e+01  2.400000e+01   \n",
      "tcp.flags.ack                      1.0  1.000000e+00  1.000000e+00   \n",
      "tcp.len                            0.0  0.000000e+00  4.000000e+00   \n",
      "tcp.seq                            1.0  6.000000e+00  5.900000e+01   \n",
      "udp.port                           0.0  0.000000e+00  0.000000e+00   \n",
      "udp.stream                         0.0  0.000000e+00  0.000000e+00   \n",
      "udp.time_delta                     0.0  0.000000e+00  0.000000e+00   \n",
      "dns.qry.name                       0.0  0.000000e+00  0.000000e+00   \n",
      "dns.qry.qu                         0.0  0.000000e+00  0.000000e+00   \n",
      "dns.qry.type                       0.0  0.000000e+00  0.000000e+00   \n",
      "dns.retransmission                 0.0  0.000000e+00  0.000000e+00   \n",
      "dns.retransmit_request             0.0  0.000000e+00  0.000000e+00   \n",
      "dns.retransmit_request_in          0.0  0.000000e+00  0.000000e+00   \n",
      "mqtt.conflag.cleansess             0.0  0.000000e+00  0.000000e+00   \n",
      "mqtt.conflags                      0.0  0.000000e+00  0.000000e+00   \n",
      "mqtt.hdrflags                      0.0  0.000000e+00  0.000000e+00   \n",
      "mqtt.len                           0.0  0.000000e+00  0.000000e+00   \n",
      "mqtt.msg_decoded_as                0.0  0.000000e+00  0.000000e+00   \n",
      "mqtt.msgtype                       0.0  0.000000e+00  0.000000e+00   \n",
      "mqtt.proto_len                     0.0  0.000000e+00  0.000000e+00   \n",
      "mqtt.topic_len                     0.0  0.000000e+00  0.000000e+00   \n",
      "mqtt.ver                           0.0  0.000000e+00  0.000000e+00   \n",
      "mbtcp.len                          0.0  0.000000e+00  0.000000e+00   \n",
      "mbtcp.trans_id                     0.0  0.000000e+00  0.000000e+00   \n",
      "mbtcp.unit_id                      0.0  0.000000e+00  0.000000e+00   \n",
      "Attack_label                       0.0  0.000000e+00  0.000000e+00   \n",
      "\n",
      "                                    max  \n",
      "arp.opcode                 2.000000e+00  \n",
      "arp.hw.size                6.000000e+00  \n",
      "icmp.checksum              0.000000e+00  \n",
      "icmp.seq_le                0.000000e+00  \n",
      "icmp.transmit_timestamp    0.000000e+00  \n",
      "icmp.unused                0.000000e+00  \n",
      "http.content_length        0.000000e+00  \n",
      "http.response              0.000000e+00  \n",
      "http.tls_port              0.000000e+00  \n",
      "tcp.ack                    2.078478e+08  \n",
      "tcp.ack_raw                4.294633e+09  \n",
      "tcp.checksum               6.553500e+04  \n",
      "tcp.connection.fin         1.000000e+00  \n",
      "tcp.connection.rst         1.000000e+00  \n",
      "tcp.connection.syn         1.000000e+00  \n",
      "tcp.connection.synack      1.000000e+00  \n",
      "tcp.dstport                6.553300e+04  \n",
      "tcp.flags                  2.500000e+01  \n",
      "tcp.flags.ack              1.000000e+00  \n",
      "tcp.len                    1.440000e+03  \n",
      "tcp.seq                    2.079647e+08  \n",
      "udp.port                   6.031000e+04  \n",
      "udp.stream                 6.007600e+04  \n",
      "udp.time_delta             5.070000e+02  \n",
      "dns.qry.name               7.721755e+04  \n",
      "dns.qry.qu                 2.200000e+01  \n",
      "dns.qry.type               0.000000e+00  \n",
      "dns.retransmission         2.800000e+01  \n",
      "dns.retransmit_request     1.000000e+00  \n",
      "dns.retransmit_request_in  0.000000e+00  \n",
      "mqtt.conflag.cleansess     1.000000e+00  \n",
      "mqtt.conflags              2.000000e+00  \n",
      "mqtt.hdrflags              2.240000e+02  \n",
      "mqtt.len                   3.900000e+01  \n",
      "mqtt.msg_decoded_as        0.000000e+00  \n",
      "mqtt.msgtype               1.400000e+01  \n",
      "mqtt.proto_len             4.000000e+00  \n",
      "mqtt.topic_len             2.400000e+01  \n",
      "mqtt.ver                   4.000000e+00  \n",
      "mbtcp.len                  0.000000e+00  \n",
      "mbtcp.trans_id             0.000000e+00  \n",
      "mbtcp.unit_id              0.000000e+00  \n",
      "Attack_label               0.000000e+00  \n"
     ]
    }
   ],
   "source": [
    "Normaldf= df[df['Attack_type'].isin(['Normal'])]\n",
    "summary_result = Normaldf.describe().transpose()\n",
    "print(summary_result)"
   ]
  }
 ],
 "metadata": {
  "kaggle": {
   "accelerator": "none",
   "dataSources": [
    {
     "datasetId": 1870444,
     "sourceId": 3319673,
     "sourceType": "datasetVersion"
    }
   ],
   "dockerImageVersionId": 30646,
   "isGpuEnabled": false,
   "isInternetEnabled": true,
   "language": "python",
   "sourceType": "notebook"
  },
  "kernelspec": {
   "display_name": "Python 3",
   "language": "python",
   "name": "python3"
  },
  "language_info": {
   "codemirror_mode": {
    "name": "ipython",
    "version": 3
   },
   "file_extension": ".py",
   "mimetype": "text/x-python",
   "name": "python",
   "nbconvert_exporter": "python",
   "pygments_lexer": "ipython3",
   "version": "3.11.9"
  },
  "papermill": {
   "default_parameters": {},
   "duration": 69.756345,
   "end_time": "2024-01-31T03:41:50.563309",
   "environment_variables": {},
   "exception": null,
   "input_path": "__notebook__.ipynb",
   "output_path": "__notebook__.ipynb",
   "parameters": {},
   "start_time": "2024-01-31T03:40:40.806964",
   "version": "2.5.0"
  }
 },
 "nbformat": 4,
 "nbformat_minor": 5
}
